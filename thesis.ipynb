{
 "cells": [
  {
   "cell_type": "markdown",
   "metadata": {},
   "source": [
    "Подключаемые библиотеки"
   ]
  },
  {
   "cell_type": "code",
   "execution_count": 1,
   "metadata": {
    "collapsed": false,
    "scrolled": false
   },
   "outputs": [
    {
     "name": "stderr",
     "output_type": "stream",
     "text": [
      "/usr/lib64/python2.7/site-packages/pandas/io/data.py:33: FutureWarning: \n",
      "The pandas.io.data module is moved to a separate package (pandas-datareader) and will be removed from pandas in a future version.\n",
      "After installing the pandas-datareader package (https://github.com/pydata/pandas-datareader), you can change the import ``from pandas.io import data, wb`` to ``from pandas_datareader import data, wb``.\n",
      "  FutureWarning)\n"
     ]
    }
   ],
   "source": [
    "import re\n",
    "import random\n",
    "import urllib2\n",
    "import numpy as np\n",
    "import pandas as pd\n",
    "import pandas.io.data as web\n",
    "import matplotlib.pyplot as plt\n",
    "import scipy.optimize as sco\n",
    "\n",
    "from bs4 import BeautifulSoup"
   ]
  },
  {
   "cell_type": "markdown",
   "metadata": {},
   "source": [
    "Настройки отображения графиков:"
   ]
  },
  {
   "cell_type": "code",
   "execution_count": 2,
   "metadata": {
    "collapsed": false
   },
   "outputs": [],
   "source": [
    "%matplotlib inline\n",
    "plt.style.use('fivethirtyeight') # The most fanciest styles are 'ggplot' and 'fivethirtyeight'\n",
    "# All available styles may be checked by\n",
    "#print plt.style.available"
   ]
  },
  {
   "cell_type": "code",
   "execution_count": 3,
   "metadata": {
    "collapsed": false
   },
   "outputs": [],
   "source": [
    "class sp_500():\n",
    "    sector_tickers = {}\n",
    "    symbols = []\n",
    "    \n",
    "    def __init__(self):\n",
    "        self.symbols = []\n",
    "        self.sector_tickers = dict()\n",
    "        \n",
    "        site = \"http://en.wikipedia.org/wiki/List_of_S%26P_500_companies\"\n",
    "        hdr = {'User-Agent': 'Mozilla/5.0'}\n",
    "        req = urllib2.Request(site, headers=hdr)\n",
    "        page = urllib2.urlopen(req)\n",
    "        soup = BeautifulSoup(page, \"lxml\")\n",
    "\n",
    "        table = soup.find('table', {'class': 'wikitable sortable'})\n",
    "    \n",
    "        for row in table.findAll('tr'):\n",
    "            col = row.findAll('td')\n",
    "            if len(col) > 0:\n",
    "                sector = str(col[3].string.strip()).lower().replace(' ', '_')\n",
    "                ticker = str(col[0].string.strip())\n",
    "                date = str(col[6]).replace('<td>', '').replace('</td>', '')\n",
    "                #if date < historical_end_date:\n",
    "                if sector not in self.sector_tickers:\n",
    "                    self.sector_tickers[sector] = list()\n",
    "                self.sector_tickers[sector].append(ticker)\n",
    "                self.symbols.append(ticker)\n",
    "        \n",
    "       \n",
    "    # Show sectors summary\n",
    "    def sectors(self):\n",
    "        for s in self.sector_tickers:\n",
    "            print s + ': ' + str(len(self.sector_tickers[s])) + ' companies'\n",
    "            \n",
    "    # Show the sector summary and companies in it\n",
    "    def show(self, sector = None):\n",
    "        if sector == None:\n",
    "            self.sectors()\n",
    "        else:\n",
    "            print sector + ' sector of S&P500\\n' + str(len(self.sector_tickers[sector])) + ' companies:'\n",
    "            print self.sector_tickers[sector]\n",
    "    \n",
    "    # Get the company symbols\n",
    "    def get(self, sector = None):\n",
    "        symbols = []\n",
    "        if sector == None:\n",
    "            # Get the companies from all S&P500 sectors\n",
    "            for s in self.sector_tickers:\n",
    "                for sym in self.sector_tickers[s]:\n",
    "                    symbols.append(sym)\n",
    "        else:\n",
    "            # Get the companies from the given sector\n",
    "            for sym in self.sector_tickers[sector]:\n",
    "                symbols.append(sym)\n",
    "        return symbols\n",
    "    \n",
    "    # Get random number of stocks\n",
    "    def random(self, num):\n",
    "        return random.sample(self.symbols, num)"
   ]
  },
  {
   "cell_type": "markdown",
   "metadata": {},
   "source": [
    "Получение наименования компаний, входящих в S&P500 на данный момент (в момент запуска) "
   ]
  },
  {
   "cell_type": "code",
   "execution_count": 4,
   "metadata": {
    "collapsed": false,
    "scrolled": false
   },
   "outputs": [],
   "source": [
    "sp500 = sp_500()"
   ]
  },
  {
   "cell_type": "code",
   "execution_count": 21,
   "metadata": {
    "collapsed": false
   },
   "outputs": [],
   "source": [
    "class portfolio:\n",
    "    data = [] # storing stock prices for the companies in the portfolio\n",
    "    spy = [] # storing SPDR S&P 500 ETF index prices for the given period\n",
    "    returns = []\n",
    "    start_prices = []\n",
    "    end_prices = []\n",
    "\n",
    "    threshold = 0.01 # the companies with weights below this value are not included in portfolio\n",
    "    \n",
    "    # Constructor\n",
    "    def __init__(self, _symbols, _start, _end, _weights=None):\n",
    "        # Initializing data\n",
    "        self.data = pd.DataFrame()\n",
    "        self.spy = pd.DataFrame()\n",
    "        self.num_of_days = -1\n",
    "        self.feasible_returns = []\n",
    "        self.feasible_volatilities = []\n",
    "        self.feasible_weights = []\n",
    "    \n",
    "        self.effective_volatilities = []\n",
    "        self.effective_returns = []\n",
    "        self.effective_weights = []\n",
    "        \n",
    "        self.symbols = []\n",
    "        self.sharpe_symbols = []\n",
    "        self.min_variance_symbols = []\n",
    "        \n",
    "        # \n",
    "        self.start = _start\n",
    "        self.end = _end\n",
    "        \n",
    "        self.fetch(_symbols)\n",
    "        self.set_returns() \n",
    "        self.set_start_end_prices()\n",
    "        \n",
    "        if _weights != None:\n",
    "            self.fetch_sp500()\n",
    "            self.test(_weights)\n",
    "            self.show_sp500()\n",
    "    \n",
    "    # Get percent-view of an number (-24.5% instead of -0.245)\n",
    "    def percent(self, i):\n",
    "        formatted = str(i.round(3) * 100) + '%'\n",
    "        if i > 0:\n",
    "            formatted = '+' + formatted\n",
    "        return formatted\n",
    "    \n",
    "    #\n",
    "    def set_days(self):\n",
    "        for sym in self.symbols:\n",
    "            if len(self.data[sym]) == self.num_of_days:\n",
    "                start = str( re.split(' ', str(self.data[sym].axes[0][0]))[0])\n",
    "                end = str( re.split(' ', str(self.data[sym].axes[0][-1]))[0])\n",
    "                if self.start != start or self.end != end:\n",
    "                    self.start = start\n",
    "                    self.end = end\n",
    "                    print '\\nInvestment period adjusted to ' + self.start + ' - ' + self.end\n",
    "                return\n",
    "            \n",
    "        print 'Error setting investment period'\n",
    "        return            \n",
    "    \n",
    "    # Вычисление логарифмически нормализованых доходностей (отношения уровня закрытия текущего дня к предыдущему) за исторический период   \n",
    "    def set_returns(self):\n",
    "        self.returns = np.log(self.data / self.data.shift(1))\n",
    "    \n",
    "    # \n",
    "    def set_start_end_prices(self):\n",
    "        self.start_prices = []\n",
    "        self.end_prices = []\n",
    "        for sym in self.symbols:\n",
    "            self.start_prices.append(self.data[sym][self.start])\n",
    "            self.end_prices.append(self.data[sym][self.end])\n",
    "    \n",
    "    # Retrieving stock prices\n",
    "    def fetch(self, symbols):\n",
    "        print \"Fetching symbols data:\"\n",
    "        for sym in symbols:\n",
    "            try:\n",
    "                data = pd.DataFrame()\n",
    "                data  = web.DataReader(sym, data_source='yahoo', start=self.start, end=self.end)['Adj Close']\n",
    "                \n",
    "                if self.num_of_days != -1 and len(data) < self.num_of_days:\n",
    "                    print sym + ': historical data contains NaN. Excluding'\n",
    "                    continue\n",
    "                else:\n",
    "                    self.symbols.append(sym)\n",
    "                    self.data[sym] = data\n",
    "                    if self.data[sym].size != self.num_of_days:\n",
    "                        self.num_of_days = self.data[sym].size\n",
    "            except IOError:\n",
    "                print sym + ': no data available for requested period'\n",
    "                continue\n",
    "\n",
    "        self.data.column = self.symbols\n",
    "        self.set_days()\n",
    "        print 'Data fetched for ' + str(len(self.symbols)) + ' symbols and '+ str(self.num_of_days)  + ' trading days'\n",
    "        return\n",
    "    \n",
    "    # Retrieving data for SPDR S&P 500 ETF index:\n",
    "    def fetch_sp500(self):\n",
    "        self.spy = web.DataReader('^GSPC', data_source='yahoo', start=self.start, end=self.end)['Adj Close']\n",
    "        self.spy.column = '^GSPC'\n",
    "        \n",
    "    #\n",
    "    def show(self, weights):\n",
    "        print \"Investment period: \" + self.start + \" - \" + self.end\n",
    "        \n",
    "        print \"Portfolio volatility: \" + str( self.statistics(weights)[0].round(3) )\n",
    "        print \"Portfolio return: \" + str( self.statistics(weights)[1].round(3) )   \n",
    "        print \"Sharpe ratio: \"  + str( self.statistics(weights)[2].round(3) )  \n",
    "        \n",
    "        print \"Portfolio weights:\"    \n",
    "        for sym, w in zip(self.symbols, weights):\n",
    "            if w > self.threshold:\n",
    "                print sym + ': ' + str(w.round(3))\n",
    "    \n",
    "    # Show the line with symbol statistics\n",
    "    # AAPL: 67.802 -> 72.73 (+7.3%)\n",
    "    def show_symbol(self, sym, weight, start_price, end_price, return_rate):\n",
    "        if weight == None:\n",
    "            print sym + ': ' + str(start_price.round(2)) + ' -> ' + str(end_price.round(2)) + ' (' + self.percent(return_rate) + ')'\n",
    "        else:\n",
    "            print sym + ' (' + str(weight) + '): ' + str(start_price.round(2)) + ' -> ' + str(end_price.round(2)) + ' (' + self.percent(return_rate) + ')'\n",
    "    #\n",
    "    def show_sp500(self):\n",
    "        start = self.spy[self.start]\n",
    "        end = self.spy[self.end]\n",
    "        return_rate = (end - start) / start\n",
    "        self.show_symbol('S&P500', None, start, end, return_rate)\n",
    "\n",
    "    #\n",
    "    def test(self, weights):     \n",
    "        portfolio_start = 0\n",
    "        portfolio_end = 0\n",
    "        \n",
    "        for s, sp, ep, w in zip(self.symbols, self.start_prices, self.end_prices, weights):\n",
    "            ret = (ep - sp) / sp  \n",
    "            portfolio_start = portfolio_start + sp * w\n",
    "            portfolio_end = portfolio_end + ep * w\n",
    "            self.show_symbol(s, w, sp, ep, ret)\n",
    "            \n",
    "        portfolio_return = (portfolio_end - portfolio_start) / portfolio_start\n",
    "        print '\\nPortfolio return: ' + self.percent(portfolio_return)\n",
    "        \n",
    "        return\n",
    "    \n",
    "    def show_limits(self):\n",
    "        min_vol = self.statistics(self.get_min_variance_weights())[0]\n",
    "        min_return = self.statistics(self.get_min_variance_weights())[1]\n",
    "        \n",
    "        max_vol = self.statistics(self.get_max_return_weights())[0]\n",
    "        max_return = self.statistics(self.get_max_return_weights())[1]\n",
    "        \n",
    "        print 'Volatilities limits: ' + str(min_vol.round(3)) + ' - ' + str(max_vol.round(3))\n",
    "        print 'Returns limits: ' + str(min_return.round(3)) + ' - ' + str(max_return.round(3))\n",
    "    \n",
    "    #\n",
    "    def calc(self, _min_return, _max_return, _step, _precision):\n",
    "        self.min_return = _min_return # minimal return value \n",
    "        self.max_return = _max_return # maximum return value\n",
    "        self.step = _step\n",
    "        self.precision = _precision\n",
    "        \n",
    "        self.get_effective_set()\n",
    "        \n",
    "        self.show_limits()\n",
    "        \n",
    "        #print '\\nThe highest Sharpe ratio portfolio: '\n",
    "        #self.show( self.get_max_sharpe_weights() )\n",
    "        \n",
    "        #print '\\nThe minimal variance porfolio: '\n",
    "        #self.show( self.get_min_variance_weights() )\n",
    "        \n",
    "    \n",
    "    # \n",
    "    def get_risky(self):\n",
    "        if len(self.sharpe_symbols) > 0:\n",
    "            return self.sharpe_symbols, self.sharpe_weights\n",
    "        else:\n",
    "            print 'The optimal portfolio is not calculated. Run calc() first'\n",
    "            \n",
    "    #\n",
    "    def get_conservative(self):\n",
    "        if len(self.min_variance_symbols) > 0:\n",
    "            return self.min_variance_symbols, self.min_variance_weights\n",
    "        else:\n",
    "            print 'The optimal portfolio is not calculated. Run calc() first'\n",
    "        return\n",
    "    \n",
    "    # Вычисление эффективного множества (effective set)\n",
    "    def get_effective_set(self):\n",
    "        self.effective_volatilities = []\n",
    "        self.effective_returns = []\n",
    "        self.effective_weights = []\n",
    "    \n",
    "        cons = ({'type': 'eq', 'fun': lambda x: np.sum(x) - 1})\n",
    "        bnds = tuple((0, 1) for x in range(len(self.symbols)))\n",
    "\n",
    "        for y in np.linspace(self.min_return, self.max_return, self.step):\n",
    "            cons = ({'type': 'eq', 'fun': lambda x: self.statistics(x)[1] - y}, {'type': 'eq', 'fun': lambda x: np.sum(x) - 1})\n",
    "            if self.precision != None:\n",
    "                result = sco.minimize(self.min_volatility, len(self.symbols) * [1. / len(self.symbols),], method='SLSQP', bounds=bnds, constraints=cons, options={'ftol':self.precision})\n",
    "            else:\n",
    "                result = sco.minimize(self.min_volatility, len(self.symbols) * [1. / len(self.symbols),], method='SLSQP', bounds=bnds, constraints=cons)\n",
    "            self.effective_volatilities.append(result['fun'])\n",
    "            self.effective_returns.append(y)\n",
    "            self.effective_weights.append(result['x'])\n",
    "    \n",
    "        self.effective_volatilities = np.array(self.effective_volatilities)\n",
    "        self.effective_returns = np.array(self.effective_returns)\n",
    "        self.effective_weights = np.array(self.effective_weights)\n",
    "        \n",
    "        print 'Effective set calculated'\n",
    "\n",
    "    # Функция, получающая веса бумаг в портфеле в качестве входных параметров, и возвращающая массив \n",
    "    # данных о портфеле в формате [волатильность, доходность, коэффициент Шарпа]\n",
    "    def statistics(self, weights):\n",
    "        weights = np.array(weights)\n",
    "        portfolio_return = self.get_portfolio_return(weights)\n",
    "        portfolio_volatility = np.sqrt(np.dot(weights.T, np.dot(self.returns.cov() * self.num_of_days, weights)))\n",
    "    \n",
    "        return np.array([portfolio_volatility, portfolio_return, portfolio_return / portfolio_volatility])\n",
    "    \n",
    "    # Функция вычисления минимального отклонения\n",
    "    def min_volatility(self, weights):\n",
    "        return self.statistics(weights)[0]\n",
    "    \n",
    "    # Функция вычисления доходности портфеля\n",
    "    def get_portfolio_return(self, weights):\n",
    "        portfolio_start_price = 0\n",
    "        portfolio_end_price = 0\n",
    "\n",
    "        for w, sp, ep in zip(weights, self.start_prices, self.end_prices):\n",
    "            portfolio_start_price = portfolio_start_price + w * sp\n",
    "            portfolio_end_price = portfolio_end_price + w * ep\n",
    "        \n",
    "        try:\n",
    "            return ((portfolio_end_price - portfolio_start_price) / portfolio_start_price)\n",
    "        except ZeroDivisionError:\n",
    "            print 'Zero division exception'\n",
    "            print weights\n",
    "            return 0\n",
    "        #return np.sum(returns.mean() * weights) * num_of_days\n",
    "    \n",
    "    \n",
    "    # Функция вычисления портфеля с приемлемым уровнем риска\n",
    "    def get_acceptable(self, _max_risk):\n",
    "        volatility = 0 \n",
    "        weights = []\n",
    "        for r, v, w in zip(self.effective_returns, self.effective_volatilities, self.effective_weights):\n",
    "            if v >= volatility:\n",
    "                if v <= _max_risk:\n",
    "                    weights = w\n",
    "\n",
    "        self.acceptable_symbols = []\n",
    "        self.acceptable_weights = []\n",
    "        for sym, w in zip(self.symbols, weights):\n",
    "            if w > self.threshold:\n",
    "                self.acceptable_symbols.append(sym)\n",
    "                self.acceptable_weights.append(w.round(3))\n",
    "        \n",
    "        return self.acceptable_symbols, self.acceptable_weights\n",
    "    \n",
    "    # Функция вычисления портфеля с максимальным коэффицентом Шарпа (отношением доходность/волатильность)\n",
    "    def get_max_sharpe_weights(self):\n",
    "        max_sharpe = 0\n",
    "        weights = []\n",
    "        for r, v, w in zip(self.effective_returns, self.effective_volatilities, self.effective_weights):\n",
    "            if r / v > max_sharpe:\n",
    "                max_sharpe =  r / v\n",
    "                weights = w\n",
    "                \n",
    "        self.sharpe_symbols = []\n",
    "        self.sharpe_weights = []\n",
    "        for sym, w in zip(self.symbols, weights):\n",
    "            if w > self.threshold:\n",
    "                self.sharpe_symbols.append(sym)\n",
    "                self.sharpe_weights.append(w.round(3)) # FIXME: shoudn't round value maybe\n",
    "        \n",
    "        return weights\n",
    "    \n",
    "    # Функция вычисления портфеля с минимальной волатильностью\n",
    "    def get_min_variance_weights(self):\n",
    "        min_variance = 10\n",
    "        weights = []\n",
    "        for v, w in zip(self.effective_volatilities, self.effective_weights):\n",
    "            if v < min_variance:\n",
    "                min_variance =  v\n",
    "                weights = w\n",
    "                \n",
    "        self.min_variance_symbols = []\n",
    "        self.min_variance_weights = []\n",
    "        for sym, w in zip(self.symbols, weights):\n",
    "            if w.round(3) > 0.001:\n",
    "                self.min_variance_symbols.append(sym)\n",
    "                self.min_variance_weights.append(w.round(3)) # FIXME: shoudn't round value maybe\n",
    "\n",
    "        return weights\n",
    "\n",
    "    def get_max_return_weights(self):\n",
    "        weights = []\n",
    "        max_return = 0\n",
    "        for r, w in zip(self.effective_returns, self.effective_weights):\n",
    "            if r > max_return:\n",
    "                max_return = r\n",
    "                weights = w\n",
    "                \n",
    "        self.max_return_symbols = []\n",
    "        self.max_return_weights = []\n",
    "        for sym, w in zip(self.symbols, weights):\n",
    "            if w > self.threshold:\n",
    "                self.max_return_symbols.append(sym)\n",
    "                self.max_return_weights.append(w.round(3)) # FIXME: shoudn't round value maybe\n",
    "        \n",
    "        return weights\n",
    "    \n",
    "    def plot(self):\n",
    "        plt.figure(figsize=(12, 6))\n",
    "\n",
    "        x_min_vol = self.statistics(self.get_min_variance_weights())[0]\n",
    "        y_min_vol = self.statistics(self.get_min_variance_weights())[1]\n",
    "        \n",
    "        x_sharpe = self.statistics(self.get_max_sharpe_weights())[0]\n",
    "        y_sharpe = self.statistics(self.get_max_sharpe_weights())[1]\n",
    "        \n",
    "        x_max_return = self.statistics(self.get_max_return_weights())[0]\n",
    "        y_max_return = self.statistics(self.get_max_return_weights())[1]\n",
    "\n",
    "        #plt.scatter(feasible_volatilities, feasible_returns, c = feasible_returns / feasible_volatilities, marker='o')\n",
    "        plt.scatter(self.effective_volatilities, self.effective_returns, c = self.effective_returns / self.effective_volatilities, marker='x')\n",
    "        plt.plot(x_sharpe, y_sharpe, 'rs', markersize=8.0) # portfolio with highest Sharpe ratio\n",
    "        plt.plot(x_min_vol, y_min_vol, 'ys', markersize=8.0) # portfolio with minimal volatility\n",
    "        plt.plot(x_max_return, y_max_return, 'gs', markersize=8.0) # portfolio with minimal volatility\n",
    "        \n",
    "        plt.colorbar(label='Sharpe ratio')\n",
    "        plt.xlabel(r'$\\sigma_p$')\n",
    "        plt.ylabel(r'$\\bar{r_p}$')\n",
    "        "
   ]
  },
  {
   "cell_type": "code",
   "execution_count": 22,
   "metadata": {
    "collapsed": false
   },
   "outputs": [],
   "source": [
    "companies = sp500.random(30)"
   ]
  },
  {
   "cell_type": "code",
   "execution_count": 18,
   "metadata": {
    "collapsed": false
   },
   "outputs": [
    {
     "name": "stdout",
     "output_type": "stream",
     "text": [
      "Fetching symbols data:\n",
      "\n",
      "Investment period adjusted to 2013-01-02 - 2014-12-31\n",
      "Data fetched for 10 symbols and 504 trading days\n"
     ]
    }
   ],
   "source": [
    "p = portfolio(companies, '2013-01-01', '2015-01-01')"
   ]
  },
  {
   "cell_type": "markdown",
   "metadata": {},
   "source": [
    "Вычисление оптимальных портфелей. \n",
    "Передаваемые аргументы (минимальная доходность, максимальная доходность, шаг, точность вычислений) имееют решающее значение для времени вычисления оптимального портфеля.\n",
    "Точность ниже 1e-03 приводит к прерывистому или неровному характеру эффективного множества."
   ]
  },
  {
   "cell_type": "code",
   "execution_count": 19,
   "metadata": {
    "collapsed": false,
    "scrolled": true
   },
   "outputs": [
    {
     "name": "stdout",
     "output_type": "stream",
     "text": [
      "Effective set calculated\n",
      "Volatilies limits: 0.142 - 0.285\n",
      "Returns limits: 0.372 - 0.877\n",
      "CPU times: user 6.22 s, sys: 0 ns, total: 6.22 s\n",
      "Wall time: 6.22 s\n"
     ]
    }
   ],
   "source": [
    "%time p.calc(0.0, 1.2, 30, 1e-04)"
   ]
  },
  {
   "cell_type": "code",
   "execution_count": 20,
   "metadata": {
    "collapsed": false
   },
   "outputs": [
    {
     "data": {
      "image/png": "[encoded data removed]",
      "text/plain": [
       "<matplotlib.figure.Figure at 0x7ff059b3f590>"
      ]
     },
     "metadata": {},
     "output_type": "display_data"
    }
   ],
   "source": [
    "p.plot()"
   ]
  },
  {
   "cell_type": "markdown",
   "metadata": {},
   "source": [
    "Проверяем доходности полученных оптимальных портфелей на нужном промежутке времени. Значение max_risk должно быть выбрано инвестором на основании построенного выше эффективного множества, и это значение волатильности должно находиться в промежутке между портфелем с минимальной волатильностью и портфелем с максимальным коэффициентом Шарпа"
   ]
  },
  {
   "cell_type": "code",
   "execution_count": 66,
   "metadata": {
    "collapsed": true
   },
   "outputs": [],
   "source": [
    "start_date = '2015-01-01'\n",
    "end_date = '2016-01-01'"
   ]
  },
  {
   "cell_type": "code",
   "execution_count": 67,
   "metadata": {
    "collapsed": false
   },
   "outputs": [
    {
     "name": "stdout",
     "output_type": "stream",
     "text": [
      "Fetching symbols data:\n",
      "\n",
      "Investment period adjusted to 2015-01-02 - 2015-12-31\n",
      "Data fetched for 6 symbols and 252 trading days\n",
      "APD (0.219): 142.03 -> 130.11 (-8.4%)\n",
      "AA (0.058): 15.65 -> 9.83 (-37.2%)\n",
      "BLL (0.131): 67.67 -> 72.59 (+7.3%)\n",
      "DD (0.369): 67.79 -> 66.17 (-2.4%)\n",
      "SEE (0.147): 42.12 -> 44.47 (+5.6%)\n",
      "SHW (0.076): 259.08 -> 258.76 (-0.1%)\n",
      "\n",
      "Portfolio return: -2.8%\n",
      "S&P500: 2058.2 -> 2043.94 (-0.7%)\n"
     ]
    }
   ],
   "source": [
    "max_risk = 0.2\n",
    "r = portfolio(p.get_acceptable(max_risk)[0], start_date, end_date, p.get_acceptable(max_risk)[1])"
   ]
  },
  {
   "cell_type": "code",
   "execution_count": 19,
   "metadata": {
    "collapsed": false
   },
   "outputs": [
    {
     "name": "stdout",
     "output_type": "stream",
     "text": [
      "Fetching symbols data:\n",
      "\n",
      "Investment period adjusted to 2014-01-02 - 2014-12-31\n",
      "Data fetched for 32 symbols and 252 trading days\n",
      "NLSN (0.024): 42.85 -> 43.42 (+1.3%)\n",
      "WM (0.012): 41.21 -> 49.46 (+20.0%)\n",
      "AZO (0.043): 474.11 -> 619.11 (+30.6%)\n",
      "DG (0.016): 60.47 -> 69.86 (+15.5%)\n",
      "KSS (0.022): 53.15 -> 58.53 (+10.1%)\n",
      "MCD (0.057): 89.41 -> 89.9 (+0.5%)\n",
      "PCLN (0.014): 1145.44 -> 1140.21 (-0.5%)\n",
      "TGT (0.026): 59.02 -> 73.18 (+24.0%)\n",
      "ED (0.052): 49.66 -> 62.78 (+26.4%)\n",
      "DUK (0.03): 61.87 -> 79.17 (+28.0%)\n",
      "EXC (0.035): 24.94 -> 35.33 (+41.7%)\n",
      "PPL (0.045): 26.77 -> 34.28 (+28.0%)\n",
      "SO (0.039): 36.6 -> 46.32 (+26.5%)\n",
      "ABC (0.027): 67.89 -> 88.76 (+30.7%)\n",
      "CAH (0.013): 63.81 -> 79.32 (+24.3%)\n",
      "HUM (0.014): 101.32 -> 142.73 (+40.9%)\n",
      "JNJ (0.035): 85.41 -> 100.83 (+18.1%)\n",
      "LH (0.021): 90.23 -> 107.9 (+19.6%)\n",
      "MCK (0.034): 158.28 -> 206.18 (+30.3%)\n",
      "MRK (0.012): 46.07 -> 54.48 (+18.3%)\n",
      "DGX (0.016): 50.32 -> 65.28 (+29.7%)\n",
      "CLX (0.044): 85.48 -> 100.83 (+18.0%)\n",
      "CAG (0.013): 31.52 -> 35.14 (+11.5%)\n",
      "GIS (0.027): 46.04 -> 51.29 (+11.4%)\n",
      "K (0.056): 56.91 -> 63.08 (+10.8%)\n",
      "PEP (0.046): 77.01 -> 91.23 (+18.5%)\n",
      "HSY (0.014): 91.13 -> 100.82 (+10.6%)\n",
      "WMT (0.069): 74.35 -> 82.94 (+11.6%)\n",
      "CME (0.031): 70.21 -> 83.62 (+19.1%)\n",
      "PGR (0.01): 23.75 -> 25.53 (+7.5%)\n",
      "ADS (0.02): 262.34 -> 286.05 (+9.0%)\n",
      "AAPL (0.012): 75.68 -> 107.95 (+42.6%)\n",
      "\n",
      "Portfolio return: +17.8%\n",
      "S&P500: 1831.98 -> 2058.9 (+12.4%)\n"
     ]
    }
   ],
   "source": [
    "max_risk = 0.112\n",
    "r = portfolio(p.get_acceptable(max_risk)[0], start_date, end_date, p.get_acceptable(max_risk)[1])"
   ]
  },
  {
   "cell_type": "markdown",
   "metadata": {},
   "source": [
    "Оптимальный портфель (с минимальной волатильностью)"
   ]
  },
  {
   "cell_type": "code",
   "execution_count": 68,
   "metadata": {
    "collapsed": false,
    "scrolled": true
   },
   "outputs": [
    {
     "name": "stdout",
     "output_type": "stream",
     "text": [
      "Fetching symbols data:\n",
      "\n",
      "Investment period adjusted to 2015-01-02 - 2015-12-31\n",
      "Data fetched for 12 symbols and 252 trading days\n",
      "AVY (0.009): 50.26 -> 62.31 (+24.0%)\n",
      "BLL (0.226): 67.67 -> 72.59 (+7.3%)\n",
      "CF (0.042): 53.82 -> 40.38 (-25.0%)\n",
      "DD (0.168): 67.79 -> 66.17 (-2.4%)\n",
      "ECL (0.063): 102.75 -> 114.0 (+10.9%)\n",
      "FMC (0.005): 56.13 -> 39.13 (-30.3%)\n",
      "IFF (0.006): 99.04 -> 119.64 (+20.8%)\n",
      "MON (0.118): 116.78 -> 97.97 (-16.1%)\n",
      "MOS (0.003): 44.12 -> 27.31 (-38.1%)\n",
      "NEM (0.04): 19.23 -> 17.97 (-6.5%)\n",
      "PX (0.304): 125.84 -> 101.66 (-19.2%)\n",
      "SHW (0.017): 259.08 -> 258.76 (-0.1%)\n",
      "\n",
      "Portfolio return: -9.1%\n",
      "S&P500: 2058.2 -> 2043.94 (-0.7%)\n"
     ]
    }
   ],
   "source": [
    "c = portfolio(p.get_conservative()[0], start_date, end_date, p.get_conservative()[1])"
   ]
  },
  {
   "cell_type": "code",
   "execution_count": 39,
   "metadata": {
    "collapsed": false
   },
   "outputs": [
    {
     "data": {
      "text/plain": [
       "(['VIAB', 'BAC', 'NKE', 'HBI', 'CVS', 'FOXA', 'EBAY'],\n",
       " [0.17799999999999999,\n",
       "  0.044999999999999998,\n",
       "  0.069000000000000006,\n",
       "  0.26500000000000001,\n",
       "  0.18099999999999999,\n",
       "  0.20200000000000001,\n",
       "  0.055])"
      ]
     },
     "execution_count": 39,
     "metadata": {},
     "output_type": "execute_result"
    }
   ],
   "source": [
    "p.get_risky()"
   ]
  },
  {
   "cell_type": "code",
   "execution_count": 40,
   "metadata": {
    "collapsed": false
   },
   "outputs": [
    {
     "data": {
      "text/plain": [
       "(['VIAB', 'KSS', 'DD', 'NKE', 'HBI', 'FRT', 'HPQ', 'CVS', 'DNB', 'EBAY'],\n",
       " [0.11700000000000001,\n",
       "  0.089999999999999997,\n",
       "  0.090999999999999998,\n",
       "  0.11600000000000001,\n",
       "  0.050999999999999997,\n",
       "  0.092999999999999999,\n",
       "  0.012,\n",
       "  0.29999999999999999,\n",
       "  0.087999999999999995,\n",
       "  0.042000000000000003])"
      ]
     },
     "execution_count": 40,
     "metadata": {},
     "output_type": "execute_result"
    }
   ],
   "source": [
    "max_risk = 0.17\n",
    "p.get_acceptable(max_risk)"
   ]
  },
  {
   "cell_type": "code",
   "execution_count": 41,
   "metadata": {
    "collapsed": false
   },
   "outputs": [
    {
     "data": {
      "text/plain": [
       "(['VIAB', 'KSS', 'DD', 'NKE', 'HBI', 'HPQ', 'CVS', 'DNB', 'FOXA', 'EBAY'],\n",
       " [0.151,\n",
       "  0.058999999999999997,\n",
       "  0.058000000000000003,\n",
       "  0.122,\n",
       "  0.095000000000000001,\n",
       "  0.014,\n",
       "  0.34300000000000003,\n",
       "  0.073999999999999996,\n",
       "  0.025000000000000001,\n",
       "  0.058000000000000003])"
      ]
     },
     "execution_count": 41,
     "metadata": {},
     "output_type": "execute_result"
    }
   ],
   "source": [
    "max_risk = 0.18\n",
    "p.get_acceptable(max_risk)"
   ]
  },
  {
   "cell_type": "code",
   "execution_count": 47,
   "metadata": {
    "collapsed": false
   },
   "outputs": [
    {
     "name": "stdout",
     "output_type": "stream",
     "text": [
      "Fetching symbols data:\n",
      "\n",
      "Investment period adjusted to 2012-07-02 - 2014-07-01\n",
      "Data fetched for 10 symbols and 502 trading days\n"
     ]
    }
   ],
   "source": [
    "rewised = portfolio(p.get_acceptable(0.18)[0], '2012-07-01', '2014-07-01')"
   ]
  },
  {
   "cell_type": "code",
   "execution_count": 48,
   "metadata": {
    "collapsed": false
   },
   "outputs": [
    {
     "name": "stdout",
     "output_type": "stream",
     "text": [
      "\n",
      "The highest Sharpe ratio portfolio: \n",
      "Investment period: 2012-07-02 - 2014-07-01\n",
      "Portfolio volatility: 0.21\n",
      "Portfolio return: 1.0\n",
      "Sharpe ratio: 4.773\n",
      "Portfolio weights:\n",
      "VIAB: 0.159\n",
      "NKE: 0.174\n",
      "HBI: 0.366\n",
      "HPQ: 0.102\n",
      "CVS: 0.108\n",
      "FOXA: 0.091\n",
      "\n",
      "The minimal variance porfolio: \n",
      "Investment period: 2012-07-02 - 2014-07-01\n",
      "Portfolio volatility: 0.168\n",
      "Portfolio return: 0.564\n",
      "Sharpe ratio: 3.35\n",
      "Portfolio weights:\n",
      "VIAB: 0.039\n",
      "KSS: 0.127\n",
      "DD: 0.199\n",
      "NKE: 0.101\n",
      "HBI: 0.056\n",
      "HPQ: 0.036\n",
      "CVS: 0.315\n",
      "DNB: 0.079\n",
      "EBAY: 0.049\n"
     ]
    }
   ],
   "source": [
    "rewised.calc(0.2, 1.0, 100, 1e-04)"
   ]
  },
  {
   "cell_type": "code",
   "execution_count": 49,
   "metadata": {
    "collapsed": false
   },
   "outputs": [
    {
     "data": {
      "image/png": "[encoded data removed]",
      "text/plain": [
       "<matplotlib.figure.Figure at 0x7f92de6bafd0>"
      ]
     },
     "metadata": {},
     "output_type": "display_data"
    }
   ],
   "source": [
    "rewised.plot()"
   ]
  },
  {
   "cell_type": "code",
   "execution_count": 50,
   "metadata": {
    "collapsed": false,
    "scrolled": true
   },
   "outputs": [
    {
     "data": {
      "text/plain": [
       "(['VIAB', 'KSS', 'DD', 'NKE', 'HBI', 'HPQ', 'CVS', 'DNB', 'EBAY'],\n",
       " [0.16400000000000001,\n",
       "  0.021999999999999999,\n",
       "  0.043999999999999997,\n",
       "  0.13300000000000001,\n",
       "  0.18099999999999999,\n",
       "  0.055,\n",
       "  0.313,\n",
       "  0.058000000000000003,\n",
       "  0.021000000000000001])"
      ]
     },
     "execution_count": 50,
     "metadata": {},
     "output_type": "execute_result"
    }
   ],
   "source": [
    "rewised.get_acceptable(0.18)"
   ]
  },
  {
   "cell_type": "code",
   "execution_count": null,
   "metadata": {
    "collapsed": true
   },
   "outputs": [],
   "source": []
  }
 ],
 "metadata": {
  "kernelspec": {
   "display_name": "Python 2",
   "language": "python",
   "name": "python2"
  },
  "language_info": {
   "codemirror_mode": {
    "name": "ipython",
    "version": 2
   },
   "file_extension": ".py",
   "mimetype": "text/x-python",
   "name": "python",
   "nbconvert_exporter": "python",
   "pygments_lexer": "ipython2",
   "version": "2.7.10"
  }
 },
 "nbformat": 4,
 "nbformat_minor": 0
}
