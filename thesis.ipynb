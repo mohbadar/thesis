{
 "cells": [
  {
   "cell_type": "markdown",
   "metadata": {},
   "source": [
    "Подключаемые библиотеки"
   ]
  },
  {
   "cell_type": "code",
   "execution_count": 1,
   "metadata": {
    "collapsed": false,
    "scrolled": false
   },
   "outputs": [
    {
     "name": "stderr",
     "output_type": "stream",
     "text": [
      "/usr/lib64/python2.7/site-packages/pandas/io/data.py:33: FutureWarning: \n",
      "The pandas.io.data module is moved to a separate package (pandas-datareader) and will be removed from pandas in a future version.\n",
      "After installing the pandas-datareader package (https://github.com/pydata/pandas-datareader), you can change the import ``from pandas.io import data, wb`` to ``from pandas_datareader import data, wb``.\n",
      "  FutureWarning)\n"
     ]
    }
   ],
   "source": [
    "import re\n",
    "import urllib2\n",
    "import math\n",
    "import numpy as np\n",
    "import scipy.interpolate as ip\n",
    "import pandas as pd\n",
    "import pandas.io.data as web\n",
    "import matplotlib.pyplot as plt\n",
    "import scipy.optimize as sco\n",
    "\n",
    "from bs4 import BeautifulSoup"
   ]
  },
  {
   "cell_type": "markdown",
   "metadata": {},
   "source": [
    "Настройки отображения графиков:"
   ]
  },
  {
   "cell_type": "code",
   "execution_count": 2,
   "metadata": {
    "collapsed": false
   },
   "outputs": [],
   "source": [
    "%matplotlib inline\n",
    "plt.style.use('fivethirtyeight') # The most fanciest styles are 'ggplot' and 'fivethirtyeight'\n",
    "# All available styles may be checked by\n",
    "#print plt.style.available"
   ]
  },
  {
   "cell_type": "markdown",
   "metadata": {},
   "source": [
    "Максимальный уровень волатильности, допустимый для данного инвестора"
   ]
  },
  {
   "cell_type": "code",
   "execution_count": 3,
   "metadata": {
    "collapsed": true
   },
   "outputs": [],
   "source": [
    "max_risk = 0.25"
   ]
  },
  {
   "cell_type": "markdown",
   "metadata": {},
   "source": [
    "Глобальные переменные"
   ]
  },
  {
   "cell_type": "code",
   "execution_count": 4,
   "metadata": {
    "collapsed": true
   },
   "outputs": [],
   "source": [
    "data = pd.DataFrame()\n",
    "symbols = []\n",
    "start_prices = []\n",
    "end_prices = []\n",
    "trading_days = []\n",
    "num_of_days = 0"
   ]
  },
  {
   "cell_type": "markdown",
   "metadata": {},
   "source": [
    "Генерация достижимого множества"
   ]
  },
  {
   "cell_type": "code",
   "execution_count": 5,
   "metadata": {
    "collapsed": true
   },
   "outputs": [],
   "source": [
    "def get_feasible_set(num_of_portfolios):\n",
    "    global feasible_returns\n",
    "    global feasible_volatilities\n",
    "    global feasible_weights\n",
    "    \n",
    "    feasible_returns = []\n",
    "    feasible_volatilities = []\n",
    "    feasible_weights = []\n",
    "    \n",
    "    p = 0\n",
    "    while p < num_of_portfolios:\n",
    "        # Generating weights\n",
    "        weights = np.random.random(len(symbols))\n",
    "        weights /= np.sum(weights)\n",
    "    \n",
    "        vol = np.sqrt(np.dot(weights.T, np.dot(returns.cov() * num_of_days, weights)))\n",
    "        if vol <= max_risk:\n",
    "            # Expected returns\n",
    "            feasible_returns.append(np.sum(returns.mean() * weights) * num_of_days)\n",
    "            # Volatilities\n",
    "            feasible_volatilities.append(np.sqrt(np.dot(weights.T, np.dot(returns.cov() * num_of_days, weights))))\n",
    "            feasible_weights.append(weights)\n",
    "            p += 1\n",
    "        \n",
    "    feasible_returns = np.array(feasible_returns)\n",
    "    feasible_volatilities = np.array(feasible_volatilities)\n",
    "    feasible_weights = np.array(feasible_weights)"
   ]
  },
  {
   "cell_type": "markdown",
   "metadata": {},
   "source": [
    "Вычисление эффективного множества"
   ]
  },
  {
   "cell_type": "code",
   "execution_count": 6,
   "metadata": {
    "collapsed": true
   },
   "outputs": [],
   "source": [
    "def get_effective_set(min_return, max_return, step):\n",
    "    global effective_returns\n",
    "    global effective_volatilities\n",
    "    global effective_weights\n",
    "\n",
    "    effective_volatilities = []\n",
    "    effective_returns = []\n",
    "    effective_weights = []\n",
    "    \n",
    "    print len(symbols)\n",
    "    \n",
    "    cons = ({'type': 'eq', 'fun': lambda x: np.sum(x) - 1})\n",
    "    bnds = tuple((0, 1) for x in range(len(symbols)))\n",
    "\n",
    "    for y in np.linspace(min_return, max_return, step):\n",
    "        cons = ({'type': 'eq', 'fun': lambda x: statistics(x)[1] - y}, {'type': 'eq', 'fun': lambda x: np.sum(x) - 1})\n",
    "        result = sco.minimize(min_volatility, len(symbols) * [1. / len(symbols),], method='SLSQP', bounds=bnds, constraints=cons)\n",
    "        if result['fun'] <= max_risk:\n",
    "            effective_volatilities.append(result['fun'])\n",
    "            effective_returns.append(y)\n",
    "            effective_weights.append(result['x'])\n",
    "    \n",
    "    effective_volatilities = np.array(effective_volatilities)\n",
    "    effective_returns = np.array(effective_returns)\n",
    "    effective_weights = np.array(effective_weights)"
   ]
  },
  {
   "cell_type": "markdown",
   "metadata": {},
   "source": [
    "Функция, получающая веса бумаг в портфеле в качестве входных параметров, и возвращающая массив данных о портфеле в формате [волатильность, доходность, коэффициент Шарпа]"
   ]
  },
  {
   "cell_type": "code",
   "execution_count": 7,
   "metadata": {
    "collapsed": false
   },
   "outputs": [],
   "source": [
    "def statistics(weights):\n",
    "    global num_of_days\n",
    "    weights = np.array(weights)\n",
    "    portfolio_return = get_portfolio_return(weights)\n",
    "    portfolio_volatility = np.sqrt(np.dot(weights.T, np.dot(returns.cov() * num_of_days, weights)))\n",
    "    \n",
    "    return np.array([portfolio_volatility, portfolio_return, portfolio_return / portfolio_volatility])"
   ]
  },
  {
   "cell_type": "markdown",
   "metadata": {},
   "source": [
    "Функция вычисления доходности портфеля"
   ]
  },
  {
   "cell_type": "code",
   "execution_count": 8,
   "metadata": {
    "collapsed": false
   },
   "outputs": [],
   "source": [
    "def get_portfolio_return(weights):\n",
    "    global start_prices\n",
    "    global end_prices\n",
    "    portfolio_start_price = 0\n",
    "    portfolio_end_price = 0\n",
    "\n",
    "    for w, sp, ep in zip(weights, start_prices, end_prices):\n",
    "        portfolio_start_price = portfolio_start_price + w * sp\n",
    "        portfolio_end_price = portfolio_end_price + w * ep\n",
    "    return ((portfolio_end_price - portfolio_start_price) / portfolio_start_price)\n",
    "    #return np.sum(returns.mean() * weights) * num_of_days"
   ]
  },
  {
   "cell_type": "markdown",
   "metadata": {},
   "source": [
    "Функция, показывающая основные показатели инвестиционного портфеля а также входящие в него ценные бумаги"
   ]
  },
  {
   "cell_type": "code",
   "execution_count": 24,
   "metadata": {
    "collapsed": false
   },
   "outputs": [],
   "source": [
    "def show(weights):\n",
    "    global trading_days\n",
    "    print \"Investment period: \" + trading_days[0] + \" - \" + trading_days[-1]\n",
    "    print \"Risk limit: \" + str(max_risk)\n",
    "    print \"Portfolio volatility: \" + str( statistics(weights)[0].round(3) )\n",
    "    print \"Portfolio return: \" + str(statistics(weights)[1].round(3) )   \n",
    "    print \"Sharpe ratio: \"  + str(statistics(weights)[2].round(3) )  \n",
    "    print \"\"\n",
    "    \n",
    "    for sym, w in zip(symbols, weights):\n",
    "        if w.round(3) > 0.001:\n",
    "            print (sym + ': ' + str( w.round(3) ) )"
   ]
  },
  {
   "cell_type": "markdown",
   "metadata": {},
   "source": [
    "Функция вычисления портфеля с максимальным коэффицентом Шарпа (отношением доходность/волатильность)"
   ]
  },
  {
   "cell_type": "code",
   "execution_count": 10,
   "metadata": {
    "collapsed": false
   },
   "outputs": [],
   "source": [
    "def get_max_sharpe_portfolio():\n",
    "    max_sharpe = 0\n",
    "    max_sharpe_portfolio = []\n",
    "    for r, v, w in zip(effective_returns, effective_volatilities, effective_weights):\n",
    "        if r / v > max_sharpe:\n",
    "            max_sharpe =  r / v\n",
    "            max_sharpe_portfolio = w\n",
    "    return max_sharpe_portfolio"
   ]
  },
  {
   "cell_type": "markdown",
   "metadata": {},
   "source": [
    "Функция вычисления портфеля с минимальной волатильностью"
   ]
  },
  {
   "cell_type": "code",
   "execution_count": 11,
   "metadata": {
    "collapsed": true
   },
   "outputs": [],
   "source": [
    "def get_min_variance():\n",
    "    min_variace = 10\n",
    "    min_variance_portfolio = []\n",
    "    for v, w in zip(effective_volatilities, effective_weights):\n",
    "        if v < min_variace:\n",
    "            min_variace =  v\n",
    "            min_variance_portfolio = w\n",
    "            \n",
    "    return min_variance_portfolio"
   ]
  },
  {
   "cell_type": "markdown",
   "metadata": {},
   "source": [
    "Функция для получения списка компаний, входящих в S&P500"
   ]
  },
  {
   "cell_type": "code",
   "execution_count": 12,
   "metadata": {
    "collapsed": false
   },
   "outputs": [],
   "source": [
    "def get_sp500():\n",
    "    site = \"http://en.wikipedia.org/wiki/List_of_S%26P_500_companies\"\n",
    "    hdr = {'User-Agent': 'Mozilla/5.0'}\n",
    "    req = urllib2.Request(site, headers=hdr)\n",
    "    page = urllib2.urlopen(req)\n",
    "    soup = BeautifulSoup(page)\n",
    "\n",
    "    table = soup.find('table', {'class': 'wikitable sortable'})\n",
    "    sector_tickers = dict()\n",
    "    for row in table.findAll('tr'):\n",
    "        col = row.findAll('td')\n",
    "        if len(col) > 0:\n",
    "            sector = str(col[3].string.strip()).lower().replace(' ', '_')\n",
    "            ticker = str(col[0].string.strip())\n",
    "            date = str(col[6]).replace('<td>', '').replace('</td>', '')\n",
    "            #if date < historical_end_date:\n",
    "            if sector not in sector_tickers:\n",
    "                sector_tickers[sector] = list()\n",
    "            sector_tickers[sector].append(ticker)\n",
    "\n",
    "    return sector_tickers"
   ]
  },
  {
   "cell_type": "markdown",
   "metadata": {},
   "source": [
    "Функция, возвращающая дату первого торгового дня для акций данной компании (первого дня, по которому доступна информация о цене)"
   ]
  },
  {
   "cell_type": "code",
   "execution_count": 13,
   "metadata": {
    "collapsed": false
   },
   "outputs": [],
   "source": [
    "def get_first_trading_day(sym):\n",
    "    for i in range(0, len(data[sym]) ):\n",
    "        if math.isnan(data[sym][i]):\n",
    "            continue\n",
    "        else:\n",
    "            return str(data[sym].axes[0][i])"
   ]
  },
  {
   "cell_type": "code",
   "execution_count": 14,
   "metadata": {
    "collapsed": false
   },
   "outputs": [],
   "source": [
    "def get_nearest_trading_day(day):\n",
    "    global trading_days\n",
    "    if day in trading_days:\n",
    "        return day\n",
    "    else:\n",
    "        for i in range(0, len(trading_days)):\n",
    "            if trading_days[i] > day:\n",
    "                return trading_days[i]\n",
    "            else:\n",
    "                return trading_days[-1]"
   ]
  },
  {
   "cell_type": "code",
   "execution_count": 15,
   "metadata": {
    "collapsed": false
   },
   "outputs": [],
   "source": [
    "def get_price(symbol, day):\n",
    "    return data[sym][get_nearest_trading_day(day)], get_nearest_trading_day(day)"
   ]
  },
  {
   "cell_type": "markdown",
   "metadata": {},
   "source": [
    "Функция определения минимального отклонения:"
   ]
  },
  {
   "cell_type": "code",
   "execution_count": 16,
   "metadata": {
    "collapsed": true
   },
   "outputs": [],
   "source": [
    "def min_volatility(weights):\n",
    "    return statistics(weights)[0]"
   ]
  },
  {
   "cell_type": "markdown",
   "metadata": {},
   "source": [
    "Функция составления массива дней, по которым доступны котировки"
   ]
  },
  {
   "cell_type": "code",
   "execution_count": 17,
   "metadata": {
    "collapsed": false
   },
   "outputs": [],
   "source": [
    "def set_trading_days(data, symbols, num_of_days):\n",
    "    global trading_days\n",
    "    \n",
    "    for sym in symbols:\n",
    "        trading_days = []\n",
    "        for i in range(0, num_of_days):\n",
    "            trading_days.append( str( re.split(' ', str(data[sym].axes[0][i]))[0]) )\n",
    "            \n",
    "        if len(trading_days) == num_of_days:\n",
    "            break\n",
    "            \n",
    "    return len(trading_days)"
   ]
  },
  {
   "cell_type": "code",
   "execution_count": 22,
   "metadata": {
    "collapsed": false
   },
   "outputs": [],
   "source": [
    "def fetch_data(symbols, start_date, end_date):\n",
    "    global data\n",
    "    global start_prices\n",
    "    global end_prices\n",
    "    global num_of_days\n",
    "    global returns\n",
    "    \n",
    "    #\n",
    "    data = pd.DataFrame()\n",
    "    num_of_days = 0\n",
    "    fetched_symbols = []\n",
    "    for sym in symbols:\n",
    "        try:\n",
    "            data[sym]  = web.DataReader(sym, data_source='yahoo', start=start_date, end=end_date)['Adj Close']\n",
    "            fetched_symbols.append(sym)\n",
    "            if data[sym].size > num_of_days:\n",
    "                num_of_days = data[sym].size\n",
    "        except IOError:\n",
    "            print sym + ': no data available'\n",
    "            continue\n",
    "    \n",
    "    data.column = fetched_symbols\n",
    "    \n",
    "    for sym in symbols:\n",
    "        if sym not in fetched_symbols:\n",
    "            symbols.remove(sym)\n",
    "    \n",
    "    set_trading_days(data, fetched_symbols, num_of_days)\n",
    "    #print get_nearest_trading_day(start_date)\n",
    "    #print get_nearest_trading_day(end_date)\n",
    "    \n",
    "    # Вычисление логарифмически нормализованых доходностей (отношение уровня закрытия текущего дня к предыдущему) за исторический период\n",
    "    returns = np.log(data / data.shift(1))\n",
    "    \n",
    "    #\n",
    "    start_prices = []\n",
    "    end_prices = []\n",
    "    for sym in fetched_symbols:\n",
    "        start_prices.append(data[sym][get_nearest_trading_day(start_date)])\n",
    "        end_prices.append(data[sym][get_nearest_trading_day(end_date)])\n",
    "    \n",
    "    print str(len(fetched_symbols)) + ' symbols fetched for ' + str(len(trading_days)) + ' trading days from ' + get_nearest_trading_day(start_date) + ' to ' + get_nearest_trading_day(end_date)"
   ]
  },
  {
   "cell_type": "code",
   "execution_count": 19,
   "metadata": {
    "collapsed": false
   },
   "outputs": [
    {
     "name": "stdout",
     "output_type": "stream",
     "text": [
      "industrials: 67 companies\n",
      "energy: 40 companies\n",
      "consumer_discretionary: 85 companies\n",
      "utilities: 29 companies\n",
      "telecommunications_services: 5 companies\n",
      "materials: 27 companies\n",
      "health_care: 56 companies\n",
      "consumer_staples: 38 companies\n",
      "financials: 90 companies\n",
      "information_technology: 67 companies\n"
     ]
    },
    {
     "name": "stderr",
     "output_type": "stream",
     "text": [
      "/usr/lib/python2.7/site-packages/bs4/__init__.py:166: UserWarning: No parser was explicitly specified, so I'm using the best available HTML parser for this system (\"lxml\"). This usually isn't a problem, but if you run this code on another system, or in a different virtual environment, it may use a different parser and behave differently.\n",
      "\n",
      "To get rid of this warning, change this:\n",
      "\n",
      " BeautifulSoup([your markup])\n",
      "\n",
      "to this:\n",
      "\n",
      " BeautifulSoup([your markup], \"lxml\")\n",
      "\n",
      "  markup_type=markup_type))\n"
     ]
    }
   ],
   "source": [
    "sp500 = get_sp500()\n",
    "for sector in sp500:\n",
    "    print sector + \": \" + str(len(sp500[sector]) ) + \" companies\"\n",
    "#    print sp500[sector]\n",
    "#    print '\\n'"
   ]
  },
  {
   "cell_type": "code",
   "execution_count": 20,
   "metadata": {
    "collapsed": false
   },
   "outputs": [
    {
     "name": "stdout",
     "output_type": "stream",
     "text": [
      "['APD', 'ARG', 'AA', 'AVY', 'BLL', 'CF', 'DOW', 'DD', 'EMN', 'ECL', 'FMC', 'FCX', 'IP', 'IFF', 'LYB', 'MLM', 'WRK', 'MON', 'MOS', 'NEM', 'NUE', 'OI', 'PPG', 'PX', 'SEE', 'SHW', 'VMC']\n"
     ]
    }
   ],
   "source": [
    "symbols = []\n",
    "for sym in sp500['materials']:\n",
    "    symbols.append(sym)\n",
    "#for sector in sp500:\n",
    "#    for i in sp500[sector]:\n",
    "#        symbols.append(i) \n",
    "print symbols"
   ]
  },
  {
   "cell_type": "markdown",
   "metadata": {},
   "source": [
    "Получаем цены закрытия (close prices) для всего исторического периода:"
   ]
  },
  {
   "cell_type": "code",
   "execution_count": 23,
   "metadata": {
    "collapsed": false
   },
   "outputs": [
    {
     "name": "stdout",
     "output_type": "stream",
     "text": [
      "26 symbols fetched for 252 trading days from 2014-01-02 to 2014-12-31\n"
     ]
    }
   ],
   "source": [
    "fetch_data(symbols, '2014-01-01', '2015-01-01')"
   ]
  },
  {
   "cell_type": "code",
   "execution_count": 26,
   "metadata": {
    "collapsed": false
   },
   "outputs": [
    {
     "name": "stdout",
     "output_type": "stream",
     "text": [
      "26\n",
      "CPU times: user 37.4 s, sys: 15 ms, total: 37.4 s\n",
      "Wall time: 37.4 s\n"
     ]
    }
   ],
   "source": [
    "%%time\n",
    "get_effective_set(0.0, 0.7, 50)"
   ]
  },
  {
   "cell_type": "code",
   "execution_count": 27,
   "metadata": {
    "collapsed": false,
    "scrolled": false
   },
   "outputs": [
    {
     "name": "stdout",
     "output_type": "stream",
     "text": [
      "Investment period: 2014-01-02 - 2014-12-31\n",
      "Risk limit: 0.25\n",
      "Portfolio volatility: 0.131\n",
      "Portfolio return: 0.414\n",
      "Sharpe ratio: 3.171\n",
      "\n",
      "BLL: 0.361\n",
      "CF: 0.03\n",
      "DD: 0.097\n",
      "IP: 0.008\n",
      "NEM: 0.037\n",
      "SHW: 0.466\n"
     ]
    }
   ],
   "source": [
    "optimal_sharpe = get_max_sharpe_portfolio()\n",
    "show(optimal_sharpe)"
   ]
  },
  {
   "cell_type": "code",
   "execution_count": 33,
   "metadata": {
    "collapsed": true
   },
   "outputs": [],
   "source": [
    "def test(weights, start_date, end_date):\n",
    "    test_symbols = []\n",
    "    test_weights = []\n",
    "    test_data = pd.DataFrame()\n",
    "    \n",
    "    # showing generated portfolio\n",
    "    show(weights)\n",
    "    \n",
    "    # setting up the new set (from the companies in portfolio above)\n",
    "    for s, w in zip(symbols, weights):\n",
    "        if w.round(3) > 0.001:\n",
    "            test_symbols.append(s)\n",
    "            test_weights.append(w)\n",
    "            \n",
    "    # Fetching data for a new period\n",
    "    fetch_data(test_symbols, start_date, end_date)\n",
    "    \n",
    "    print '\\nInvestment period: ' + str(start_date) + ' - ' + str(end_date)\n",
    "    \n",
    "    print 'Prices on ' + start_date + ':'\n",
    "    for sym in test_symbols:\n",
    "        print sym + ': '\n",
    "    \n",
    "    print '\\nPrices on ' + end_date + ':'  \n",
    "    for sym in test_symbols:\n",
    "        print sym + ': '\n",
    "    #get_portfolio_return(test_weights)"
   ]
  },
  {
   "cell_type": "code",
   "execution_count": 34,
   "metadata": {
    "collapsed": false
   },
   "outputs": [
    {
     "name": "stdout",
     "output_type": "stream",
     "text": [
      "Investment period: 2014-01-02 - 2014-12-31\n",
      "Risk limit: 0.25\n",
      "Portfolio volatility: 0.131\n",
      "Portfolio return: 0.414\n",
      "Sharpe ratio: 3.171\n",
      "\n",
      "BLL: 0.361\n",
      "CF: 0.03\n",
      "DD: 0.097\n",
      "IP: 0.008\n",
      "NEM: 0.037\n",
      "SHW: 0.466\n",
      "6 symbols fetched for 252 trading days from 2015-01-01 to 2016-01-01\n",
      "\n",
      "Investment period: 2015-01-01 - 2016-01-01\n",
      "Prices on 2015-01-01:\n",
      "BLL: \n",
      "CF: \n",
      "DD: \n",
      "IP: \n",
      "NEM: \n",
      "SHW: \n",
      "\n",
      "Prices on 2016-01-01:\n",
      "BLL: \n",
      "CF: \n",
      "DD: \n",
      "IP: \n",
      "NEM: \n",
      "SHW: \n"
     ]
    }
   ],
   "source": [
    "test(optimal_sharpe, '2015-01-01', '2016-01-01')"
   ]
  },
  {
   "cell_type": "code",
   "execution_count": 131,
   "metadata": {
    "collapsed": false
   },
   "outputs": [
    {
     "name": "stdout",
     "output_type": "stream",
     "text": [
      "Investment period: 2014-01-01 - 2015-01-01\n",
      "Risk limit: 0.25\n",
      "Portfolio volatility: 0.127\n",
      "Portfolio return: 0.205\n",
      "Sharpe ratio: 1.613\n",
      "\n",
      "AAPL: 0.194\n",
      "TSS: 0.185\n",
      "AVY: 0.17\n",
      "BLL: 0.306\n",
      "CF: 0.145\n"
     ]
    }
   ],
   "source": [
    "minimal_volatility = get_min_variance()\n",
    "show(minimal_volatility)"
   ]
  },
  {
   "cell_type": "code",
   "execution_count": 132,
   "metadata": {
    "collapsed": false
   },
   "outputs": [
    {
     "name": "stdout",
     "output_type": "stream",
     "text": [
      "Investment period: 2014-01-01 - 2015-01-01\n",
      "Risk limit: 0.25\n",
      "Portfolio volatility: 0.127\n",
      "Portfolio return: 0.205\n",
      "AAPL (0.194): \n",
      "\tstart: 75.683\n",
      "\t  end: 107.945\n",
      "\t rate: 42.6%\n",
      "TSS (0.185): \n",
      "\tstart: 32.081\n",
      "\t  end: 33.655\n",
      "\t rate: 4.9%\n",
      "AVY (0.17): \n",
      "\tstart: 47.117\n",
      "\t  end: 50.63\n",
      "\t rate: 7.5%\n",
      "BLL (0.306): \n",
      "\tstart: 50.592\n",
      "\t  end: 67.663\n",
      "\t rate: 33.7%\n",
      "CF (0.145): \n",
      "\tstart: 44.358\n",
      "\t  end: 52.783\n",
      "\t rate: 19.0%\n",
      "PORTFOLIO:\n",
      "\tstart: 50.553\n",
      "\t  end: 64.154\n",
      "\t rate: 26.9%\n"
     ]
    }
   ],
   "source": [
    "test(minimal_volatility)"
   ]
  },
  {
   "cell_type": "code",
   "execution_count": 156,
   "metadata": {
    "collapsed": false,
    "scrolled": false
   },
   "outputs": [
    {
     "data": {
      "text/plain": [
       "<matplotlib.text.Text at 0x7f596c6c3490>"
      ]
     },
     "execution_count": 156,
     "metadata": {},
     "output_type": "execute_result"
    },
    {
     "data": {
      "image/png": "[encoded data removed]",
      "text/plain": [
       "<matplotlib.figure.Figure at 0x7f596c06bd90>"
      ]
     },
     "metadata": {},
     "output_type": "display_data"
    }
   ],
   "source": [
    "plt.figure(figsize=(12, 6))\n",
    "\n",
    "x_sharpe = statistics(optimal_sharpe)[0]\n",
    "y_sharpe = statistics(optimal_sharpe)[1]\n",
    "\n",
    "x_min_vol = statistics(minimal_volatility)[0]\n",
    "y_min_vol = statistics(minimal_volatility)[1]\n",
    "\n",
    "#plt.scatter(feasible_volatilities, feasible_returns, c = feasible_returns / feasible_volatilities, marker='o')\n",
    "plt.scatter(effective_volatilities, effective_returns, c = effective_returns / effective_volatilities, marker='x')\n",
    "plt.plot(x_sharpe, y_sharpe, 'rs', markersize=8.0) # portfolio with highest Sharpe ratio\n",
    "plt.plot(x_min_vol, y_min_vol, 'ys', markersize=8.0) # portfolio with highest Sharpe ratio\n",
    "\n",
    "plt.colorbar(label='Sharpe ratio')\n",
    "plt.xlabel(r'$\\sigma_p$')\n",
    "plt.ylabel(r'$\\bar{r_p}$')\n"
   ]
  },
  {
   "cell_type": "markdown",
   "metadata": {},
   "source": []
  },
  {
   "cell_type": "code",
   "execution_count": 201,
   "metadata": {
    "collapsed": false
   },
   "outputs": [
    {
     "name": "stdout",
     "output_type": "stream",
     "text": [
      "75.682745\n"
     ]
    }
   ],
   "source": [
    "print data['AAPL']['2014-01-02']"
   ]
  },
  {
   "cell_type": "code",
   "execution_count": null,
   "metadata": {
    "collapsed": true
   },
   "outputs": [],
   "source": [
    "get_close"
   ]
  }
 ],
 "metadata": {
  "kernelspec": {
   "display_name": "Python 2",
   "language": "python",
   "name": "python2"
  },
  "language_info": {
   "codemirror_mode": {
    "name": "ipython",
    "version": 2
   },
   "file_extension": ".py",
   "mimetype": "text/x-python",
   "name": "python",
   "nbconvert_exporter": "python",
   "pygments_lexer": "ipython2",
   "version": "2.7.10"
  }
 },
 "nbformat": 4,
 "nbformat_minor": 0
}
