{
 "cells": [
  {
   "cell_type": "markdown",
   "metadata": {},
   "source": [
    "Подключаемые библиотеки"
   ]
  },
  {
   "cell_type": "code",
   "execution_count": 1,
   "metadata": {
    "collapsed": false,
    "scrolled": false
   },
   "outputs": [
    {
     "name": "stderr",
     "output_type": "stream",
     "text": [
      "/usr/lib64/python2.7/site-packages/pandas/io/data.py:33: FutureWarning: \n",
      "The pandas.io.data module is moved to a separate package (pandas-datareader) and will be removed from pandas in a future version.\n",
      "After installing the pandas-datareader package (https://github.com/pydata/pandas-datareader), you can change the import ``from pandas.io import data, wb`` to ``from pandas_datareader import data, wb``.\n",
      "  FutureWarning)\n"
     ]
    }
   ],
   "source": [
    "import re\n",
    "import random\n",
    "import urllib2\n",
    "import math\n",
    "import numpy as np\n",
    "import scipy.interpolate as ip\n",
    "import pandas as pd\n",
    "import pandas.io.data as web\n",
    "import matplotlib.pyplot as plt\n",
    "import scipy.optimize as sco\n",
    "\n",
    "from bs4 import BeautifulSoup"
   ]
  },
  {
   "cell_type": "markdown",
   "metadata": {},
   "source": [
    "Настройки отображения графиков:"
   ]
  },
  {
   "cell_type": "code",
   "execution_count": 2,
   "metadata": {
    "collapsed": false
   },
   "outputs": [],
   "source": [
    "%matplotlib inline\n",
    "plt.style.use('fivethirtyeight') # The most fanciest styles are 'ggplot' and 'fivethirtyeight'\n",
    "# All available styles may be checked by\n",
    "#print plt.style.available"
   ]
  },
  {
   "cell_type": "code",
   "execution_count": 3,
   "metadata": {
    "collapsed": false
   },
   "outputs": [],
   "source": [
    "class sp_500():\n",
    "    sector_tickers = {}\n",
    "    symbols = []\n",
    "    \n",
    "    def __init__(self):\n",
    "        self.symbols = []\n",
    "        self.sector_tickers = dict()\n",
    "        \n",
    "        site = \"http://en.wikipedia.org/wiki/List_of_S%26P_500_companies\"\n",
    "        hdr = {'User-Agent': 'Mozilla/5.0'}\n",
    "        req = urllib2.Request(site, headers=hdr)\n",
    "        page = urllib2.urlopen(req)\n",
    "        soup = BeautifulSoup(page, \"lxml\")\n",
    "\n",
    "        table = soup.find('table', {'class': 'wikitable sortable'})\n",
    "    \n",
    "        for row in table.findAll('tr'):\n",
    "            col = row.findAll('td')\n",
    "            if len(col) > 0:\n",
    "                sector = str(col[3].string.strip()).lower().replace(' ', '_')\n",
    "                ticker = str(col[0].string.strip())\n",
    "                date = str(col[6]).replace('<td>', '').replace('</td>', '')\n",
    "                #if date < historical_end_date:\n",
    "                if sector not in self.sector_tickers:\n",
    "                    self.sector_tickers[sector] = list()\n",
    "                self.sector_tickers[sector].append(ticker)\n",
    "                self.symbols.append(ticker)\n",
    "        \n",
    "       \n",
    "    # Show sectors summary\n",
    "    def sectors(self):\n",
    "        for s in self.sector_tickers:\n",
    "            print s + ': ' + str(len(self.sector_tickers[s])) + ' companies'\n",
    "            \n",
    "    # Show the sector summary and companies in it\n",
    "    def show(self, sector = None):\n",
    "        if sector == None:\n",
    "            self.sectors()\n",
    "        else:\n",
    "            print sector + ' sector of S&P500\\n' + str(len(self.sector_tickers[sector])) + ' companies:'\n",
    "            print self.sector_tickers[sector]\n",
    "    \n",
    "    # Get the company symbols\n",
    "    def get(self, sector = None):\n",
    "        symbols = []\n",
    "        if sector == None:\n",
    "            # Get the companies from all S&P500 sectors\n",
    "            for s in self.sector_tickers:\n",
    "                for sym in self.sector_tickers[s]:\n",
    "                    symbols.append(sym)\n",
    "        else:\n",
    "            # Get the companies from the given sector\n",
    "            for sym in self.sector_tickers[sector]:\n",
    "                symbols.append(sym)\n",
    "        return symbols\n",
    "    \n",
    "    # Get random number of stocks\n",
    "    def random(self, num):\n",
    "        return random.sample(self.symbols, num)"
   ]
  },
  {
   "cell_type": "markdown",
   "metadata": {},
   "source": [
    "Получение наименования компаний, входящих в S&P500 на данный момент (в момент запуска) "
   ]
  },
  {
   "cell_type": "code",
   "execution_count": 5,
   "metadata": {
    "collapsed": false,
    "scrolled": false
   },
   "outputs": [],
   "source": [
    "sp500 = sp_500()"
   ]
  },
  {
   "cell_type": "code",
   "execution_count": 120,
   "metadata": {
    "collapsed": false
   },
   "outputs": [],
   "source": [
    "class portfolio:\n",
    "    data = [] # storing stock prices for the companies in the portfolio\n",
    "    spy = [] # storing SPDR S&P 500 ETF index prices for the given period\n",
    "    returns = []\n",
    "    start_prices = []\n",
    "    end_prices = []\n",
    "\n",
    "    threshold = 0.01 # the companies with weights below this value are not included in portfolio\n",
    "    \n",
    "    # Constructor\n",
    "    def __init__(self, _symbols, _start, _end, _weights=None):\n",
    "        # Initializing data\n",
    "        self.data = pd.DataFrame()\n",
    "        self.spy = pd.DataFrame()\n",
    "        self.num_of_days = -1\n",
    "        self.feasible_returns = []\n",
    "        self.feasible_volatilities = []\n",
    "        self.feasible_weights = []\n",
    "    \n",
    "        self.effective_volatilities = []\n",
    "        self.effective_returns = []\n",
    "        self.effective_weights = []\n",
    "        \n",
    "        self.symbols = []\n",
    "        self.sharpe_symbols = []\n",
    "        self.min_variance_symbols = []\n",
    "        \n",
    "        # \n",
    "        self.start = _start\n",
    "        self.end = _end\n",
    "        \n",
    "        self.fetch(_symbols)\n",
    "        self.set_returns() \n",
    "        self.set_start_end_prices()\n",
    "        \n",
    "        if _weights != None:\n",
    "            self.fetch_sp500()\n",
    "            self.test(_weights)\n",
    "            self.show_sp500()\n",
    "    \n",
    "    # Get percent-view of an number (-24.5% instead of -0.245)\n",
    "    def percent(self, i):\n",
    "        formatted = str(i.round(3) * 100) + '%'\n",
    "        if i > 0:\n",
    "            formatted = '+' + formatted\n",
    "        return formatted\n",
    "    \n",
    "    #\n",
    "    def set_days(self):\n",
    "        for sym in self.symbols:\n",
    "            if len(self.data[sym]) == self.num_of_days:\n",
    "                start = str( re.split(' ', str(self.data[sym].axes[0][0]))[0])\n",
    "                end = str( re.split(' ', str(self.data[sym].axes[0][-1]))[0])\n",
    "                if self.start != start or self.end != end:\n",
    "                    self.start = start\n",
    "                    self.end = end\n",
    "                    print '\\nInvestment period adjusted to ' + self.start + ' - ' + self.end\n",
    "                return\n",
    "            \n",
    "        print 'Error setting investment period'\n",
    "        return            \n",
    "    \n",
    "    # Вычисление логарифмически нормализованых доходностей (отношения уровня закрытия текущего дня к предыдущему) за исторический период   \n",
    "    def set_returns(self):\n",
    "        self.returns = np.log(self.data / self.data.shift(1))\n",
    "    \n",
    "    # \n",
    "    def set_start_end_prices(self):\n",
    "        self.start_prices = []\n",
    "        self.end_prices = []\n",
    "        for sym in self.symbols:\n",
    "            self.start_prices.append(self.data[sym][self.start])\n",
    "            self.end_prices.append(self.data[sym][self.end])\n",
    "    \n",
    "    # Retrieving stock prices\n",
    "    def fetch(self, symbols):\n",
    "        print \"Fetching symbols data:\"\n",
    "        for sym in symbols:\n",
    "            try:\n",
    "                data = pd.DataFrame()\n",
    "                data  = web.DataReader(sym, data_source='yahoo', start=self.start, end=self.end)['Adj Close']\n",
    "                \n",
    "                if self.num_of_days != -1 and len(data) < self.num_of_days:\n",
    "                    print sym + ': historical data contains NaN. Excluding'\n",
    "                    continue\n",
    "                else:\n",
    "                    self.symbols.append(sym)\n",
    "                    self.data[sym] = data\n",
    "                    if self.data[sym].size != self.num_of_days:\n",
    "                        self.num_of_days = self.data[sym].size\n",
    "            except IOError:\n",
    "                print sym + ': no data available for requested period'\n",
    "                continue\n",
    "\n",
    "        self.data.column = self.symbols\n",
    "        self.set_days()\n",
    "        print 'Data fetched for ' + str(len(self.symbols)) + ' symbols and '+ str(self.num_of_days)  + ' trading days'\n",
    "        return\n",
    "    \n",
    "    # Retrieving data for SPDR S&P 500 ETF index:\n",
    "    def fetch_sp500(self):\n",
    "        self.spy = web.DataReader('^GSPC', data_source='yahoo', start=self.start, end=self.end)['Adj Close']\n",
    "        self.spy.column = '^GSPC'\n",
    "        \n",
    "    #\n",
    "    def show(self, weights):\n",
    "        print \"Investment period: \" + self.start + \" - \" + self.end\n",
    "        \n",
    "        print \"Portfolio volatility: \" + str( self.statistics(weights)[0].round(3) )\n",
    "        print \"Portfolio return: \" + str( self.statistics(weights)[1].round(3) )   \n",
    "        print \"Sharpe ratio: \"  + str( self.statistics(weights)[2].round(3) )  \n",
    "        \n",
    "        print \"Portfolio weights:\"    \n",
    "        for sym, w in zip(self.symbols, weights):\n",
    "            if w > self.threshold:\n",
    "                print sym + ': ' + str(w.round(3))\n",
    "    \n",
    "    # Show the line with symbol statistics\n",
    "    # AAPL: 67.802 -> 72.73 (+7.3%)\n",
    "    def show_symbol(self, sym, weight, start_price, end_price, return_rate):\n",
    "        if weight == None:\n",
    "            print sym + ': ' + str(start_price.round(2)) + ' -> ' + str(end_price.round(2)) + ' (' + self.percent(return_rate) + ')'\n",
    "        else:\n",
    "            print sym + ' (' + str(weight) + '): ' + str(start_price.round(2)) + ' -> ' + str(end_price.round(2)) + ' (' + self.percent(return_rate) + ')'\n",
    "    #\n",
    "    def show_sp500(self):\n",
    "        start = self.spy[self.start]\n",
    "        end = self.spy[self.end]\n",
    "        return_rate = (end - start) / start\n",
    "        self.show_symbol('S&P500', None, start, end, return_rate)\n",
    "\n",
    "    #\n",
    "    def test(self, weights):     \n",
    "        portfolio_start = 0\n",
    "        portfolio_end = 0\n",
    "        \n",
    "        for s, sp, ep, w in zip(self.symbols, self.start_prices, self.end_prices, weights):\n",
    "            ret = (ep - sp) / sp  \n",
    "            portfolio_start = portfolio_start + sp * w\n",
    "            portfolio_end = portfolio_end + ep * w\n",
    "            self.show_symbol(s, w, sp, ep, ret)\n",
    "            \n",
    "        portfolio_return = (portfolio_end - portfolio_start) / portfolio_start\n",
    "        print '\\nPortfolio return: ' + self.percent(portfolio_return)\n",
    "        \n",
    "        return\n",
    "    \n",
    "    #\n",
    "    def calc(self, _min_return, _max_return, _step, _precision):\n",
    "        self.min_return = _min_return # minimal return value \n",
    "        self.max_return = _max_return # maximum return value\n",
    "        self.step = _step\n",
    "        self.precision = _precision\n",
    "        \n",
    "        self.get_effective_set()\n",
    "        print '\\nThe highest Sharpe ratio portfolio: '\n",
    "        self.show( self.get_max_sharpe_weights() )\n",
    "        \n",
    "        print '\\nThe minimal variance porfolio: '\n",
    "        self.show( self.get_min_variance_weights() )\n",
    "        \n",
    "    \n",
    "    # \n",
    "    def get_risky(self):\n",
    "        if len(self.sharpe_symbols) > 0:\n",
    "            return self.sharpe_symbols, self.sharpe_weights\n",
    "        else:\n",
    "            print 'The optimal portfolio is not calculated. Run calc() first'\n",
    "            \n",
    "    #\n",
    "    def get_conservative(self):\n",
    "        if len(self.min_variance_symbols) > 0:\n",
    "            return self.min_variance_symbols, self.min_variance_weights\n",
    "        else:\n",
    "            print 'The optimal portfolio is not calculated. Run calc() first'\n",
    "        return\n",
    "    \n",
    "    # Вычисление эффективного множества (effective set)\n",
    "    def get_effective_set(self):\n",
    "        self.effective_volatilities = []\n",
    "        self.effective_returns = []\n",
    "        self.effective_weights = []\n",
    "    \n",
    "        cons = ({'type': 'eq', 'fun': lambda x: np.sum(x) - 1})\n",
    "        bnds = tuple((0, 1) for x in range(len(self.symbols)))\n",
    "\n",
    "        for y in np.linspace(self.min_return, self.max_return, self.step):\n",
    "            cons = ({'type': 'eq', 'fun': lambda x: self.statistics(x)[1] - y}, {'type': 'eq', 'fun': lambda x: np.sum(x) - 1})\n",
    "            if self.precision != None:\n",
    "                result = sco.minimize(self.min_volatility, len(self.symbols) * [1. / len(self.symbols),], method='SLSQP', bounds=bnds, constraints=cons, options={'ftol':self.precision})\n",
    "            else:\n",
    "                result = sco.minimize(self.min_volatility, len(self.symbols) * [1. / len(self.symbols),], method='SLSQP', bounds=bnds, constraints=cons)\n",
    "            self.effective_volatilities.append(result['fun'])\n",
    "            self.effective_returns.append(y)\n",
    "            self.effective_weights.append(result['x'])\n",
    "    \n",
    "        self.effective_volatilities = np.array(self.effective_volatilities)\n",
    "        self.effective_returns = np.array(self.effective_returns)\n",
    "        self.effective_weights = np.array(self.effective_weights)\n",
    "\n",
    "    # Функция, получающая веса бумаг в портфеле в качестве входных параметров, и возвращающая массив \n",
    "    # данных о портфеле в формате [волатильность, доходность, коэффициент Шарпа]\n",
    "    def statistics(self, weights):\n",
    "        weights = np.array(weights)\n",
    "        portfolio_return = self.get_portfolio_return(weights)\n",
    "        portfolio_volatility = np.sqrt(np.dot(weights.T, np.dot(self.returns.cov() * self.num_of_days, weights)))\n",
    "    \n",
    "        return np.array([portfolio_volatility, portfolio_return, portfolio_return / portfolio_volatility])\n",
    "    \n",
    "    # Функция вычисления минимального отклонения\n",
    "    def min_volatility(self, weights):\n",
    "        return self.statistics(weights)[0]\n",
    "    \n",
    "    # Функция вычисления доходности портфеля\n",
    "    def get_portfolio_return(self, weights):\n",
    "        portfolio_start_price = 0\n",
    "        portfolio_end_price = 0\n",
    "\n",
    "        for w, sp, ep in zip(weights, self.start_prices, self.end_prices):\n",
    "            portfolio_start_price = portfolio_start_price + w * sp\n",
    "            portfolio_end_price = portfolio_end_price + w * ep\n",
    "        \n",
    "        try:\n",
    "            return ((portfolio_end_price - portfolio_start_price) / portfolio_start_price)\n",
    "        except ZeroDivisionError:\n",
    "            print 'Zero division exception'\n",
    "            print weights\n",
    "            return 0\n",
    "        #return np.sum(returns.mean() * weights) * num_of_days\n",
    "    \n",
    "    \n",
    "    # Функция вычисления портфеля с приемлемым уровнем риска\n",
    "    def get_acceptable(self, _max_risk):\n",
    "        volatility = 0 \n",
    "        weights = []\n",
    "        for r, v, w in zip(self.effective_returns, self.effective_volatilities, self.effective_weights):\n",
    "            if v >= volatility:\n",
    "                if v <= _max_risk:\n",
    "                    weights = w\n",
    "\n",
    "        self.acceptable_symbols = []\n",
    "        self.acceptable_weights = []\n",
    "        for sym, w in zip(self.symbols, weights):\n",
    "            if w > self.threshold:\n",
    "                self.acceptable_symbols.append(sym)\n",
    "                self.acceptable_weights.append(w.round(3))\n",
    "        \n",
    "        return self.acceptable_symbols, self.acceptable_weights\n",
    "    \n",
    "    # Функция вычисления портфеля с максимальным коэффицентом Шарпа (отношением доходность/волатильность)\n",
    "    def get_max_sharpe_weights(self):\n",
    "        max_sharpe = 0\n",
    "        weights = []\n",
    "        for r, v, w in zip(self.effective_returns, self.effective_volatilities, self.effective_weights):\n",
    "            if r / v > max_sharpe:\n",
    "                max_sharpe =  r / v\n",
    "                weights = w\n",
    "                \n",
    "        self.sharpe_symbols = []\n",
    "        self.sharpe_weights = []\n",
    "        for sym, w in zip(self.symbols, weights):\n",
    "            if w > self.threshold:\n",
    "                self.sharpe_symbols.append(sym)\n",
    "                self.sharpe_weights.append(w.round(3)) # FIXME: shoudn't round value maybe\n",
    "        \n",
    "        return weights\n",
    "    \n",
    "    #\n",
    "    def get_min_variance_weights(self):\n",
    "        min_variance = 10\n",
    "        weights = []\n",
    "        for v, w in zip(self.effective_volatilities, self.effective_weights):\n",
    "            if v < min_variance:\n",
    "                min_variance =  v\n",
    "                weights = w\n",
    "                \n",
    "        self.min_variance_symbols = []\n",
    "        self.min_variance_weights = []\n",
    "        for sym, w in zip(self.symbols, weights):\n",
    "            if w.round(3) > 0.001:\n",
    "                self.min_variance_symbols.append(sym)\n",
    "                self.min_variance_weights.append(w.round(3)) # FIXME: shoudn't round value maybe\n",
    "\n",
    "        return weights\n",
    "    \n",
    "    def plot(self):\n",
    "        plt.figure(figsize=(12, 6))\n",
    "\n",
    "        x_sharpe = self.statistics(self.get_max_sharpe_weights())[0]\n",
    "        y_sharpe = self.statistics(self.get_max_sharpe_weights())[1]\n",
    "\n",
    "        x_min_vol = self.statistics(self.get_min_variance_weights())[0]\n",
    "        y_min_vol = self.statistics(self.get_min_variance_weights())[1]\n",
    "\n",
    "        #plt.scatter(feasible_volatilities, feasible_returns, c = feasible_returns / feasible_volatilities, marker='o')\n",
    "        plt.scatter(self.effective_volatilities, self.effective_returns, c = self.effective_returns / self.effective_volatilities, marker='x')\n",
    "        plt.plot(x_sharpe, y_sharpe, 'rs', markersize=8.0) # portfolio with highest Sharpe ratio\n",
    "        plt.plot(x_min_vol, y_min_vol, 'ys', markersize=8.0) # portfolio with highest Sharpe ratio\n",
    "\n",
    "        plt.colorbar(label='Sharpe ratio')\n",
    "        plt.xlabel(r'$\\sigma_p$')\n",
    "        plt.ylabel(r'$\\bar{r_p}$')\n",
    "        "
   ]
  },
  {
   "cell_type": "code",
   "execution_count": 121,
   "metadata": {
    "collapsed": false
   },
   "outputs": [
    {
     "name": "stdout",
     "output_type": "stream",
     "text": [
      "Fetching symbols data:\n",
      "\n",
      "Investment period adjusted to 2013-01-02 - 2014-12-31\n",
      "Data fetched for 20 symbols and 504 trading days\n"
     ]
    }
   ],
   "source": [
    "p = portfolio(sp500.random(20), '2013-01-01', '2015-01-01')"
   ]
  },
  {
   "cell_type": "markdown",
   "metadata": {},
   "source": [
    "Вычисление оптимальных портфелей. \n",
    "Передаваемые аргументы (минимальная доходность, максимальная доходность, шаг, точность вычислений) имееют решающее значение для времени вычисления оптимального портфеля.\n",
    "Точность ниже 1e-03 приводит к прерывистому или неровному характеру эффективного множества."
   ]
  },
  {
   "cell_type": "code",
   "execution_count": 122,
   "metadata": {
    "collapsed": false
   },
   "outputs": [
    {
     "name": "stdout",
     "output_type": "stream",
     "text": [
      "\n",
      "The highest Sharpe ratio portfolio: \n",
      "Investment period: 2013-01-02 - 2014-12-31\n",
      "Portfolio volatility: 0.183\n",
      "Portfolio return: 0.696\n",
      "Sharpe ratio: 3.808\n",
      "Portfolio weights:\n",
      "AVB: 0.016\n",
      "NDAQ: 0.096\n",
      "ACN: 0.027\n",
      "LLL: 0.14\n",
      "TSS: 0.05\n",
      "PDCO: 0.077\n",
      "WFC: 0.088\n",
      "UDR: 0.076\n",
      "WHR: 0.166\n",
      "JBHT: 0.041\n",
      "ZBH: 0.124\n",
      "BXP: 0.032\n",
      "STX: 0.067\n",
      "\n",
      "The minimal variance porfolio: \n",
      "Investment period: 2013-01-02 - 2014-12-31\n",
      "Portfolio volatility: 0.155\n",
      "Portfolio return: 0.411\n",
      "Sharpe ratio: 2.646\n",
      "Portfolio weights:\n",
      "AVB: 0.113\n",
      "NDAQ: 0.069\n",
      "ACN: 0.069\n",
      "LLL: 0.077\n",
      "TSS: 0.062\n",
      "PDCO: 0.101\n",
      "URBN: 0.03\n",
      "WFC: 0.081\n",
      "PVH: 0.044\n",
      "UDR: 0.104\n",
      "JBHT: 0.07\n",
      "ZBH: 0.067\n",
      "BXP: 0.09\n",
      "F: 0.024\n",
      "CPU times: user 5.44 s, sys: 1 ms, total: 5.44 s\n",
      "Wall time: 5.44 s\n"
     ]
    }
   ],
   "source": [
    "%time p.calc(0.0, 0.7, 30, 1e-02)"
   ]
  },
  {
   "cell_type": "code",
   "execution_count": 123,
   "metadata": {
    "collapsed": false
   },
   "outputs": [
    {
     "data": {
      "image/png": "[encoded data removed]",
      "text/plain": [
       "<matplotlib.figure.Figure at 0x7f3599d95290>"
      ]
     },
     "metadata": {},
     "output_type": "display_data"
    }
   ],
   "source": [
    "p.plot()"
   ]
  },
  {
   "cell_type": "markdown",
   "metadata": {},
   "source": [
    "Проверяем доходности полученных оптимальных портфелей на нужном промежутке времени. Значение max_risk должно быть выбрано инвестором на основании построенного выше эффективного множества, и это значение волатильности должно находиться в промежутке между портфелем с минимальной волатильностью и портфелем с максимальным коэффициентом Шарпа"
   ]
  },
  {
   "cell_type": "code",
   "execution_count": 99,
   "metadata": {
    "collapsed": true
   },
   "outputs": [],
   "source": [
    "start_date = '2015-01-01'\n",
    "end_date = '2016-01-01'"
   ]
  },
  {
   "cell_type": "code",
   "execution_count": 100,
   "metadata": {
    "collapsed": false
   },
   "outputs": [
    {
     "name": "stdout",
     "output_type": "stream",
     "text": [
      "Fetching symbols data:\n",
      "\n",
      "Investment period adjusted to 2015-01-02 - 2015-12-31\n",
      "Data fetched for 12 symbols and 252 trading days\n",
      "TWX (0.05): 82.9 -> 64.28 (-22.5%)\n",
      "HAS (0.087): 53.23 -> 66.93 (+25.7%)\n",
      "DTE (0.127): 83.88 -> 80.19 (-4.4%)\n",
      "RF (0.01): 10.19 -> 9.53 (-6.5%)\n",
      "BBT (0.067): 37.3 -> 37.49 (+0.5%)\n",
      "BCR (0.197): 166.4 -> 189.18 (+13.7%)\n",
      "MSFT (0.077): 45.2 -> 55.08 (+21.9%)\n",
      "PPL (0.148): 34.31 -> 33.77 (-1.6%)\n",
      "EQR (0.072): 63.64 -> 72.83 (+14.4%)\n",
      "DE (0.033): 85.82 -> 76.27 (-11.1%)\n",
      "GPC (0.113): 102.88 -> 85.28 (-17.1%)\n",
      "CTL (0.019): 36.28 -> 24.72 (-31.9%)\n",
      "\n",
      "Portfolio return: +3.7%\n",
      "S&P500: 2058.2 -> 2043.94 (-0.7%)\n"
     ]
    }
   ],
   "source": [
    "max_risk = 0.15\n",
    "r = portfolio(p.get_acceptable(max_risk)[0], start_date, end_date, p.get_acceptable(max_risk)[1])"
   ]
  },
  {
   "cell_type": "markdown",
   "metadata": {},
   "source": [
    "\n",
    "\n",
    "\n",
    "Оптимальный портфель (портфель с максимальным коэффициентом Шарпа):"
   ]
  },
  {
   "cell_type": "code",
   "execution_count": 101,
   "metadata": {
    "collapsed": false,
    "scrolled": false
   },
   "outputs": [
    {
     "name": "stdout",
     "output_type": "stream",
     "text": [
      "Fetching symbols data:\n",
      "\n",
      "Investment period adjusted to 2015-01-02 - 2015-12-31\n",
      "Data fetched for 8 symbols and 252 trading days\n",
      "TWX (0.082): 82.9 -> 64.28 (-22.5%)\n",
      "HAS (0.079): 53.23 -> 66.93 (+25.7%)\n",
      "DTE (0.05): 83.88 -> 80.19 (-4.4%)\n",
      "BBT (0.027): 37.3 -> 37.49 (+0.5%)\n",
      "BCR (0.231): 166.4 -> 189.18 (+13.7%)\n",
      "MSFT (0.12): 45.2 -> 55.08 (+21.9%)\n",
      "PPL (0.203): 34.31 -> 33.77 (-1.6%)\n",
      "GPC (0.198): 102.88 -> 85.28 (-17.1%)\n",
      "\n",
      "Portfolio return: +2.6%\n",
      "S&P500: 2058.2 -> 2043.94 (-0.7%)\n"
     ]
    }
   ],
   "source": [
    "r = portfolio(p.get_risky()[0], start_date, end_date, p.get_risky()[1])"
   ]
  },
  {
   "cell_type": "markdown",
   "metadata": {},
   "source": [
    "Оптимальный портфель (с минимальной волатильностью)"
   ]
  },
  {
   "cell_type": "code",
   "execution_count": 102,
   "metadata": {
    "collapsed": false,
    "scrolled": true
   },
   "outputs": [
    {
     "name": "stdout",
     "output_type": "stream",
     "text": [
      "Fetching symbols data:\n",
      "\n",
      "Investment period adjusted to 2015-01-02 - 2015-12-31\n",
      "Data fetched for 15 symbols and 252 trading days\n",
      "GOOGL (0.02): 529.55 -> 778.01 (+46.9%)\n",
      "CVX (0.105): 106.35 -> 88.83 (-16.5%)\n",
      "TWX (0.002): 82.9 -> 64.28 (-22.5%)\n",
      "HAS (0.07): 53.23 -> 66.93 (+25.7%)\n",
      "DTE (0.087): 83.88 -> 80.19 (-4.4%)\n",
      "BBT (0.068): 37.3 -> 37.49 (+0.5%)\n",
      "BCR (0.104): 166.4 -> 189.18 (+13.7%)\n",
      "MSFT (0.04): 45.2 -> 55.08 (+21.9%)\n",
      "PPL (0.137): 34.31 -> 33.77 (-1.6%)\n",
      "EQR (0.079): 63.64 -> 72.83 (+14.4%)\n",
      "VTR (0.052): 68.89 -> 55.72 (-19.1%)\n",
      "DE (0.155): 85.82 -> 76.27 (-11.1%)\n",
      "FMC (0.042): 56.13 -> 39.13 (-30.3%)\n",
      "GPC (0.017): 102.88 -> 85.28 (-17.1%)\n",
      "CTL (0.024): 36.28 -> 24.72 (-31.9%)\n",
      "\n",
      "Portfolio return: +4.3%\n",
      "S&P500: 2058.2 -> 2043.94 (-0.7%)\n"
     ]
    }
   ],
   "source": [
    "c = portfolio(p.get_conservative()[0], start_date, end_date, p.get_conservative()[1])"
   ]
  }
 ],
 "metadata": {
  "kernelspec": {
   "display_name": "Python 2",
   "language": "python",
   "name": "python2"
  },
  "language_info": {
   "codemirror_mode": {
    "name": "ipython",
    "version": 2
   },
   "file_extension": ".py",
   "mimetype": "text/x-python",
   "name": "python",
   "nbconvert_exporter": "python",
   "pygments_lexer": "ipython2",
   "version": "2.7.10"
  }
 },
 "nbformat": 4,
 "nbformat_minor": 0
}
