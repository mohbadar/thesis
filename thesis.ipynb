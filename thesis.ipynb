{
 "cells": [
  {
   "cell_type": "markdown",
   "metadata": {},
   "source": [
    "Подключаемые библиотеки"
   ]
  },
  {
   "cell_type": "code",
   "execution_count": 1,
   "metadata": {
    "collapsed": false,
    "scrolled": false
   },
   "outputs": [
    {
     "name": "stderr",
     "output_type": "stream",
     "text": [
      "/usr/lib64/python2.7/site-packages/pandas/io/data.py:33: FutureWarning: \n",
      "The pandas.io.data module is moved to a separate package (pandas-datareader) and will be removed from pandas in a future version.\n",
      "After installing the pandas-datareader package (https://github.com/pydata/pandas-datareader), you can change the import ``from pandas.io import data, wb`` to ``from pandas_datareader import data, wb``.\n",
      "  FutureWarning)\n"
     ]
    }
   ],
   "source": [
    "import re\n",
    "import urllib2\n",
    "import math\n",
    "import numpy as np\n",
    "import scipy.interpolate as ip\n",
    "import pandas as pd\n",
    "import pandas.io.data as web\n",
    "import matplotlib.pyplot as plt\n",
    "import scipy.optimize as sco\n",
    "\n",
    "from bs4 import BeautifulSoup"
   ]
  },
  {
   "cell_type": "markdown",
   "metadata": {},
   "source": [
    "Настройки отображения графиков:"
   ]
  },
  {
   "cell_type": "code",
   "execution_count": 2,
   "metadata": {
    "collapsed": false
   },
   "outputs": [],
   "source": [
    "%matplotlib inline\n",
    "plt.style.use('fivethirtyeight') # The most fanciest styles are 'ggplot' and 'fivethirtyeight'\n",
    "# All available styles may be checked by\n",
    "#print plt.style.available"
   ]
  },
  {
   "cell_type": "code",
   "execution_count": 3,
   "metadata": {
    "collapsed": false
   },
   "outputs": [],
   "source": [
    "class sp_500():\n",
    "    sector_tickers = {}\n",
    "    \n",
    "    def __init__(self):\n",
    "        sector_tickers = dict()\n",
    "        site = \"http://en.wikipedia.org/wiki/List_of_S%26P_500_companies\"\n",
    "        hdr = {'User-Agent': 'Mozilla/5.0'}\n",
    "        req = urllib2.Request(site, headers=hdr)\n",
    "        page = urllib2.urlopen(req)\n",
    "        soup = BeautifulSoup(page)\n",
    "\n",
    "        table = soup.find('table', {'class': 'wikitable sortable'})\n",
    "    \n",
    "        for row in table.findAll('tr'):\n",
    "            col = row.findAll('td')\n",
    "            if len(col) > 0:\n",
    "                sector = str(col[3].string.strip()).lower().replace(' ', '_')\n",
    "                ticker = str(col[0].string.strip())\n",
    "                date = str(col[6]).replace('<td>', '').replace('</td>', '')\n",
    "                #if date < historical_end_date:\n",
    "                if sector not in self.sector_tickers:\n",
    "                    self.sector_tickers[sector] = list()\n",
    "                self.sector_tickers[sector].append(ticker)\n",
    "    \n",
    "    # Show sectors summary\n",
    "    def sectors(self):\n",
    "        for s in self.sector_tickers:\n",
    "            print s + ': ' + str(len(self.sector_tickers[s])) + ' companies'\n",
    "            \n",
    "    # Show the sector summary and companies in it\n",
    "    def show(self, sector = None):\n",
    "        if sector == None:\n",
    "            self.sectors()\n",
    "        else:\n",
    "            print sector + ' sector of S&P500\\n' + str(len(self.sector_tickers[sector])) + ' companies:'\n",
    "            print self.sector_tickers[sector]\n",
    "    \n",
    "    # Get the company symbols\n",
    "    def get(self, sector = None):\n",
    "        symbols = []\n",
    "        if sector == None:\n",
    "            # Get the companies from all S&P500 sectors\n",
    "            for s in self.sector_tickers:\n",
    "                print s + ': ' + str(len(self.sector_tickers[s])) + ' companies'\n",
    "        else:\n",
    "            # Get the companies from the given sector\n",
    "            for sym in self.sector_tickers[sector]:\n",
    "                symbols.append(sym)\n",
    "        return symbols\n",
    "            "
   ]
  },
  {
   "cell_type": "code",
   "execution_count": 4,
   "metadata": {
    "collapsed": false
   },
   "outputs": [],
   "source": [
    "class portfolio:\n",
    "    data = []\n",
    "    returns = []\n",
    "    start_prices = []\n",
    "    end_prices = []\n",
    "    \n",
    "    min_return = 0.0 # minimal return value \n",
    "    max_return = 0.9 # maximum return value\n",
    "    step = 100\n",
    "    \n",
    "    # Constructor\n",
    "    def __init__(self, _symbols, _start, _end):\n",
    "        # Initializing data\n",
    "        self.data = pd.DataFrame()\n",
    "        self.num_of_days = 0\n",
    "        self.feasible_returns = []\n",
    "        self.feasible_volatilities = []\n",
    "        self.feasible_weights = []\n",
    "    \n",
    "        self.effective_volatilities = []\n",
    "        self.effective_returns = []\n",
    "        self.effective_weights = []\n",
    "        \n",
    "        self.symbols = []\n",
    "        self.optimal_symbols = []\n",
    "        self.days = []\n",
    "        \n",
    "        # \n",
    "        self.symbols = _symbols\n",
    "        self.start = _start\n",
    "        self.end = _end\n",
    "        \n",
    "        \n",
    "        \n",
    "        # \n",
    "        self.fetch()\n",
    "        self.set_returns() \n",
    "        self.set_start_end_prices()\n",
    "    \n",
    "    #\n",
    "    def set_days(self):\n",
    "        for sym in self.symbols:\n",
    "            self.days = []\n",
    "            for i in range(0, self.num_of_days):\n",
    "                self.days.append( str( re.split(' ', str(self.data[sym].axes[0][i]))[0]) )\n",
    "                \n",
    "            if len(self.days) == self.num_of_days:\n",
    "                break\n",
    "                \n",
    "        if self.start != self.days[0] or self.end != self.days[-1]:\n",
    "            self.start = self.days[0]\n",
    "            self.end = self.days[-1]\n",
    "            print 'Investment period adjusted to ' + self.start + ' - ' + self.end\n",
    "    \n",
    "    # Вычисление логарифмически нормализованых доходностей (отношения уровня закрытия текущего дня к предыдущему) за исторический период   \n",
    "    def set_returns(self):\n",
    "        self.returns = np.log(self.data / self.data.shift(1))\n",
    "    \n",
    "    # \n",
    "    def set_start_end_prices(self):\n",
    "        self.start_prices = []\n",
    "        self.end_prices = []\n",
    "        for sym in self.symbols:\n",
    "            self.start_prices.append(self.data[sym][self.start])\n",
    "            self.end_prices.append(self.data[sym][self.end])\n",
    "    \n",
    "    # Retrieving data\n",
    "    def fetch(self):\n",
    "        fetched_symbols = []\n",
    "        for sym in self.symbols:\n",
    "            try:\n",
    "                self.data[sym]  = web.DataReader(sym, data_source='yahoo', start=self.start, end=self.end)['Adj Close']\n",
    "                fetched_symbols.append(sym)           \n",
    "                if self.data[sym].size > self.num_of_days:\n",
    "                    self.num_of_days = self.data[sym].size\n",
    "            except IOError:\n",
    "                print sym + ': no data available'\n",
    "                continue\n",
    "                \n",
    "        self.data.column = fetched_symbols\n",
    "    \n",
    "        for sym in self.symbols:\n",
    "            if sym not in fetched_symbols:\n",
    "                self.symbols.remove(sym)\n",
    "                \n",
    "        self.set_days()\n",
    "        print 'Data fetched for ' + str(len(self.symbols)) + ' symbols for '+ str(len(self.days)) + ' trading days'\n",
    "    \n",
    "    #\n",
    "    def show(self, weights):\n",
    "        print \"Investment period: \" + self.start + \" - \" + self.end\n",
    "        print \"Risk limit: \" + str(max_risk)\n",
    "        \n",
    "        print \"Portfolio volatility: \" + str( self.statistics(weights)[0].round(3) )\n",
    "        print \"Portfolio return: \" + str( self.statistics(weights)[1].round(3) )   \n",
    "        print \"Sharpe ratio: \"  + str( self.statistics(weights)[2].round(3) )  \n",
    "        print \"\"\n",
    "            \n",
    "        for sym, w in zip(self.optimal_symbols, self.optimal_weights):\n",
    "            print sym + ': ' + str(w)\n",
    "    \n",
    "    #\n",
    "    def calc(self):\n",
    "        self.get_effective_set()\n",
    "        self.show( self.get_max_sharpe_portfolio() )\n",
    "    \n",
    "    # \n",
    "    def get(self):\n",
    "        if len(self.optimal_symbols) > 0:\n",
    "            return self.optimal_symbols, self.optimal_weights\n",
    "        else:\n",
    "            print 'The optimal portfolio is not calculated. Run calc() first'\n",
    "    \n",
    "    # Вычисление эффективного множества (effective set)\n",
    "    def get_effective_set(self):\n",
    "        self.effective_volatilities = []\n",
    "        self.effective_returns = []\n",
    "        self.effective_weights = []\n",
    "    \n",
    "        cons = ({'type': 'eq', 'fun': lambda x: np.sum(x) - 1})\n",
    "        bnds = tuple((0, 1) for x in range(len(self.symbols)))\n",
    "\n",
    "        for y in np.linspace(self.min_return, self.max_return, self.step):\n",
    "            cons = ({'type': 'eq', 'fun': lambda x: self.statistics(x)[1] - y}, {'type': 'eq', 'fun': lambda x: np.sum(x) - 1})\n",
    "            result = sco.minimize(self.min_volatility, len(self.symbols) * [1. / len(self.symbols),], method='SLSQP', bounds=bnds, constraints=cons)\n",
    "            if result['fun'] <= max_risk:\n",
    "                self.effective_volatilities.append(result['fun'])\n",
    "                self.effective_returns.append(y)\n",
    "                self.effective_weights.append(result['x'])\n",
    "    \n",
    "        self.effective_volatilities = np.array(self.effective_volatilities)\n",
    "        self.effective_returns = np.array(self.effective_returns)\n",
    "        self.effective_weights = np.array(self.effective_weights)\n",
    "\n",
    "    # Функция, получающая веса бумаг в портфеле в качестве входных параметров, и возвращающая массив \n",
    "    # данных о портфеле в формате [волатильность, доходность, коэффициент Шарпа]\n",
    "    def statistics(self, weights):\n",
    "        weights = np.array(weights)\n",
    "        portfolio_return = self.get_portfolio_return(weights)\n",
    "        portfolio_volatility = np.sqrt(np.dot(weights.T, np.dot(self.returns.cov() * self.num_of_days, weights)))\n",
    "    \n",
    "        return np.array([portfolio_volatility, portfolio_return, portfolio_return / portfolio_volatility])\n",
    "    \n",
    "    # Функция вычисления минимального отклонения\n",
    "    def min_volatility(self, weights):\n",
    "        return self.statistics(weights)[0]\n",
    "    \n",
    "    # Функция вычисления доходности портфеля\n",
    "    def get_portfolio_return(self, weights):\n",
    "        portfolio_start_price = 0\n",
    "        portfolio_end_price = 0\n",
    "\n",
    "        for w, sp, ep in zip(weights, self.start_prices, self.end_prices):\n",
    "            portfolio_start_price = portfolio_start_price + w * sp\n",
    "            portfolio_end_price = portfolio_end_price + w * ep\n",
    "            \n",
    "        return ((portfolio_end_price - portfolio_start_price) / portfolio_start_price)\n",
    "        #return np.sum(returns.mean() * weights) * num_of_days\n",
    "    \n",
    "    # Функция вычисления портфеля с максимальным коэффицентом Шарпа (отношением доходность/волатильность)\n",
    "    def get_max_sharpe_portfolio(self):\n",
    "        max_sharpe = 0\n",
    "        weights = []\n",
    "        for r, v, w in zip(self.effective_returns, self.effective_volatilities, self.effective_weights):\n",
    "            if r / v > max_sharpe:\n",
    "                max_sharpe =  r / v\n",
    "                weights = w\n",
    "                \n",
    "        self.optimal_symbols = []\n",
    "        self.optimal_weights = []\n",
    "        for sym, w in zip(self.symbols, weights):\n",
    "            if w.round(3) > 0.001:\n",
    "                self.optimal_symbols.append(sym)\n",
    "                self.optimal_weights.append(w.round(3)) # FIXME: shoudn't round value maybe\n",
    "        \n",
    "        return weights\n",
    "    \n",
    "    #\n",
    "    def get_min_variance_portfolio(self):\n",
    "        min_variace = 10\n",
    "        min_variance_portfolio = []\n",
    "        for v, w in zip(self.effective_volatilities, self.effective_weights):\n",
    "            if v < min_variace:\n",
    "                min_variace =  v\n",
    "                min_variance_portfolio = w\n",
    "\n",
    "        return min_variance_portfolio\n",
    "    \n",
    "    def plot(self):\n",
    "        plt.figure(figsize=(12, 6))\n",
    "\n",
    "        x_sharpe = self.statistics(self.get_max_sharpe_portfolio())[0]\n",
    "        y_sharpe = self.statistics(self.get_max_sharpe_portfolio())[1]\n",
    "\n",
    "        x_min_vol = self.statistics(self.get_min_variance_portfolio())[0]\n",
    "        y_min_vol = self.statistics(self.get_min_variance_portfolio())[1]\n",
    "\n",
    "        #plt.scatter(feasible_volatilities, feasible_returns, c = feasible_returns / feasible_volatilities, marker='o')\n",
    "        plt.scatter(self.effective_volatilities, self.effective_returns, c = self.effective_returns / self.effective_volatilities, marker='x')\n",
    "        plt.plot(x_sharpe, y_sharpe, 'rs', markersize=8.0) # portfolio with highest Sharpe ratio\n",
    "        plt.plot(x_min_vol, y_min_vol, 'ys', markersize=8.0) # portfolio with highest Sharpe ratio\n",
    "\n",
    "        plt.colorbar(label='Sharpe ratio')\n",
    "        plt.xlabel(r'$\\sigma_p$')\n",
    "        plt.ylabel(r'$\\bar{r_p}$')\n",
    "        "
   ]
  },
  {
   "cell_type": "markdown",
   "metadata": {},
   "source": [
    "Максимальный уровень волатильности, допустимый для данного инвестора"
   ]
  },
  {
   "cell_type": "code",
   "execution_count": 15,
   "metadata": {
    "collapsed": true
   },
   "outputs": [],
   "source": [
    "max_risk = 0.3"
   ]
  },
  {
   "cell_type": "markdown",
   "metadata": {},
   "source": [
    "Получение наименования компаний, входящих в S&P500 на данный момент (в момент запуска) "
   ]
  },
  {
   "cell_type": "code",
   "execution_count": 6,
   "metadata": {
    "collapsed": false
   },
   "outputs": [
    {
     "name": "stderr",
     "output_type": "stream",
     "text": [
      "/usr/lib/python2.7/site-packages/bs4/__init__.py:166: UserWarning: No parser was explicitly specified, so I'm using the best available HTML parser for this system (\"lxml\"). This usually isn't a problem, but if you run this code on another system, or in a different virtual environment, it may use a different parser and behave differently.\n",
      "\n",
      "To get rid of this warning, change this:\n",
      "\n",
      " BeautifulSoup([your markup])\n",
      "\n",
      "to this:\n",
      "\n",
      " BeautifulSoup([your markup], \"lxml\")\n",
      "\n",
      "  markup_type=markup_type))\n"
     ]
    }
   ],
   "source": [
    "sp500 = sp_500()"
   ]
  },
  {
   "cell_type": "code",
   "execution_count": 7,
   "metadata": {
    "collapsed": false
   },
   "outputs": [
    {
     "name": "stdout",
     "output_type": "stream",
     "text": [
      "industrials: 67 companies\n",
      "energy: 41 companies\n",
      "consumer_discretionary: 85 companies\n",
      "utilities: 29 companies\n",
      "telecommunications_services: 5 companies\n",
      "materials: 27 companies\n",
      "health_care: 56 companies\n",
      "consumer_staples: 38 companies\n",
      "financials: 89 companies\n",
      "information_technology: 67 companies\n"
     ]
    }
   ],
   "source": [
    "sp500.sectors()"
   ]
  },
  {
   "cell_type": "code",
   "execution_count": 8,
   "metadata": {
    "collapsed": false
   },
   "outputs": [
    {
     "name": "stdout",
     "output_type": "stream",
     "text": [
      "energy sector of S&P500\n",
      "41 companies:\n",
      "['APC', 'APA', 'BHI', 'COG', 'CAM', 'CHK', 'CVX', 'XEC', 'CPGX', 'CXO', 'COP', 'CNX', 'DVN', 'DO', 'ESV', 'EOG', 'EQT', 'XOM', 'FTI', 'HAL', 'HP', 'HES', 'KMI', 'MRO', 'MPC', 'MUR', 'NOV', 'NFX', 'NBL', 'OXY', 'OKE', 'PSX', 'PXD', 'RRC', 'SLB', 'SWN', 'SE', 'TSO', 'RIG', 'VLO', 'WMB']\n"
     ]
    }
   ],
   "source": [
    "sp500.show('energy')"
   ]
  },
  {
   "cell_type": "markdown",
   "metadata": {},
   "source": []
  },
  {
   "cell_type": "code",
   "execution_count": 12,
   "metadata": {
    "collapsed": false
   },
   "outputs": [
    {
     "name": "stdout",
     "output_type": "stream",
     "text": [
      "Investment period adjusted to 2014-01-02 - 2014-12-31\n",
      "Data fetched for 5 symbols for 252 trading days\n"
     ]
    }
   ],
   "source": [
    "p = portfolio(sp500.get('telecommunications_services'), '2014-01-01', '2015-01-01')"
   ]
  },
  {
   "cell_type": "markdown",
   "metadata": {},
   "source": [
    "Вычисление оптимального портфеля"
   ]
  },
  {
   "cell_type": "code",
   "execution_count": 13,
   "metadata": {
    "collapsed": false
   },
   "outputs": [
    {
     "name": "stdout",
     "output_type": "stream",
     "text": [
      "Investment period: 2014-01-02 - 2014-12-31\n",
      "Risk limit: 0.25\n",
      "Portfolio volatility: 0.188\n",
      "Portfolio return: 0.4\n",
      "Sharpe ratio: 2.133\n",
      "\n",
      "CTL: 0.525\n",
      "FTR: 0.151\n",
      "LVLT: 0.324\n"
     ]
    }
   ],
   "source": [
    "p.calc()"
   ]
  },
  {
   "cell_type": "code",
   "execution_count": 14,
   "metadata": {
    "collapsed": false
   },
   "outputs": [
    {
     "data": {
      "text/plain": [
       "(['CTL', 'FTR', 'LVLT'], [0.52500000000000002, 0.151, 0.32400000000000001])"
      ]
     },
     "execution_count": 14,
     "metadata": {},
     "output_type": "execute_result"
    }
   ],
   "source": [
    "p.get()"
   ]
  },
  {
   "cell_type": "code",
   "execution_count": 12,
   "metadata": {
    "collapsed": false
   },
   "outputs": [
    {
     "data": {
      "image/png": "[encoded data removed]",
      "text/plain": [
       "<matplotlib.figure.Figure at 0x7f813ede7e90>"
      ]
     },
     "metadata": {},
     "output_type": "display_data"
    }
   ],
   "source": [
    "p.plot()"
   ]
  },
  {
   "cell_type": "markdown",
   "metadata": {},
   "source": [
    "Создаём еще один портфель (на основе полученного оптимального портфеля) и проверяем его доходность на нужном промежутке времени"
   ]
  },
  {
   "cell_type": "code",
   "execution_count": 48,
   "metadata": {
    "collapsed": true
   },
   "outputs": [],
   "source": [
    "#t = portfolio()"
   ]
  },
  {
   "cell_type": "markdown",
   "metadata": {},
   "source": [
    "TODO: portfolio.plot() method"
   ]
  },
  {
   "cell_type": "code",
   "execution_count": 156,
   "metadata": {
    "collapsed": false,
    "scrolled": true
   },
   "outputs": [
    {
     "data": {
      "text/plain": [
       "<matplotlib.text.Text at 0x7f596c6c3490>"
      ]
     },
     "execution_count": 156,
     "metadata": {},
     "output_type": "execute_result"
    },
    {
     "data": {
      "image/png": "[encoded data removed]",
      "text/plain": [
       "<matplotlib.figure.Figure at 0x7f596c06bd90>"
      ]
     },
     "metadata": {},
     "output_type": "display_data"
    }
   ],
   "source": [
    "plt.figure(figsize=(12, 6))\n",
    "\n",
    "x_sharpe = statistics(optimal_sharpe)[0]\n",
    "y_sharpe = statistics(optimal_sharpe)[1]\n",
    "\n",
    "x_min_vol = statistics(minimal_volatility)[0]\n",
    "y_min_vol = statistics(minimal_volatility)[1]\n",
    "\n",
    "#plt.scatter(feasible_volatilities, feasible_returns, c = feasible_returns / feasible_volatilities, marker='o')\n",
    "plt.scatter(effective_volatilities, effective_returns, c = effective_returns / effective_volatilities, marker='x')\n",
    "plt.plot(x_sharpe, y_sharpe, 'rs', markersize=8.0) # portfolio with highest Sharpe ratio\n",
    "plt.plot(x_min_vol, y_min_vol, 'ys', markersize=8.0) # portfolio with highest Sharpe ratio\n",
    "\n",
    "plt.colorbar(label='Sharpe ratio')\n",
    "plt.xlabel(r'$\\sigma_p$')\n",
    "plt.ylabel(r'$\\bar{r_p}$')\n"
   ]
  }
 ],
 "metadata": {
  "kernelspec": {
   "display_name": "Python 2",
   "language": "python",
   "name": "python2"
  },
  "language_info": {
   "codemirror_mode": {
    "name": "ipython",
    "version": 2
   },
   "file_extension": ".py",
   "mimetype": "text/x-python",
   "name": "python",
   "nbconvert_exporter": "python",
   "pygments_lexer": "ipython2",
   "version": "2.7.10"
  }
 },
 "nbformat": 4,
 "nbformat_minor": 0
}
