{
 "cells": [
  {
   "cell_type": "markdown",
   "metadata": {},
   "source": [
    "Подключаемые библиотеки"
   ]
  },
  {
   "cell_type": "code",
   "execution_count": 2,
   "metadata": {
    "collapsed": false,
    "scrolled": false
   },
   "outputs": [
    {
     "name": "stderr",
     "output_type": "stream",
     "text": [
      "/usr/lib64/python2.7/site-packages/pandas/io/data.py:33: FutureWarning: \n",
      "The pandas.io.data module is moved to a separate package (pandas-datareader) and will be removed from pandas in a future version.\n",
      "After installing the pandas-datareader package (https://github.com/pydata/pandas-datareader), you can change the import ``from pandas.io import data, wb`` to ``from pandas_datareader import data, wb``.\n",
      "  FutureWarning)\n"
     ]
    }
   ],
   "source": [
    "import re\n",
    "import random\n",
    "import urllib2\n",
    "import math\n",
    "import numpy as np\n",
    "import scipy.interpolate as ip\n",
    "import pandas as pd\n",
    "import pandas.io.data as web\n",
    "import matplotlib.pyplot as plt\n",
    "import scipy.optimize as sco\n",
    "\n",
    "from bs4 import BeautifulSoup"
   ]
  },
  {
   "cell_type": "markdown",
   "metadata": {},
   "source": [
    "Настройки отображения графиков:"
   ]
  },
  {
   "cell_type": "code",
   "execution_count": 3,
   "metadata": {
    "collapsed": false
   },
   "outputs": [],
   "source": [
    "%matplotlib inline\n",
    "plt.style.use('fivethirtyeight') # The most fanciest styles are 'ggplot' and 'fivethirtyeight'\n",
    "# All available styles may be checked by\n",
    "#print plt.style.available"
   ]
  },
  {
   "cell_type": "code",
   "execution_count": 4,
   "metadata": {
    "collapsed": false
   },
   "outputs": [],
   "source": [
    "class sp_500():\n",
    "    sector_tickers = {}\n",
    "    symbols = []\n",
    "    \n",
    "    def __init__(self):\n",
    "        self.symbols = []\n",
    "        self.sector_tickers = dict()\n",
    "        \n",
    "        site = \"http://en.wikipedia.org/wiki/List_of_S%26P_500_companies\"\n",
    "        hdr = {'User-Agent': 'Mozilla/5.0'}\n",
    "        req = urllib2.Request(site, headers=hdr)\n",
    "        page = urllib2.urlopen(req)\n",
    "        soup = BeautifulSoup(page)\n",
    "\n",
    "        table = soup.find('table', {'class': 'wikitable sortable'})\n",
    "    \n",
    "        for row in table.findAll('tr'):\n",
    "            col = row.findAll('td')\n",
    "            if len(col) > 0:\n",
    "                sector = str(col[3].string.strip()).lower().replace(' ', '_')\n",
    "                ticker = str(col[0].string.strip())\n",
    "                date = str(col[6]).replace('<td>', '').replace('</td>', '')\n",
    "                #if date < historical_end_date:\n",
    "                if sector not in self.sector_tickers:\n",
    "                    self.sector_tickers[sector] = list()\n",
    "                self.sector_tickers[sector].append(ticker)\n",
    "                self.symbols.append(ticker)\n",
    "        \n",
    "       \n",
    "    # Show sectors summary\n",
    "    def sectors(self):\n",
    "        for s in self.sector_tickers:\n",
    "            print s + ': ' + str(len(self.sector_tickers[s])) + ' companies'\n",
    "            \n",
    "    # Show the sector summary and companies in it\n",
    "    def show(self, sector = None):\n",
    "        if sector == None:\n",
    "            self.sectors()\n",
    "        else:\n",
    "            print sector + ' sector of S&P500\\n' + str(len(self.sector_tickers[sector])) + ' companies:'\n",
    "            print self.sector_tickers[sector]\n",
    "    \n",
    "    # Get the company symbols\n",
    "    def get(self, sector = None):\n",
    "        symbols = []\n",
    "        if sector == None:\n",
    "            # Get the companies from all S&P500 sectors\n",
    "            for s in self.sector_tickers:\n",
    "                print s + ': ' + str(len(self.sector_tickers[s])) + ' companies'\n",
    "        else:\n",
    "            # Get the companies from the given sector\n",
    "            for sym in self.sector_tickers[sector]:\n",
    "                symbols.append(sym)\n",
    "        return symbols\n",
    "    \n",
    "    # Get random number of stocks\n",
    "    def random(self, num):\n",
    "        return random.sample(self.symbols, num)"
   ]
  },
  {
   "cell_type": "code",
   "execution_count": 19,
   "metadata": {
    "collapsed": false
   },
   "outputs": [],
   "source": [
    "class portfolio:\n",
    "    data = []\n",
    "    returns = []\n",
    "    start_prices = []\n",
    "    end_prices = []\n",
    "    \n",
    "    min_return = 0.0 # minimal return value \n",
    "    max_return = 0.7 # maximum return value\n",
    "    step = 100 \n",
    "    threshold = 0.01 # the companies with weights below this value are not included in portfolio\n",
    "    \n",
    "    # Constructor\n",
    "    def __init__(self, _symbols, _start, _end, _risk, _weights = None):\n",
    "        # Initializing data\n",
    "        self.data = pd.DataFrame()\n",
    "        self.num_of_days = 0\n",
    "        self.feasible_returns = []\n",
    "        self.feasible_volatilities = []\n",
    "        self.feasible_weights = []\n",
    "    \n",
    "        self.effective_volatilities = []\n",
    "        self.effective_returns = []\n",
    "        self.effective_weights = []\n",
    "        \n",
    "        self.symbols = []\n",
    "        self.sharpe_symbols = []\n",
    "        self.min_variance_symbols = []\n",
    "        \n",
    "        # \n",
    "        self.symbols = _symbols\n",
    "        self.start = _start\n",
    "        self.end = _end\n",
    "        self.max_risk = _risk\n",
    "        \n",
    "        self.fetch()\n",
    "        self.set_returns() \n",
    "        self.set_start_end_prices()\n",
    "        \n",
    "        if _weights != None:\n",
    "            self.test(_weights)\n",
    "    \n",
    "    # Get percent-view of an number (-24.5% instead of -0.245)\n",
    "    def percent(self, i):\n",
    "        formatted = str(i.round(3) * 100) + '%'\n",
    "        if i > 0:\n",
    "            formatted = '+' + formatted\n",
    "        return formatted\n",
    "    \n",
    "    #\n",
    "    def set_days(self):\n",
    "        for sym in self.symbols:\n",
    "            if len(self.data[sym]) == self.num_of_days:\n",
    "                start = str( re.split(' ', str(self.data[sym].axes[0][0]))[0])\n",
    "                end = str( re.split(' ', str(self.data[sym].axes[0][-1]))[0])\n",
    "                if self.start != start or self.end != end:\n",
    "                    self.start = start\n",
    "                    self.end = end\n",
    "                    print 'Investment period adjusted to ' + self.start + ' - ' + self.end\n",
    "                return\n",
    "            \n",
    "        print 'Error setting investment period'\n",
    "        return            \n",
    "    \n",
    "    # Вычисление логарифмически нормализованых доходностей (отношения уровня закрытия текущего дня к предыдущему) за исторический период   \n",
    "    def set_returns(self):\n",
    "        self.returns = np.log(self.data / self.data.shift(1))\n",
    "    \n",
    "    # \n",
    "    def set_start_end_prices(self):\n",
    "        self.start_prices = []\n",
    "        self.end_prices = []\n",
    "        for sym in self.symbols:\n",
    "            self.start_prices.append(self.data[sym][self.start])\n",
    "            self.end_prices.append(self.data[sym][self.end])\n",
    "    \n",
    "    # Retrieving data\n",
    "    def fetch(self):\n",
    "        fetched_symbols = []\n",
    "        for sym in self.symbols:\n",
    "            try:\n",
    "                self.data[sym]  = web.DataReader(sym, data_source='yahoo', start=self.start, end=self.end)['Adj Close']\n",
    "                fetched_symbols.append(sym)   \n",
    "                if self.data[sym].size > self.num_of_days:\n",
    "                    self.num_of_days = self.data[sym].size\n",
    "            except IOError:\n",
    "                print sym + ': no data available for requested period'\n",
    "                continue\n",
    "                \n",
    "        self.data.column = fetched_symbols\n",
    "    \n",
    "        for sym in self.symbols:\n",
    "            if sym not in fetched_symbols:\n",
    "                self.symbols.remove(sym)\n",
    "\n",
    "        self.set_days()\n",
    "        print 'Data fetched for ' + str(len(self.symbols)) + ' symbols and '+ str(self.num_of_days)  + ' trading days'\n",
    "    \n",
    "    #\n",
    "    def show(self, weights):\n",
    "        print \"Investment period: \" + self.start + \" - \" + self.end\n",
    "        print \"Risk limit: \" + str(self.max_risk)\n",
    "        \n",
    "        print \"Portfolio volatility: \" + str( self.statistics(weights)[0].round(3) )\n",
    "        print \"Portfolio return: \" + str( self.statistics(weights)[1].round(3) )   \n",
    "        print \"Sharpe ratio: \"  + str( self.statistics(weights)[2].round(3) )  \n",
    "        \n",
    "        print \"Portfolio weights:\"    \n",
    "        for sym, w in zip(self.symbols, weights):\n",
    "            if w > self.threshold:\n",
    "                print sym + ': ' + str(w.round(3))\n",
    "    \n",
    "    # Show the line with symbol statistics\n",
    "    # AAPL: 67.802 -> 72.73 (+7.3%)\n",
    "    def show_symbol(self, sym, start_price, end_price, return_rate):\n",
    "        print sym + ': ' + str(start_price.round(3)) + ' -> ' + str(end_price.round(3)) + ' (' + self.percent(return_rate) + ')'\n",
    "    \n",
    "    #\n",
    "    def test(self, weights):     \n",
    "        portfolio_start = 0\n",
    "        portfolio_end = 0\n",
    "        \n",
    "        for s, sp, ep, w in zip(self.symbols, self.start_prices, self.end_prices, weights):\n",
    "            ret = (ep - sp) / sp  \n",
    "            portfolio_start = portfolio_start + sp * w\n",
    "            portfolio_end = portfolio_end + ep * w\n",
    "            self.show_symbol(s, sp, ep, ret)\n",
    "            \n",
    "        portfolio_return = (portfolio_end - portfolio_start) / portfolio_start\n",
    "        print '\\nPortfolio return: ' + self.percent(portfolio_return) + '\\n'\n",
    "        \n",
    "        return\n",
    "    \n",
    "    #\n",
    "    def calc(self):\n",
    "        self.get_effective_set()\n",
    "        print 'The highest Sharpe ratio portfolio: '\n",
    "        self.show( self.get_max_sharpe_weights() )\n",
    "        \n",
    "        print '\\nThe minimal variance porfolio: '\n",
    "        self.show( self.get_min_variance_weights() )\n",
    "        \n",
    "    \n",
    "    # \n",
    "    def get_risky(self):\n",
    "        if len(self.sharpe_symbols) > 0:\n",
    "            return self.sharpe_symbols, self.sharpe_weights\n",
    "        else:\n",
    "            print 'The optimal portfolio is not calculated. Run calc() first'\n",
    "            \n",
    "    #\n",
    "    def get_conservative(self):\n",
    "        if len(self.min_variance_symbols) > 0:\n",
    "            return self.min_variance_symbols, self.min_variance_weights\n",
    "        else:\n",
    "            print 'The optimal portfolio is not calculated. Run calc() first'\n",
    "        return\n",
    "    \n",
    "    # Вычисление эффективного множества (effective set)\n",
    "    def get_effective_set(self):\n",
    "        self.effective_volatilities = []\n",
    "        self.effective_returns = []\n",
    "        self.effective_weights = []\n",
    "    \n",
    "        cons = ({'type': 'eq', 'fun': lambda x: np.sum(x) - 1})\n",
    "        bnds = tuple((0, 1) for x in range(len(self.symbols)))\n",
    "\n",
    "        for y in np.linspace(self.min_return, self.max_return, self.step):\n",
    "            cons = ({'type': 'eq', 'fun': lambda x: self.statistics(x)[1] - y}, {'type': 'eq', 'fun': lambda x: np.sum(x) - 1})\n",
    "            result = sco.minimize(self.min_volatility, len(self.symbols) * [1. / len(self.symbols),], method='SLSQP', bounds=bnds, constraints=cons)\n",
    "            if result['fun'] <= self.max_risk:\n",
    "                self.effective_volatilities.append(result['fun'])\n",
    "                self.effective_returns.append(y)\n",
    "                self.effective_weights.append(result['x'])\n",
    "    \n",
    "        self.effective_volatilities = np.array(self.effective_volatilities)\n",
    "        self.effective_returns = np.array(self.effective_returns)\n",
    "        self.effective_weights = np.array(self.effective_weights)\n",
    "\n",
    "    # Функция, получающая веса бумаг в портфеле в качестве входных параметров, и возвращающая массив \n",
    "    # данных о портфеле в формате [волатильность, доходность, коэффициент Шарпа]\n",
    "    def statistics(self, weights):\n",
    "        weights = np.array(weights)\n",
    "        portfolio_return = self.get_portfolio_return(weights)\n",
    "        portfolio_volatility = np.sqrt(np.dot(weights.T, np.dot(self.returns.cov() * self.num_of_days, weights)))\n",
    "    \n",
    "        return np.array([portfolio_volatility, portfolio_return, portfolio_return / portfolio_volatility])\n",
    "    \n",
    "    # Функция вычисления минимального отклонения\n",
    "    def min_volatility(self, weights):\n",
    "        return self.statistics(weights)[0]\n",
    "    \n",
    "    # Функция вычисления доходности портфеля\n",
    "    def get_portfolio_return(self, weights):\n",
    "        portfolio_start_price = 0\n",
    "        portfolio_end_price = 0\n",
    "\n",
    "        for w, sp, ep in zip(weights, self.start_prices, self.end_prices):\n",
    "            portfolio_start_price = portfolio_start_price + w * sp\n",
    "            portfolio_end_price = portfolio_end_price + w * ep\n",
    "        \n",
    "        try:\n",
    "            return ((portfolio_end_price - portfolio_start_price) / portfolio_start_price)\n",
    "        except ZeroDivisionError:\n",
    "            print 'Zero division exception'\n",
    "            print weights\n",
    "            return 0\n",
    "        #return np.sum(returns.mean() * weights) * num_of_days\n",
    "    \n",
    "    # Функция вычисления портфеля с максимальным коэффицентом Шарпа (отношением доходность/волатильность)\n",
    "    def get_max_sharpe_weights(self):\n",
    "        max_sharpe = 0\n",
    "        weights = []\n",
    "        for r, v, w in zip(self.effective_returns, self.effective_volatilities, self.effective_weights):\n",
    "            if r / v > max_sharpe:\n",
    "                max_sharpe =  r / v\n",
    "                weights = w\n",
    "                \n",
    "        self.sharpe_symbols = []\n",
    "        self.sharpe_weights = []\n",
    "        for sym, w in zip(self.symbols, weights):\n",
    "            if w > self.threshold:\n",
    "                self.sharpe_symbols.append(sym)\n",
    "                self.sharpe_weights.append(w.round(3)) # FIXME: shoudn't round value maybe\n",
    "        \n",
    "        return weights\n",
    "    \n",
    "    #\n",
    "    def get_min_variance_weights(self):\n",
    "        min_variance = 10\n",
    "        weights = []\n",
    "        for v, w in zip(self.effective_volatilities, self.effective_weights):\n",
    "            if v < min_variance:\n",
    "                min_variance =  v\n",
    "                weights = w\n",
    "                \n",
    "        self.min_variance_symbols = []\n",
    "        self.min_variance_weights = []\n",
    "        for sym, w in zip(self.symbols, weights):\n",
    "            if w.round(3) > 0.001:\n",
    "                self.min_variance_symbols.append(sym)\n",
    "                self.min_variance_weights.append(w.round(3)) # FIXME: shoudn't round value maybe\n",
    "\n",
    "        return weights\n",
    "    \n",
    "    def plot(self):\n",
    "        plt.figure(figsize=(12, 6))\n",
    "\n",
    "        x_sharpe = self.statistics(self.get_max_sharpe_weights())[0]\n",
    "        y_sharpe = self.statistics(self.get_max_sharpe_weights())[1]\n",
    "\n",
    "        x_min_vol = self.statistics(self.get_min_variance_weights())[0]\n",
    "        y_min_vol = self.statistics(self.get_min_variance_weights())[1]\n",
    "\n",
    "        #plt.scatter(feasible_volatilities, feasible_returns, c = feasible_returns / feasible_volatilities, marker='o')\n",
    "        plt.scatter(self.effective_volatilities, self.effective_returns, c = self.effective_returns / self.effective_volatilities, marker='x')\n",
    "        plt.plot(x_sharpe, y_sharpe, 'rs', markersize=8.0) # portfolio with highest Sharpe ratio\n",
    "        plt.plot(x_min_vol, y_min_vol, 'ys', markersize=8.0) # portfolio with highest Sharpe ratio\n",
    "\n",
    "        plt.colorbar(label='Sharpe ratio')\n",
    "        plt.xlabel(r'$\\sigma_p$')\n",
    "        plt.ylabel(r'$\\bar{r_p}$')\n",
    "        "
   ]
  },
  {
   "cell_type": "markdown",
   "metadata": {},
   "source": [
    "Получение наименования компаний, входящих в S&P500 на данный момент (в момент запуска) "
   ]
  },
  {
   "cell_type": "code",
   "execution_count": 6,
   "metadata": {
    "collapsed": false,
    "scrolled": false
   },
   "outputs": [
    {
     "name": "stderr",
     "output_type": "stream",
     "text": [
      "/usr/lib/python2.7/site-packages/bs4/__init__.py:166: UserWarning: No parser was explicitly specified, so I'm using the best available HTML parser for this system (\"lxml\"). This usually isn't a problem, but if you run this code on another system, or in a different virtual environment, it may use a different parser and behave differently.\n",
      "\n",
      "To get rid of this warning, change this:\n",
      "\n",
      " BeautifulSoup([your markup])\n",
      "\n",
      "to this:\n",
      "\n",
      " BeautifulSoup([your markup], \"lxml\")\n",
      "\n",
      "  markup_type=markup_type))\n"
     ]
    }
   ],
   "source": [
    "sp500 = sp_500()"
   ]
  },
  {
   "cell_type": "code",
   "execution_count": 6,
   "metadata": {
    "collapsed": false
   },
   "outputs": [
    {
     "name": "stdout",
     "output_type": "stream",
     "text": [
      "industrials: 67 companies\n",
      "energy: 41 companies\n",
      "consumer_discretionary: 85 companies\n",
      "utilities: 29 companies\n",
      "telecommunications_services: 5 companies\n",
      "materials: 27 companies\n",
      "health_care: 56 companies\n",
      "consumer_staples: 38 companies\n",
      "financials: 89 companies\n",
      "information_technology: 67 companies\n"
     ]
    }
   ],
   "source": [
    "sp500.sectors()"
   ]
  },
  {
   "cell_type": "code",
   "execution_count": 7,
   "metadata": {
    "collapsed": false
   },
   "outputs": [
    {
     "data": {
      "text/plain": [
       "['CNP', 'ADP', 'PHM']"
      ]
     },
     "execution_count": 7,
     "metadata": {},
     "output_type": "execute_result"
    }
   ],
   "source": [
    "sp500.random(3)"
   ]
  },
  {
   "cell_type": "code",
   "execution_count": 8,
   "metadata": {
    "collapsed": false
   },
   "outputs": [
    {
     "name": "stdout",
     "output_type": "stream",
     "text": [
      "industrials sector of S&P500\n",
      "67 companies:\n",
      "['MMM', 'ADT', 'ALLE', 'AAL', 'AME', 'APH', 'BA', 'CHRW', 'CAT', 'CTAS', 'GLW', 'CSX', 'CMI', 'DHR', 'DE', 'DAL', 'DOV', 'DNB', 'ETN', 'EMR', 'EXPD', 'FAST', 'FDX', 'FLIR', 'FLS', 'FLR', 'GD', 'GE', 'GWW', 'HON', 'ITW', 'IR', 'IRM', 'JEC', 'JBHT', 'KSU', 'LLL', 'LEG', 'LMT', 'MAS', 'NLSN', 'NSC', 'NOC', 'PCAR', 'PH', 'PNR', 'PBI', 'PWR', 'RTN', 'RSG', 'RHI', 'ROK', 'COL', 'ROP', 'R', 'LUV', 'SRCL', 'TXT', 'TYC', 'UNP', 'UAL', 'UPS', 'URI', 'UTX', 'VRSK', 'WM', 'XYL']\n"
     ]
    }
   ],
   "source": [
    "sp500.show('industrials')"
   ]
  },
  {
   "cell_type": "code",
   "execution_count": 20,
   "metadata": {
    "collapsed": false
   },
   "outputs": [
    {
     "name": "stdout",
     "output_type": "stream",
     "text": [
      "Investment period adjusted to 2014-01-02 - 2014-12-31\n",
      "Data fetched for 3 symbols and 252 trading days\n"
     ]
    }
   ],
   "source": [
    "max_risk = 0.2\n",
    "#p = portfolio(sp500.get('telecommunications_services'), '2014-01-01', '2015-01-01', max_risk)\n",
    "p = portfolio(sp500.random(3), '2014-01-01', '2015-01-01', max_risk)"
   ]
  },
  {
   "cell_type": "markdown",
   "metadata": {},
   "source": [
    "Вычисление оптимальных портфелей"
   ]
  },
  {
   "cell_type": "code",
   "execution_count": 11,
   "metadata": {
    "collapsed": false
   },
   "outputs": [
    {
     "name": "stdout",
     "output_type": "stream",
     "text": [
      "The highest Sharpe ratio portfolio: \n",
      "Investment period: 2014-01-02 - 2014-12-31\n",
      "Risk limit: 0.15\n",
      "Portfolio volatility: 0.126\n",
      "Portfolio return: 0.375\n",
      "Sharpe ratio: 2.977\n",
      "Portfolio weights:\n",
      "DAL: 0.033\n",
      "ADI: 0.027\n",
      "ISRG: 0.08\n",
      "ROST: 0.127\n",
      "JNPR: 0.102\n",
      "CVS: 0.622\n",
      "\n",
      "The minimal variance porfolio: \n",
      "Investment period: 2014-01-02 - 2014-12-31\n",
      "Risk limit: 0.15\n",
      "Portfolio volatility: 0.102\n",
      "Portfolio return: 0.156\n",
      "Sharpe ratio: 1.522\n",
      "Portfolio weights:\n",
      "DNB: 0.016\n",
      "JBHT: 0.138\n",
      "WMT: 0.422\n",
      "ADI: 0.03\n",
      "APA: 0.069\n",
      "ISRG: 0.018\n",
      "ROST: 0.033\n",
      "JNPR: 0.084\n",
      "CVS: 0.177\n"
     ]
    }
   ],
   "source": [
    "p.calc()"
   ]
  },
  {
   "cell_type": "code",
   "execution_count": 12,
   "metadata": {
    "collapsed": false
   },
   "outputs": [
    {
     "data": {
      "image/png": "[encoded data removed]",
      "text/plain": [
       "<matplotlib.figure.Figure at 0x7fd0815ddbd0>"
      ]
     },
     "metadata": {},
     "output_type": "display_data"
    }
   ],
   "source": [
    "p.plot()"
   ]
  },
  {
   "cell_type": "markdown",
   "metadata": {},
   "source": [
    "Оптимальный портфель (портфель с максимальным коэффициентом Шарпа):"
   ]
  },
  {
   "cell_type": "code",
   "execution_count": 13,
   "metadata": {
    "collapsed": false
   },
   "outputs": [],
   "source": [
    "#p.get_risky()"
   ]
  },
  {
   "cell_type": "markdown",
   "metadata": {},
   "source": [
    "Оптимальный портфель (портфель с наименьшей волатильностью)"
   ]
  },
  {
   "cell_type": "code",
   "execution_count": 14,
   "metadata": {
    "collapsed": false
   },
   "outputs": [],
   "source": [
    "#p.get_conservative()"
   ]
  },
  {
   "cell_type": "markdown",
   "metadata": {},
   "source": [
    "Проверяем доходности двух полученных оптимальных портфелей на нужном промежутке времени"
   ]
  },
  {
   "cell_type": "code",
   "execution_count": 15,
   "metadata": {
    "collapsed": false,
    "scrolled": false
   },
   "outputs": [
    {
     "name": "stdout",
     "output_type": "stream",
     "text": [
      "Investment period adjusted to 2015-01-02 - 2015-12-31\n",
      "Data fetched for 6 symbols and 252 trading days\n",
      "DAL: 48.555 -> 50.53 (+4.1%)\n",
      "ADI: 54.05 -> 55.32 (+2.3%)\n",
      "ISRG: 525.57 -> 546.16 (+3.9%)\n",
      "ROST: 46.431 -> 53.81 (+15.9%)\n",
      "JNPR: 22.117 -> 27.6 (+24.8%)\n",
      "CVS: 93.4 -> 97.333 (+4.2%)\n",
      "\n",
      "Portfolio return: +5.1%\n"
     ]
    }
   ],
   "source": [
    "r = portfolio(p.get_risky()[0], '2015-01-01', '2016-01-01', None, p.get_risky()[1])"
   ]
  },
  {
   "cell_type": "code",
   "execution_count": 16,
   "metadata": {
    "collapsed": false
   },
   "outputs": [
    {
     "name": "stdout",
     "output_type": "stream",
     "text": [
      "Investment period adjusted to 2015-01-02 - 2015-12-31\n",
      "Data fetched for 11 symbols and 252 trading days\n",
      "ALLE: 54.691 -> 65.92 (+20.5%)\n",
      "DNB: 119.757 -> 103.93 (-13.2%)\n",
      "JBHT: 82.125 -> 73.145 (-10.9%)\n",
      "WMT: 83.576 -> 61.3 (-26.7%)\n",
      "ADI: 54.05 -> 55.32 (+2.3%)\n",
      "APA: 62.233 -> 44.148 (-29.1%)\n",
      "ISRG: 525.57 -> 546.16 (+3.9%)\n",
      "ROST: 46.431 -> 53.81 (+15.9%)\n",
      "JNPR: 22.117 -> 27.6 (+24.8%)\n",
      "NFLX: 49.849 -> 114.38 (+129.5%)\n",
      "CVS: 93.4 -> 97.333 (+4.2%)\n",
      "\n",
      "Portfolio return: -11.9%\n"
     ]
    }
   ],
   "source": [
    "c = portfolio(p.get_conservative()[0], '2015-01-01', '2016-01-01', None, p.get_conservative()[1])"
   ]
  },
  {
   "cell_type": "code",
   "execution_count": 21,
   "metadata": {
    "collapsed": false
   },
   "outputs": [
    {
     "name": "stdout",
     "output_type": "stream",
     "text": [
      "============================ 8 ============================\n",
      "PYPL: no data available for requested period\n",
      "Investment period adjusted to 2014-01-02 - 2014-12-31\n",
      "Data fetched for 19 symbols and 252 trading days\n",
      "The highest Sharpe ratio portfolio: \n",
      "Investment period: 2014-01-02 - 2014-12-31\n",
      "Risk limit: 0.2\n",
      "Portfolio volatility: 0.16\n",
      "Portfolio return: 0.334\n",
      "Sharpe ratio: 2.087\n",
      "Portfolio weights:\n",
      "GPC: 1.0\n",
      "\n",
      "The minimal variance porfolio: \n",
      "Investment period: 2014-01-02 - 2014-12-31\n",
      "Risk limit: 0.2\n",
      "Portfolio volatility: 0.108\n",
      "Portfolio return: 0.113\n",
      "Sharpe ratio: 1.047\n",
      "Portfolio weights:\n",
      "GIS: 0.347\n",
      "SNI: 0.037\n",
      "KMI: 0.062\n",
      "SWK: 0.048\n",
      "CVC: 0.017\n",
      "WFM: 0.072\n",
      "USB: 0.117\n",
      "COL: 0.189\n",
      "BBT: 0.111\n",
      "Investment period adjusted to 2015-01-02 - 2015-12-31\n",
      "Data fetched for 1 symbols and 252 trading days\n",
      "GPC: 103.609 -> 85.89 (-17.1%)\n",
      "\n",
      "Portfolio return: -17.1%\n",
      "\n",
      "Investment period adjusted to 2015-01-02 - 2015-12-31\n",
      "Data fetched for 9 symbols and 252 trading days\n",
      "GIS: 51.08 -> 57.213 (+12.0%)\n",
      "SNI: 74.813 -> 55.21 (-26.2%)\n",
      "KMI: 40.191 -> 14.789 (-63.2%)\n",
      "SWK: 94.024 -> 106.73 (+13.5%)\n",
      "CVC: 20.317 -> 31.9 (+57.0%)\n",
      "WFM: 49.301 -> 33.36 (-32.3%)\n",
      "USB: 43.789 -> 42.67 (-2.6%)\n",
      "COL: 83.069 -> 91.917 (+10.7%)\n",
      "BBT: 37.297 -> 37.487 (+0.5%)\n",
      "\n",
      "Portfolio return: +1.9%\n",
      "\n",
      "============================ 9 ============================\n",
      "Investment period adjusted to 2014-01-02 - 2014-12-31\n",
      "Data fetched for 20 symbols and 252 trading days\n"
     ]
    },
    {
     "ename": "KeyboardInterrupt",
     "evalue": "",
     "output_type": "error",
     "traceback": [
      "\u001b[1;31m---------------------------------------------------------------------------\u001b[0m",
      "\u001b[1;31mKeyboardInterrupt\u001b[0m                         Traceback (most recent call last)",
      "\u001b[1;32m<ipython-input-21-520536e279d5>\u001b[0m in \u001b[0;36m<module>\u001b[1;34m()\u001b[0m\n\u001b[0;32m      4\u001b[0m     \u001b[1;32mprint\u001b[0m \u001b[1;34m'============================ '\u001b[0m \u001b[1;33m+\u001b[0m \u001b[0mstr\u001b[0m\u001b[1;33m(\u001b[0m\u001b[0mi\u001b[0m\u001b[1;33m)\u001b[0m \u001b[1;33m+\u001b[0m \u001b[1;34m' ============================'\u001b[0m\u001b[1;33m\u001b[0m\u001b[0m\n\u001b[0;32m      5\u001b[0m     \u001b[0mp\u001b[0m \u001b[1;33m=\u001b[0m \u001b[0mportfolio\u001b[0m\u001b[1;33m(\u001b[0m\u001b[0msp500\u001b[0m\u001b[1;33m.\u001b[0m\u001b[0mrandom\u001b[0m\u001b[1;33m(\u001b[0m\u001b[1;36m20\u001b[0m\u001b[1;33m)\u001b[0m\u001b[1;33m,\u001b[0m \u001b[1;34m'2014-01-01'\u001b[0m\u001b[1;33m,\u001b[0m \u001b[1;34m'2015-01-01'\u001b[0m\u001b[1;33m,\u001b[0m \u001b[0mmax_risk\u001b[0m\u001b[1;33m)\u001b[0m\u001b[1;33m\u001b[0m\u001b[0m\n\u001b[1;32m----> 6\u001b[1;33m     \u001b[0mp\u001b[0m\u001b[1;33m.\u001b[0m\u001b[0mcalc\u001b[0m\u001b[1;33m(\u001b[0m\u001b[1;33m)\u001b[0m\u001b[1;33m\u001b[0m\u001b[0m\n\u001b[0m\u001b[0;32m      7\u001b[0m     \u001b[0mr\u001b[0m \u001b[1;33m=\u001b[0m \u001b[0mportfolio\u001b[0m\u001b[1;33m(\u001b[0m\u001b[0mp\u001b[0m\u001b[1;33m.\u001b[0m\u001b[0mget_risky\u001b[0m\u001b[1;33m(\u001b[0m\u001b[1;33m)\u001b[0m\u001b[1;33m[\u001b[0m\u001b[1;36m0\u001b[0m\u001b[1;33m]\u001b[0m\u001b[1;33m,\u001b[0m \u001b[1;34m'2015-01-01'\u001b[0m\u001b[1;33m,\u001b[0m \u001b[1;34m'2016-01-01'\u001b[0m\u001b[1;33m,\u001b[0m \u001b[0mNone\u001b[0m\u001b[1;33m,\u001b[0m \u001b[0mp\u001b[0m\u001b[1;33m.\u001b[0m\u001b[0mget_risky\u001b[0m\u001b[1;33m(\u001b[0m\u001b[1;33m)\u001b[0m\u001b[1;33m[\u001b[0m\u001b[1;36m1\u001b[0m\u001b[1;33m]\u001b[0m\u001b[1;33m)\u001b[0m\u001b[1;33m\u001b[0m\u001b[0m\n\u001b[0;32m      8\u001b[0m     \u001b[0mc\u001b[0m \u001b[1;33m=\u001b[0m \u001b[0mportfolio\u001b[0m\u001b[1;33m(\u001b[0m\u001b[0mp\u001b[0m\u001b[1;33m.\u001b[0m\u001b[0mget_conservative\u001b[0m\u001b[1;33m(\u001b[0m\u001b[1;33m)\u001b[0m\u001b[1;33m[\u001b[0m\u001b[1;36m0\u001b[0m\u001b[1;33m]\u001b[0m\u001b[1;33m,\u001b[0m \u001b[1;34m'2015-01-01'\u001b[0m\u001b[1;33m,\u001b[0m \u001b[1;34m'2016-01-01'\u001b[0m\u001b[1;33m,\u001b[0m \u001b[0mNone\u001b[0m\u001b[1;33m,\u001b[0m \u001b[0mp\u001b[0m\u001b[1;33m.\u001b[0m\u001b[0mget_conservative\u001b[0m\u001b[1;33m(\u001b[0m\u001b[1;33m)\u001b[0m\u001b[1;33m[\u001b[0m\u001b[1;36m1\u001b[0m\u001b[1;33m]\u001b[0m\u001b[1;33m)\u001b[0m\u001b[1;33m\u001b[0m\u001b[0m\n",
      "\u001b[1;32m<ipython-input-19-7e4a9abc95f0>\u001b[0m in \u001b[0;36mcalc\u001b[1;34m(self)\u001b[0m\n\u001b[0;32m    145\u001b[0m     \u001b[1;31m#\u001b[0m\u001b[1;33m\u001b[0m\u001b[1;33m\u001b[0m\u001b[0m\n\u001b[0;32m    146\u001b[0m     \u001b[1;32mdef\u001b[0m \u001b[0mcalc\u001b[0m\u001b[1;33m(\u001b[0m\u001b[0mself\u001b[0m\u001b[1;33m)\u001b[0m\u001b[1;33m:\u001b[0m\u001b[1;33m\u001b[0m\u001b[0m\n\u001b[1;32m--> 147\u001b[1;33m         \u001b[0mself\u001b[0m\u001b[1;33m.\u001b[0m\u001b[0mget_effective_set\u001b[0m\u001b[1;33m(\u001b[0m\u001b[1;33m)\u001b[0m\u001b[1;33m\u001b[0m\u001b[0m\n\u001b[0m\u001b[0;32m    148\u001b[0m         \u001b[1;32mprint\u001b[0m \u001b[1;34m'The highest Sharpe ratio portfolio: '\u001b[0m\u001b[1;33m\u001b[0m\u001b[0m\n\u001b[0;32m    149\u001b[0m         \u001b[0mself\u001b[0m\u001b[1;33m.\u001b[0m\u001b[0mshow\u001b[0m\u001b[1;33m(\u001b[0m \u001b[0mself\u001b[0m\u001b[1;33m.\u001b[0m\u001b[0mget_max_sharpe_weights\u001b[0m\u001b[1;33m(\u001b[0m\u001b[1;33m)\u001b[0m \u001b[1;33m)\u001b[0m\u001b[1;33m\u001b[0m\u001b[0m\n",
      "\u001b[1;32m<ipython-input-19-7e4a9abc95f0>\u001b[0m in \u001b[0;36mget_effective_set\u001b[1;34m(self)\u001b[0m\n\u001b[0;32m    179\u001b[0m         \u001b[1;32mfor\u001b[0m \u001b[0my\u001b[0m \u001b[1;32min\u001b[0m \u001b[0mnp\u001b[0m\u001b[1;33m.\u001b[0m\u001b[0mlinspace\u001b[0m\u001b[1;33m(\u001b[0m\u001b[0mself\u001b[0m\u001b[1;33m.\u001b[0m\u001b[0mmin_return\u001b[0m\u001b[1;33m,\u001b[0m \u001b[0mself\u001b[0m\u001b[1;33m.\u001b[0m\u001b[0mmax_return\u001b[0m\u001b[1;33m,\u001b[0m \u001b[0mself\u001b[0m\u001b[1;33m.\u001b[0m\u001b[0mstep\u001b[0m\u001b[1;33m)\u001b[0m\u001b[1;33m:\u001b[0m\u001b[1;33m\u001b[0m\u001b[0m\n\u001b[0;32m    180\u001b[0m             \u001b[0mcons\u001b[0m \u001b[1;33m=\u001b[0m \u001b[1;33m(\u001b[0m\u001b[1;33m{\u001b[0m\u001b[1;34m'type'\u001b[0m\u001b[1;33m:\u001b[0m \u001b[1;34m'eq'\u001b[0m\u001b[1;33m,\u001b[0m \u001b[1;34m'fun'\u001b[0m\u001b[1;33m:\u001b[0m \u001b[1;32mlambda\u001b[0m \u001b[0mx\u001b[0m\u001b[1;33m:\u001b[0m \u001b[0mself\u001b[0m\u001b[1;33m.\u001b[0m\u001b[0mstatistics\u001b[0m\u001b[1;33m(\u001b[0m\u001b[0mx\u001b[0m\u001b[1;33m)\u001b[0m\u001b[1;33m[\u001b[0m\u001b[1;36m1\u001b[0m\u001b[1;33m]\u001b[0m \u001b[1;33m-\u001b[0m \u001b[0my\u001b[0m\u001b[1;33m}\u001b[0m\u001b[1;33m,\u001b[0m \u001b[1;33m{\u001b[0m\u001b[1;34m'type'\u001b[0m\u001b[1;33m:\u001b[0m \u001b[1;34m'eq'\u001b[0m\u001b[1;33m,\u001b[0m \u001b[1;34m'fun'\u001b[0m\u001b[1;33m:\u001b[0m \u001b[1;32mlambda\u001b[0m \u001b[0mx\u001b[0m\u001b[1;33m:\u001b[0m \u001b[0mnp\u001b[0m\u001b[1;33m.\u001b[0m\u001b[0msum\u001b[0m\u001b[1;33m(\u001b[0m\u001b[0mx\u001b[0m\u001b[1;33m)\u001b[0m \u001b[1;33m-\u001b[0m \u001b[1;36m1\u001b[0m\u001b[1;33m}\u001b[0m\u001b[1;33m)\u001b[0m\u001b[1;33m\u001b[0m\u001b[0m\n\u001b[1;32m--> 181\u001b[1;33m             \u001b[0mresult\u001b[0m \u001b[1;33m=\u001b[0m \u001b[0msco\u001b[0m\u001b[1;33m.\u001b[0m\u001b[0mminimize\u001b[0m\u001b[1;33m(\u001b[0m\u001b[0mself\u001b[0m\u001b[1;33m.\u001b[0m\u001b[0mmin_volatility\u001b[0m\u001b[1;33m,\u001b[0m \u001b[0mlen\u001b[0m\u001b[1;33m(\u001b[0m\u001b[0mself\u001b[0m\u001b[1;33m.\u001b[0m\u001b[0msymbols\u001b[0m\u001b[1;33m)\u001b[0m \u001b[1;33m*\u001b[0m \u001b[1;33m[\u001b[0m\u001b[1;36m1.\u001b[0m \u001b[1;33m/\u001b[0m \u001b[0mlen\u001b[0m\u001b[1;33m(\u001b[0m\u001b[0mself\u001b[0m\u001b[1;33m.\u001b[0m\u001b[0msymbols\u001b[0m\u001b[1;33m)\u001b[0m\u001b[1;33m,\u001b[0m\u001b[1;33m]\u001b[0m\u001b[1;33m,\u001b[0m \u001b[0mmethod\u001b[0m\u001b[1;33m=\u001b[0m\u001b[1;34m'SLSQP'\u001b[0m\u001b[1;33m,\u001b[0m \u001b[0mbounds\u001b[0m\u001b[1;33m=\u001b[0m\u001b[0mbnds\u001b[0m\u001b[1;33m,\u001b[0m \u001b[0mconstraints\u001b[0m\u001b[1;33m=\u001b[0m\u001b[0mcons\u001b[0m\u001b[1;33m)\u001b[0m\u001b[1;33m\u001b[0m\u001b[0m\n\u001b[0m\u001b[0;32m    182\u001b[0m             \u001b[1;32mif\u001b[0m \u001b[0mresult\u001b[0m\u001b[1;33m[\u001b[0m\u001b[1;34m'fun'\u001b[0m\u001b[1;33m]\u001b[0m \u001b[1;33m<=\u001b[0m \u001b[0mself\u001b[0m\u001b[1;33m.\u001b[0m\u001b[0mmax_risk\u001b[0m\u001b[1;33m:\u001b[0m\u001b[1;33m\u001b[0m\u001b[0m\n\u001b[0;32m    183\u001b[0m                 \u001b[0mself\u001b[0m\u001b[1;33m.\u001b[0m\u001b[0meffective_volatilities\u001b[0m\u001b[1;33m.\u001b[0m\u001b[0mappend\u001b[0m\u001b[1;33m(\u001b[0m\u001b[0mresult\u001b[0m\u001b[1;33m[\u001b[0m\u001b[1;34m'fun'\u001b[0m\u001b[1;33m]\u001b[0m\u001b[1;33m)\u001b[0m\u001b[1;33m\u001b[0m\u001b[0m\n",
      "\u001b[1;32m/usr/lib64/python2.7/site-packages/scipy/optimize/_minimize.pyc\u001b[0m in \u001b[0;36mminimize\u001b[1;34m(fun, x0, args, method, jac, hess, hessp, bounds, constraints, tol, callback, options)\u001b[0m\n\u001b[0;32m    433\u001b[0m     \u001b[1;32melif\u001b[0m \u001b[0mmeth\u001b[0m \u001b[1;33m==\u001b[0m \u001b[1;34m'slsqp'\u001b[0m\u001b[1;33m:\u001b[0m\u001b[1;33m\u001b[0m\u001b[0m\n\u001b[0;32m    434\u001b[0m         return _minimize_slsqp(fun, x0, args, jac, bounds,\n\u001b[1;32m--> 435\u001b[1;33m                                constraints, callback=callback, **options)\n\u001b[0m\u001b[0;32m    436\u001b[0m     \u001b[1;32melif\u001b[0m \u001b[0mmeth\u001b[0m \u001b[1;33m==\u001b[0m \u001b[1;34m'dogleg'\u001b[0m\u001b[1;33m:\u001b[0m\u001b[1;33m\u001b[0m\u001b[0m\n\u001b[0;32m    437\u001b[0m         return _minimize_dogleg(fun, x0, args, jac, hess,\n",
      "\u001b[1;32m/usr/lib64/python2.7/site-packages/scipy/optimize/slsqp.pyc\u001b[0m in \u001b[0;36m_minimize_slsqp\u001b[1;34m(func, x0, args, jac, bounds, constraints, maxiter, ftol, iprint, disp, eps, callback, **unknown_options)\u001b[0m\n\u001b[0;32m    382\u001b[0m             \u001b[1;31m# Compute the derivatives of the objective function\u001b[0m\u001b[1;33m\u001b[0m\u001b[1;33m\u001b[0m\u001b[0m\n\u001b[0;32m    383\u001b[0m             \u001b[1;31m# For some reason SLSQP wants g dimensioned to n+1\u001b[0m\u001b[1;33m\u001b[0m\u001b[1;33m\u001b[0m\u001b[0m\n\u001b[1;32m--> 384\u001b[1;33m             \u001b[0mg\u001b[0m \u001b[1;33m=\u001b[0m \u001b[0mappend\u001b[0m\u001b[1;33m(\u001b[0m\u001b[0mfprime\u001b[0m\u001b[1;33m(\u001b[0m\u001b[0mx\u001b[0m\u001b[1;33m)\u001b[0m\u001b[1;33m,\u001b[0m\u001b[1;36m0.0\u001b[0m\u001b[1;33m)\u001b[0m\u001b[1;33m\u001b[0m\u001b[0m\n\u001b[0m\u001b[0;32m    385\u001b[0m \u001b[1;33m\u001b[0m\u001b[0m\n\u001b[0;32m    386\u001b[0m             \u001b[1;31m# Compute the normals of the constraints\u001b[0m\u001b[1;33m\u001b[0m\u001b[1;33m\u001b[0m\u001b[0m\n",
      "\u001b[1;32m/usr/lib64/python2.7/site-packages/scipy/optimize/optimize.pyc\u001b[0m in \u001b[0;36mfunction_wrapper\u001b[1;34m(*wrapper_args)\u001b[0m\n\u001b[0;32m    279\u001b[0m     \u001b[1;32mdef\u001b[0m \u001b[0mfunction_wrapper\u001b[0m\u001b[1;33m(\u001b[0m\u001b[1;33m*\u001b[0m\u001b[0mwrapper_args\u001b[0m\u001b[1;33m)\u001b[0m\u001b[1;33m:\u001b[0m\u001b[1;33m\u001b[0m\u001b[0m\n\u001b[0;32m    280\u001b[0m         \u001b[0mncalls\u001b[0m\u001b[1;33m[\u001b[0m\u001b[1;36m0\u001b[0m\u001b[1;33m]\u001b[0m \u001b[1;33m+=\u001b[0m \u001b[1;36m1\u001b[0m\u001b[1;33m\u001b[0m\u001b[0m\n\u001b[1;32m--> 281\u001b[1;33m         \u001b[1;32mreturn\u001b[0m \u001b[0mfunction\u001b[0m\u001b[1;33m(\u001b[0m\u001b[1;33m*\u001b[0m\u001b[1;33m(\u001b[0m\u001b[0mwrapper_args\u001b[0m \u001b[1;33m+\u001b[0m \u001b[0margs\u001b[0m\u001b[1;33m)\u001b[0m\u001b[1;33m)\u001b[0m\u001b[1;33m\u001b[0m\u001b[0m\n\u001b[0m\u001b[0;32m    282\u001b[0m \u001b[1;33m\u001b[0m\u001b[0m\n\u001b[0;32m    283\u001b[0m     \u001b[1;32mreturn\u001b[0m \u001b[0mncalls\u001b[0m\u001b[1;33m,\u001b[0m \u001b[0mfunction_wrapper\u001b[0m\u001b[1;33m\u001b[0m\u001b[0m\n",
      "\u001b[1;32m/usr/lib64/python2.7/site-packages/scipy/optimize/slsqp.pyc\u001b[0m in \u001b[0;36mapprox_jacobian\u001b[1;34m(x, func, epsilon, *args)\u001b[0m\n\u001b[0;32m     60\u001b[0m     \u001b[1;32mfor\u001b[0m \u001b[0mi\u001b[0m \u001b[1;32min\u001b[0m \u001b[0mrange\u001b[0m\u001b[1;33m(\u001b[0m\u001b[0mlen\u001b[0m\u001b[1;33m(\u001b[0m\u001b[0mx0\u001b[0m\u001b[1;33m)\u001b[0m\u001b[1;33m)\u001b[0m\u001b[1;33m:\u001b[0m\u001b[1;33m\u001b[0m\u001b[0m\n\u001b[0;32m     61\u001b[0m         \u001b[0mdx\u001b[0m\u001b[1;33m[\u001b[0m\u001b[0mi\u001b[0m\u001b[1;33m]\u001b[0m \u001b[1;33m=\u001b[0m \u001b[0mepsilon\u001b[0m\u001b[1;33m\u001b[0m\u001b[0m\n\u001b[1;32m---> 62\u001b[1;33m         \u001b[0mjac\u001b[0m\u001b[1;33m[\u001b[0m\u001b[0mi\u001b[0m\u001b[1;33m]\u001b[0m \u001b[1;33m=\u001b[0m \u001b[1;33m(\u001b[0m\u001b[0mfunc\u001b[0m\u001b[1;33m(\u001b[0m\u001b[1;33m*\u001b[0m\u001b[1;33m(\u001b[0m\u001b[1;33m(\u001b[0m\u001b[0mx0\u001b[0m\u001b[1;33m+\u001b[0m\u001b[0mdx\u001b[0m\u001b[1;33m,\u001b[0m\u001b[1;33m)\u001b[0m\u001b[1;33m+\u001b[0m\u001b[0margs\u001b[0m\u001b[1;33m)\u001b[0m\u001b[1;33m)\u001b[0m \u001b[1;33m-\u001b[0m \u001b[0mf0\u001b[0m\u001b[1;33m)\u001b[0m\u001b[1;33m/\u001b[0m\u001b[0mepsilon\u001b[0m\u001b[1;33m\u001b[0m\u001b[0m\n\u001b[0m\u001b[0;32m     63\u001b[0m         \u001b[0mdx\u001b[0m\u001b[1;33m[\u001b[0m\u001b[0mi\u001b[0m\u001b[1;33m]\u001b[0m \u001b[1;33m=\u001b[0m \u001b[1;36m0.0\u001b[0m\u001b[1;33m\u001b[0m\u001b[0m\n\u001b[0;32m     64\u001b[0m \u001b[1;33m\u001b[0m\u001b[0m\n",
      "\u001b[1;32m/usr/lib64/python2.7/site-packages/scipy/optimize/optimize.pyc\u001b[0m in \u001b[0;36mfunction_wrapper\u001b[1;34m(*wrapper_args)\u001b[0m\n\u001b[0;32m    279\u001b[0m     \u001b[1;32mdef\u001b[0m \u001b[0mfunction_wrapper\u001b[0m\u001b[1;33m(\u001b[0m\u001b[1;33m*\u001b[0m\u001b[0mwrapper_args\u001b[0m\u001b[1;33m)\u001b[0m\u001b[1;33m:\u001b[0m\u001b[1;33m\u001b[0m\u001b[0m\n\u001b[0;32m    280\u001b[0m         \u001b[0mncalls\u001b[0m\u001b[1;33m[\u001b[0m\u001b[1;36m0\u001b[0m\u001b[1;33m]\u001b[0m \u001b[1;33m+=\u001b[0m \u001b[1;36m1\u001b[0m\u001b[1;33m\u001b[0m\u001b[0m\n\u001b[1;32m--> 281\u001b[1;33m         \u001b[1;32mreturn\u001b[0m \u001b[0mfunction\u001b[0m\u001b[1;33m(\u001b[0m\u001b[1;33m*\u001b[0m\u001b[1;33m(\u001b[0m\u001b[0mwrapper_args\u001b[0m \u001b[1;33m+\u001b[0m \u001b[0margs\u001b[0m\u001b[1;33m)\u001b[0m\u001b[1;33m)\u001b[0m\u001b[1;33m\u001b[0m\u001b[0m\n\u001b[0m\u001b[0;32m    282\u001b[0m \u001b[1;33m\u001b[0m\u001b[0m\n\u001b[0;32m    283\u001b[0m     \u001b[1;32mreturn\u001b[0m \u001b[0mncalls\u001b[0m\u001b[1;33m,\u001b[0m \u001b[0mfunction_wrapper\u001b[0m\u001b[1;33m\u001b[0m\u001b[0m\n",
      "\u001b[1;32m<ipython-input-19-7e4a9abc95f0>\u001b[0m in \u001b[0;36mmin_volatility\u001b[1;34m(self, weights)\u001b[0m\n\u001b[0;32m    200\u001b[0m     \u001b[1;31m# Функция вычисления минимального отклонения\u001b[0m\u001b[1;33m\u001b[0m\u001b[1;33m\u001b[0m\u001b[0m\n\u001b[0;32m    201\u001b[0m     \u001b[1;32mdef\u001b[0m \u001b[0mmin_volatility\u001b[0m\u001b[1;33m(\u001b[0m\u001b[0mself\u001b[0m\u001b[1;33m,\u001b[0m \u001b[0mweights\u001b[0m\u001b[1;33m)\u001b[0m\u001b[1;33m:\u001b[0m\u001b[1;33m\u001b[0m\u001b[0m\n\u001b[1;32m--> 202\u001b[1;33m         \u001b[1;32mreturn\u001b[0m \u001b[0mself\u001b[0m\u001b[1;33m.\u001b[0m\u001b[0mstatistics\u001b[0m\u001b[1;33m(\u001b[0m\u001b[0mweights\u001b[0m\u001b[1;33m)\u001b[0m\u001b[1;33m[\u001b[0m\u001b[1;36m0\u001b[0m\u001b[1;33m]\u001b[0m\u001b[1;33m\u001b[0m\u001b[0m\n\u001b[0m\u001b[0;32m    203\u001b[0m \u001b[1;33m\u001b[0m\u001b[0m\n\u001b[0;32m    204\u001b[0m     \u001b[1;31m# Функция вычисления доходности портфеля\u001b[0m\u001b[1;33m\u001b[0m\u001b[1;33m\u001b[0m\u001b[0m\n",
      "\u001b[1;32m<ipython-input-19-7e4a9abc95f0>\u001b[0m in \u001b[0;36mstatistics\u001b[1;34m(self, weights)\u001b[0m\n\u001b[0;32m    194\u001b[0m         \u001b[0mweights\u001b[0m \u001b[1;33m=\u001b[0m \u001b[0mnp\u001b[0m\u001b[1;33m.\u001b[0m\u001b[0marray\u001b[0m\u001b[1;33m(\u001b[0m\u001b[0mweights\u001b[0m\u001b[1;33m)\u001b[0m\u001b[1;33m\u001b[0m\u001b[0m\n\u001b[0;32m    195\u001b[0m         \u001b[0mportfolio_return\u001b[0m \u001b[1;33m=\u001b[0m \u001b[0mself\u001b[0m\u001b[1;33m.\u001b[0m\u001b[0mget_portfolio_return\u001b[0m\u001b[1;33m(\u001b[0m\u001b[0mweights\u001b[0m\u001b[1;33m)\u001b[0m\u001b[1;33m\u001b[0m\u001b[0m\n\u001b[1;32m--> 196\u001b[1;33m         \u001b[0mportfolio_volatility\u001b[0m \u001b[1;33m=\u001b[0m \u001b[0mnp\u001b[0m\u001b[1;33m.\u001b[0m\u001b[0msqrt\u001b[0m\u001b[1;33m(\u001b[0m\u001b[0mnp\u001b[0m\u001b[1;33m.\u001b[0m\u001b[0mdot\u001b[0m\u001b[1;33m(\u001b[0m\u001b[0mweights\u001b[0m\u001b[1;33m.\u001b[0m\u001b[0mT\u001b[0m\u001b[1;33m,\u001b[0m \u001b[0mnp\u001b[0m\u001b[1;33m.\u001b[0m\u001b[0mdot\u001b[0m\u001b[1;33m(\u001b[0m\u001b[0mself\u001b[0m\u001b[1;33m.\u001b[0m\u001b[0mreturns\u001b[0m\u001b[1;33m.\u001b[0m\u001b[0mcov\u001b[0m\u001b[1;33m(\u001b[0m\u001b[1;33m)\u001b[0m \u001b[1;33m*\u001b[0m \u001b[0mself\u001b[0m\u001b[1;33m.\u001b[0m\u001b[0mnum_of_days\u001b[0m\u001b[1;33m,\u001b[0m \u001b[0mweights\u001b[0m\u001b[1;33m)\u001b[0m\u001b[1;33m)\u001b[0m\u001b[1;33m)\u001b[0m\u001b[1;33m\u001b[0m\u001b[0m\n\u001b[0m\u001b[0;32m    197\u001b[0m \u001b[1;33m\u001b[0m\u001b[0m\n\u001b[0;32m    198\u001b[0m         \u001b[1;32mreturn\u001b[0m \u001b[0mnp\u001b[0m\u001b[1;33m.\u001b[0m\u001b[0marray\u001b[0m\u001b[1;33m(\u001b[0m\u001b[1;33m[\u001b[0m\u001b[0mportfolio_volatility\u001b[0m\u001b[1;33m,\u001b[0m \u001b[0mportfolio_return\u001b[0m\u001b[1;33m,\u001b[0m \u001b[0mportfolio_return\u001b[0m \u001b[1;33m/\u001b[0m \u001b[0mportfolio_volatility\u001b[0m\u001b[1;33m]\u001b[0m\u001b[1;33m)\u001b[0m\u001b[1;33m\u001b[0m\u001b[0m\n",
      "\u001b[1;31mKeyboardInterrupt\u001b[0m: "
     ]
    }
   ],
   "source": [
    "max_risk = 0.2\n",
    "#p = portfolio(sp500.get('telecommunications_services'), '2014-01-01', '2015-01-01', max_risk)\n",
    "for i in range(8,10):\n",
    "    print '============================ ' + str(i) + ' ============================'\n",
    "    p = portfolio(sp500.random(20), '2014-01-01', '2015-01-01', max_risk)\n",
    "    p.calc()\n",
    "    r = portfolio(p.get_risky()[0], '2015-01-01', '2016-01-01', None, p.get_risky()[1])\n",
    "    c = portfolio(p.get_conservative()[0], '2015-01-01', '2016-01-01', None, p.get_conservative()[1])"
   ]
  },
  {
   "cell_type": "markdown",
   "metadata": {},
   "source": []
  }
 ],
 "metadata": {
  "kernelspec": {
   "display_name": "Python 2",
   "language": "python",
   "name": "python2"
  },
  "language_info": {
   "codemirror_mode": {
    "name": "ipython",
    "version": 2
   },
   "file_extension": ".py",
   "mimetype": "text/x-python",
   "name": "python",
   "nbconvert_exporter": "python",
   "pygments_lexer": "ipython2",
   "version": "2.7.10"
  }
 },
 "nbformat": 4,
 "nbformat_minor": 0
}
