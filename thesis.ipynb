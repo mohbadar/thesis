{
 "cells": [
  {
   "cell_type": "markdown",
   "metadata": {},
   "source": [
    "Подключаемые библиотеки"
   ]
  },
  {
   "cell_type": "code",
   "execution_count": 1,
   "metadata": {
    "collapsed": false,
    "scrolled": false
   },
   "outputs": [
    {
     "name": "stderr",
     "output_type": "stream",
     "text": [
      "/usr/lib64/python2.7/site-packages/pandas/io/data.py:33: FutureWarning: \n",
      "The pandas.io.data module is moved to a separate package (pandas-datareader) and will be removed from pandas in a future version.\n",
      "After installing the pandas-datareader package (https://github.com/pydata/pandas-datareader), you can change the import ``from pandas.io import data, wb`` to ``from pandas_datareader import data, wb``.\n",
      "  FutureWarning)\n"
     ]
    }
   ],
   "source": [
    "import re\n",
    "import random\n",
    "import urllib2\n",
    "import math\n",
    "import numpy as np\n",
    "import scipy.interpolate as ip\n",
    "import pandas as pd\n",
    "import pandas.io.data as web\n",
    "import matplotlib.pyplot as plt\n",
    "import scipy.optimize as sco\n",
    "\n",
    "from bs4 import BeautifulSoup"
   ]
  },
  {
   "cell_type": "markdown",
   "metadata": {},
   "source": [
    "Настройки отображения графиков:"
   ]
  },
  {
   "cell_type": "code",
   "execution_count": 2,
   "metadata": {
    "collapsed": false
   },
   "outputs": [],
   "source": [
    "%matplotlib inline\n",
    "plt.style.use('fivethirtyeight') # The most fanciest styles are 'ggplot' and 'fivethirtyeight'\n",
    "# All available styles may be checked by\n",
    "#print plt.style.available"
   ]
  },
  {
   "cell_type": "code",
   "execution_count": 3,
   "metadata": {
    "collapsed": false
   },
   "outputs": [],
   "source": [
    "class sp_500():\n",
    "    sector_tickers = {}\n",
    "    symbols = []\n",
    "    \n",
    "    def __init__(self):\n",
    "        self.symbols = []\n",
    "        self.sector_tickers = dict()\n",
    "        \n",
    "        site = \"http://en.wikipedia.org/wiki/List_of_S%26P_500_companies\"\n",
    "        hdr = {'User-Agent': 'Mozilla/5.0'}\n",
    "        req = urllib2.Request(site, headers=hdr)\n",
    "        page = urllib2.urlopen(req)\n",
    "        soup = BeautifulSoup(page)\n",
    "\n",
    "        table = soup.find('table', {'class': 'wikitable sortable'})\n",
    "    \n",
    "        for row in table.findAll('tr'):\n",
    "            col = row.findAll('td')\n",
    "            if len(col) > 0:\n",
    "                sector = str(col[3].string.strip()).lower().replace(' ', '_')\n",
    "                ticker = str(col[0].string.strip())\n",
    "                date = str(col[6]).replace('<td>', '').replace('</td>', '')\n",
    "                #if date < historical_end_date:\n",
    "                if sector not in self.sector_tickers:\n",
    "                    self.sector_tickers[sector] = list()\n",
    "                self.sector_tickers[sector].append(ticker)\n",
    "                self.symbols.append(ticker)\n",
    "        \n",
    "       \n",
    "    # Show sectors summary\n",
    "    def sectors(self):\n",
    "        for s in self.sector_tickers:\n",
    "            print s + ': ' + str(len(self.sector_tickers[s])) + ' companies'\n",
    "            \n",
    "    # Show the sector summary and companies in it\n",
    "    def show(self, sector = None):\n",
    "        if sector == None:\n",
    "            self.sectors()\n",
    "        else:\n",
    "            print sector + ' sector of S&P500\\n' + str(len(self.sector_tickers[sector])) + ' companies:'\n",
    "            print self.sector_tickers[sector]\n",
    "    \n",
    "    # Get the company symbols\n",
    "    def get(self, sector = None):\n",
    "        symbols = []\n",
    "        if sector == None:\n",
    "            # Get the companies from all S&P500 sectors\n",
    "            for s in self.sector_tickers:\n",
    "                print s + ': ' + str(len(self.sector_tickers[s])) + ' companies'\n",
    "        else:\n",
    "            # Get the companies from the given sector\n",
    "            for sym in self.sector_tickers[sector]:\n",
    "                symbols.append(sym)\n",
    "        return symbols\n",
    "    \n",
    "    # Get random number of stocks\n",
    "    def random(self, num):\n",
    "        return random.sample(self.symbols, num)"
   ]
  },
  {
   "cell_type": "code",
   "execution_count": 38,
   "metadata": {
    "collapsed": false
   },
   "outputs": [],
   "source": [
    "class portfolio:\n",
    "    data = [] # storing stock prices for the companies in the portfolio\n",
    "    gspc = [] # storing S&P500 index prices for the given period\n",
    "    returns = []\n",
    "    start_prices = []\n",
    "    end_prices = []\n",
    "    \n",
    "    min_return = 0.0 # minimal return value \n",
    "    max_return = 1.2 # maximum return value\n",
    "    step = 100 \n",
    "    threshold = 0.01 # the companies with weights below this value are not included in portfolio\n",
    "    \n",
    "    # Constructor\n",
    "    def __init__(self, _symbols, _start, _end, _risk, _weights = None):\n",
    "        # Initializing data\n",
    "        self.data = pd.DataFrame()\n",
    "        self.gspc = pd.DataFrame()\n",
    "        self.num_of_days = 0\n",
    "        self.feasible_returns = []\n",
    "        self.feasible_volatilities = []\n",
    "        self.feasible_weights = []\n",
    "    \n",
    "        self.effective_volatilities = []\n",
    "        self.effective_returns = []\n",
    "        self.effective_weights = []\n",
    "        \n",
    "        self.symbols = []\n",
    "        self.sharpe_symbols = []\n",
    "        self.min_variance_symbols = []\n",
    "        \n",
    "        # \n",
    "        self.symbols = _symbols\n",
    "        self.start = _start\n",
    "        self.end = _end\n",
    "        self.max_risk = _risk\n",
    "        \n",
    "        self.fetch()\n",
    "        self.set_returns() \n",
    "        self.set_start_end_prices()\n",
    "        \n",
    "        if _weights != None:\n",
    "            self.fetch_sp500()\n",
    "            self.test(_weights)\n",
    "            self.show_sp500()\n",
    "    \n",
    "    # Get percent-view of an number (-24.5% instead of -0.245)\n",
    "    def percent(self, i):\n",
    "        formatted = str(i.round(3) * 100) + '%'\n",
    "        if i > 0:\n",
    "            formatted = '+' + formatted\n",
    "        return formatted\n",
    "    \n",
    "    #\n",
    "    def set_days(self):\n",
    "        for sym in self.symbols:\n",
    "            if len(self.data[sym]) == self.num_of_days:\n",
    "                start = str( re.split(' ', str(self.data[sym].axes[0][0]))[0])\n",
    "                end = str( re.split(' ', str(self.data[sym].axes[0][-1]))[0])\n",
    "                if self.start != start or self.end != end:\n",
    "                    self.start = start\n",
    "                    self.end = end\n",
    "                    print '\\nInvestment period adjusted to ' + self.start + ' - ' + self.end\n",
    "                return\n",
    "            \n",
    "        print 'Error setting investment period'\n",
    "        return            \n",
    "    \n",
    "    # Вычисление логарифмически нормализованых доходностей (отношения уровня закрытия текущего дня к предыдущему) за исторический период   \n",
    "    def set_returns(self):\n",
    "        self.returns = np.log(self.data / self.data.shift(1))\n",
    "    \n",
    "    # \n",
    "    def set_start_end_prices(self):\n",
    "        self.start_prices = []\n",
    "        self.end_prices = []\n",
    "        for sym in self.symbols:\n",
    "            self.start_prices.append(self.data[sym][self.start])\n",
    "            self.end_prices.append(self.data[sym][self.end])\n",
    "    \n",
    "    # Retrieving stock prices\n",
    "    def fetch(self):\n",
    "        fetched_symbols = []\n",
    "        for sym in self.symbols:\n",
    "            try:\n",
    "                self.data[sym]  = web.DataReader(sym, data_source='yahoo', start=self.start, end=self.end)['Adj Close']\n",
    "                #self.data[sym]  = web.DataReader(sym, data_source='google', start=self.start, end=self.end)['Close']\n",
    "                fetched_symbols.append(sym)   \n",
    "                if self.data[sym].size > self.num_of_days:\n",
    "                    self.num_of_days = self.data[sym].size\n",
    "            except IOError:\n",
    "                print sym + ': no data available for requested period'\n",
    "                continue\n",
    "                \n",
    "        self.data.column = fetched_symbols\n",
    "        \n",
    "        for sym in self.symbols:\n",
    "            if sym not in fetched_symbols:\n",
    "                self.symbols.remove(sym)\n",
    "\n",
    "        self.set_days()\n",
    "        print 'Data fetched for ' + str(len(self.symbols)) + ' symbols and '+ str(self.num_of_days)  + ' trading days'\n",
    "        return\n",
    "    \n",
    "    # Retrieving data for S&P500 index:\n",
    "    def fetch_sp500(self):\n",
    "        self.gspc = web.DataReader('^GSPC', data_source='yahoo', start=self.start, end=self.end)['Adj Close']\n",
    "        self.gspc.column = '^GSPC'\n",
    "        \n",
    "    #\n",
    "    def show(self, weights):\n",
    "        print \"Investment period: \" + self.start + \" - \" + self.end\n",
    "        print \"Risk limit: \" + str(self.max_risk)\n",
    "        \n",
    "        print \"Portfolio volatility: \" + str( self.statistics(weights)[0].round(3) )\n",
    "        print \"Portfolio return: \" + str( self.statistics(weights)[1].round(3) )   \n",
    "        print \"Sharpe ratio: \"  + str( self.statistics(weights)[2].round(3) )  \n",
    "        \n",
    "        print \"Portfolio weights:\"    \n",
    "        for sym, w in zip(self.symbols, weights):\n",
    "            if w > self.threshold:\n",
    "                print sym + ': ' + str(w.round(3))\n",
    "    \n",
    "    # Show the line with symbol statistics\n",
    "    # AAPL: 67.802 -> 72.73 (+7.3%)\n",
    "    def show_symbol(self, sym, start_price, end_price, return_rate):\n",
    "        print sym + ': ' + str(start_price.round(3)) + ' -> ' + str(end_price.round(3)) + ' (' + self.percent(return_rate) + ')'\n",
    "    \n",
    "    #\n",
    "    def show_sp500(self):\n",
    "        start = self.gspc[self.start]\n",
    "        end = self.gspc[self.end]\n",
    "        return_rate = (end - start) / start\n",
    "        self.show_symbol('S&P500', start, end, return_rate)\n",
    "\n",
    "    #\n",
    "    def test(self, weights):     \n",
    "        portfolio_start = 0\n",
    "        portfolio_end = 0\n",
    "        \n",
    "        for s, sp, ep, w in zip(self.symbols, self.start_prices, self.end_prices, weights):\n",
    "            ret = (ep - sp) / sp  \n",
    "            portfolio_start = portfolio_start + sp * w\n",
    "            portfolio_end = portfolio_end + ep * w\n",
    "            self.show_symbol(s, sp, ep, ret)\n",
    "            \n",
    "        portfolio_return = (portfolio_end - portfolio_start) / portfolio_start\n",
    "        print '\\nPortfolio return: ' + self.percent(portfolio_return)\n",
    "        \n",
    "        return\n",
    "    \n",
    "    #\n",
    "    def calc(self):\n",
    "        self.get_effective_set()\n",
    "        print '\\nThe highest Sharpe ratio portfolio: '\n",
    "        self.show( self.get_max_sharpe_weights() )\n",
    "        \n",
    "        print '\\nThe minimal variance porfolio: '\n",
    "        self.show( self.get_min_variance_weights() )\n",
    "        \n",
    "    \n",
    "    # \n",
    "    def get_risky(self):\n",
    "        if len(self.sharpe_symbols) > 0:\n",
    "            return self.sharpe_symbols, self.sharpe_weights\n",
    "        else:\n",
    "            print 'The optimal portfolio is not calculated. Run calc() first'\n",
    "            \n",
    "    #\n",
    "    def get_conservative(self):\n",
    "        if len(self.min_variance_symbols) > 0:\n",
    "            return self.min_variance_symbols, self.min_variance_weights\n",
    "        else:\n",
    "            print 'The optimal portfolio is not calculated. Run calc() first'\n",
    "        return\n",
    "    \n",
    "    # Вычисление эффективного множества (effective set)\n",
    "    def get_effective_set(self):\n",
    "        self.effective_volatilities = []\n",
    "        self.effective_returns = []\n",
    "        self.effective_weights = []\n",
    "    \n",
    "        cons = ({'type': 'eq', 'fun': lambda x: np.sum(x) - 1})\n",
    "        bnds = tuple((0, 1) for x in range(len(self.symbols)))\n",
    "\n",
    "        for y in np.linspace(self.min_return, self.max_return, self.step):\n",
    "            cons = ({'type': 'eq', 'fun': lambda x: self.statistics(x)[1] - y}, {'type': 'eq', 'fun': lambda x: np.sum(x) - 1})\n",
    "            result = sco.minimize(self.min_volatility, len(self.symbols) * [1. / len(self.symbols),], method='SLSQP', bounds=bnds, constraints=cons)\n",
    "            if result['fun'] <= self.max_risk:\n",
    "                self.effective_volatilities.append(result['fun'])\n",
    "                self.effective_returns.append(y)\n",
    "                self.effective_weights.append(result['x'])\n",
    "    \n",
    "        self.effective_volatilities = np.array(self.effective_volatilities)\n",
    "        self.effective_returns = np.array(self.effective_returns)\n",
    "        self.effective_weights = np.array(self.effective_weights)\n",
    "\n",
    "    # Функция, получающая веса бумаг в портфеле в качестве входных параметров, и возвращающая массив \n",
    "    # данных о портфеле в формате [волатильность, доходность, коэффициент Шарпа]\n",
    "    def statistics(self, weights):\n",
    "        weights = np.array(weights)\n",
    "        portfolio_return = self.get_portfolio_return(weights)\n",
    "        portfolio_volatility = np.sqrt(np.dot(weights.T, np.dot(self.returns.cov() * self.num_of_days, weights)))\n",
    "    \n",
    "        return np.array([portfolio_volatility, portfolio_return, portfolio_return / portfolio_volatility])\n",
    "    \n",
    "    # Функция вычисления минимального отклонения\n",
    "    def min_volatility(self, weights):\n",
    "        return self.statistics(weights)[0]\n",
    "    \n",
    "    # Функция вычисления доходности портфеля\n",
    "    def get_portfolio_return(self, weights):\n",
    "        portfolio_start_price = 0\n",
    "        portfolio_end_price = 0\n",
    "\n",
    "        for w, sp, ep in zip(weights, self.start_prices, self.end_prices):\n",
    "            portfolio_start_price = portfolio_start_price + w * sp\n",
    "            portfolio_end_price = portfolio_end_price + w * ep\n",
    "        \n",
    "        try:\n",
    "            return ((portfolio_end_price - portfolio_start_price) / portfolio_start_price)\n",
    "        except ZeroDivisionError:\n",
    "            print 'Zero division exception'\n",
    "            print weights\n",
    "            return 0\n",
    "        #return np.sum(returns.mean() * weights) * num_of_days\n",
    "    \n",
    "    # Функция вычисления портфеля с максимальным коэффицентом Шарпа (отношением доходность/волатильность)\n",
    "    def get_max_sharpe_weights(self):\n",
    "        max_sharpe = 0\n",
    "        weights = []\n",
    "        for r, v, w in zip(self.effective_returns, self.effective_volatilities, self.effective_weights):\n",
    "            if r / v > max_sharpe:\n",
    "                max_sharpe =  r / v\n",
    "                weights = w\n",
    "                \n",
    "        self.sharpe_symbols = []\n",
    "        self.sharpe_weights = []\n",
    "        for sym, w in zip(self.symbols, weights):\n",
    "            if w > self.threshold:\n",
    "                self.sharpe_symbols.append(sym)\n",
    "                self.sharpe_weights.append(w.round(3)) # FIXME: shoudn't round value maybe\n",
    "        \n",
    "        return weights\n",
    "    \n",
    "    #\n",
    "    def get_min_variance_weights(self):\n",
    "        min_variance = 10\n",
    "        weights = []\n",
    "        for v, w in zip(self.effective_volatilities, self.effective_weights):\n",
    "            if v < min_variance:\n",
    "                min_variance =  v\n",
    "                weights = w\n",
    "                \n",
    "        self.min_variance_symbols = []\n",
    "        self.min_variance_weights = []\n",
    "        for sym, w in zip(self.symbols, weights):\n",
    "            if w.round(3) > 0.001:\n",
    "                self.min_variance_symbols.append(sym)\n",
    "                self.min_variance_weights.append(w.round(3)) # FIXME: shoudn't round value maybe\n",
    "\n",
    "        return weights\n",
    "    \n",
    "    def plot(self):\n",
    "        plt.figure(figsize=(12, 6))\n",
    "\n",
    "        x_sharpe = self.statistics(self.get_max_sharpe_weights())[0]\n",
    "        y_sharpe = self.statistics(self.get_max_sharpe_weights())[1]\n",
    "\n",
    "        x_min_vol = self.statistics(self.get_min_variance_weights())[0]\n",
    "        y_min_vol = self.statistics(self.get_min_variance_weights())[1]\n",
    "\n",
    "        #plt.scatter(feasible_volatilities, feasible_returns, c = feasible_returns / feasible_volatilities, marker='o')\n",
    "        plt.scatter(self.effective_volatilities, self.effective_returns, c = self.effective_returns / self.effective_volatilities, marker='x')\n",
    "        plt.plot(x_sharpe, y_sharpe, 'rs', markersize=8.0) # portfolio with highest Sharpe ratio\n",
    "        plt.plot(x_min_vol, y_min_vol, 'ys', markersize=8.0) # portfolio with highest Sharpe ratio\n",
    "\n",
    "        plt.colorbar(label='Sharpe ratio')\n",
    "        plt.xlabel(r'$\\sigma_p$')\n",
    "        plt.ylabel(r'$\\bar{r_p}$')\n",
    "        "
   ]
  },
  {
   "cell_type": "markdown",
   "metadata": {},
   "source": [
    "Получение наименования компаний, входящих в S&P500 на данный момент (в момент запуска) "
   ]
  },
  {
   "cell_type": "code",
   "execution_count": 5,
   "metadata": {
    "collapsed": false,
    "scrolled": false
   },
   "outputs": [
    {
     "name": "stderr",
     "output_type": "stream",
     "text": [
      "/usr/lib/python2.7/site-packages/bs4/__init__.py:166: UserWarning: No parser was explicitly specified, so I'm using the best available HTML parser for this system (\"lxml\"). This usually isn't a problem, but if you run this code on another system, or in a different virtual environment, it may use a different parser and behave differently.\n",
      "\n",
      "To get rid of this warning, change this:\n",
      "\n",
      " BeautifulSoup([your markup])\n",
      "\n",
      "to this:\n",
      "\n",
      " BeautifulSoup([your markup], \"lxml\")\n",
      "\n",
      "  markup_type=markup_type))\n"
     ]
    }
   ],
   "source": [
    "sp500 = sp_500()"
   ]
  },
  {
   "cell_type": "code",
   "execution_count": 6,
   "metadata": {
    "collapsed": false
   },
   "outputs": [
    {
     "name": "stdout",
     "output_type": "stream",
     "text": [
      "industrials: 67 companies\n",
      "energy: 41 companies\n",
      "consumer_discretionary: 85 companies\n",
      "utilities: 29 companies\n",
      "telecommunications_services: 5 companies\n",
      "materials: 27 companies\n",
      "health_care: 56 companies\n",
      "consumer_staples: 38 companies\n",
      "financials: 89 companies\n",
      "information_technology: 67 companies\n"
     ]
    }
   ],
   "source": [
    "sp500.sectors()"
   ]
  },
  {
   "cell_type": "code",
   "execution_count": 7,
   "metadata": {
    "collapsed": false
   },
   "outputs": [
    {
     "data": {
      "text/plain": [
       "['CNP', 'ADP', 'PHM']"
      ]
     },
     "execution_count": 7,
     "metadata": {},
     "output_type": "execute_result"
    }
   ],
   "source": [
    "sp500.random(3)"
   ]
  },
  {
   "cell_type": "code",
   "execution_count": 8,
   "metadata": {
    "collapsed": false
   },
   "outputs": [
    {
     "name": "stdout",
     "output_type": "stream",
     "text": [
      "industrials sector of S&P500\n",
      "67 companies:\n",
      "['MMM', 'ADT', 'ALLE', 'AAL', 'AME', 'APH', 'BA', 'CHRW', 'CAT', 'CTAS', 'GLW', 'CSX', 'CMI', 'DHR', 'DE', 'DAL', 'DOV', 'DNB', 'ETN', 'EMR', 'EXPD', 'FAST', 'FDX', 'FLIR', 'FLS', 'FLR', 'GD', 'GE', 'GWW', 'HON', 'ITW', 'IR', 'IRM', 'JEC', 'JBHT', 'KSU', 'LLL', 'LEG', 'LMT', 'MAS', 'NLSN', 'NSC', 'NOC', 'PCAR', 'PH', 'PNR', 'PBI', 'PWR', 'RTN', 'RSG', 'RHI', 'ROK', 'COL', 'ROP', 'R', 'LUV', 'SRCL', 'TXT', 'TYC', 'UNP', 'UAL', 'UPS', 'URI', 'UTX', 'VRSK', 'WM', 'XYL']\n"
     ]
    }
   ],
   "source": [
    "sp500.show('industrials')"
   ]
  },
  {
   "cell_type": "code",
   "execution_count": 40,
   "metadata": {
    "collapsed": false
   },
   "outputs": [
    {
     "name": "stdout",
     "output_type": "stream",
     "text": [
      "BXLT: no data available for requested period\n",
      "\n",
      "Investment period adjusted to 2013-01-02 - 2014-12-31\n",
      "Data fetched for 29 symbols and 504 trading days\n"
     ]
    }
   ],
   "source": [
    "max_risk = 0.2\n",
    "#p = portfolio(sp500.get('telecommunications_services'), '2014-01-01', '2015-01-01', max_risk)\n",
    "p = portfolio(sp500.random(30), '2013-01-01', '2015-01-01', max_risk)"
   ]
  },
  {
   "cell_type": "markdown",
   "metadata": {},
   "source": [
    "Вычисление оптимальных портфелей"
   ]
  },
  {
   "cell_type": "code",
   "execution_count": null,
   "metadata": {
    "collapsed": false
   },
   "outputs": [],
   "source": [
    "p.calc()"
   ]
  },
  {
   "cell_type": "code",
   "execution_count": 27,
   "metadata": {
    "collapsed": false
   },
   "outputs": [
    {
     "data": {
      "image/png": "[encoded data removed]",
      "text/plain": [
       "<matplotlib.figure.Figure at 0x7f8fc8af9ed0>"
      ]
     },
     "metadata": {},
     "output_type": "display_data"
    }
   ],
   "source": [
    "p.plot()"
   ]
  },
  {
   "cell_type": "markdown",
   "metadata": {},
   "source": [
    "Оптимальный портфель (портфель с максимальным коэффициентом Шарпа):"
   ]
  },
  {
   "cell_type": "code",
   "execution_count": 13,
   "metadata": {
    "collapsed": false
   },
   "outputs": [],
   "source": [
    "#p.get_risky()"
   ]
  },
  {
   "cell_type": "markdown",
   "metadata": {},
   "source": [
    "Оптимальный портфель (портфель с наименьшей волатильностью)"
   ]
  },
  {
   "cell_type": "code",
   "execution_count": 14,
   "metadata": {
    "collapsed": false
   },
   "outputs": [],
   "source": [
    "#p.get_conservative()"
   ]
  },
  {
   "cell_type": "markdown",
   "metadata": {},
   "source": [
    "Проверяем доходности двух полученных оптимальных портфелей на нужном промежутке времени"
   ]
  },
  {
   "cell_type": "code",
   "execution_count": 39,
   "metadata": {
    "collapsed": false,
    "scrolled": false
   },
   "outputs": [
    {
     "name": "stdout",
     "output_type": "stream",
     "text": [
      "Data fetched for 5 symbols and 33 trading days\n",
      "AVY: 61.67 -> 65.03 (+5.4%)\n",
      "ENDP: 59.35 -> 50.44 (-15.0%)\n",
      "ADSK: 60.39 -> 50.35 (-16.6%)\n",
      "GILD: 99.26 -> 89.1 (-10.2%)\n",
      "CVX: 88.488 -> 88.82 (+0.4%)\n",
      "\n",
      "Portfolio return: -2.0%\n",
      "S&P500: 2016.71 -> 1945.5 (-3.5%)\n"
     ]
    }
   ],
   "source": [
    "r = portfolio(p.get_risky()[0], '2016-01-05', '2016-02-22', None, p.get_risky()[1])"
   ]
  },
  {
   "cell_type": "code",
   "execution_count": 14,
   "metadata": {
    "collapsed": false
   },
   "outputs": [
    {
     "name": "stdout",
     "output_type": "stream",
     "text": [
      "\n",
      "Investment period adjusted to 2015-01-02 - 2015-12-31\n",
      "Data fetched for 15 symbols and 252 trading days\n",
      "IBM: 155.348 -> 136.228 (-12.3%)\n",
      "BAX: 38.969 -> 38.15 (-2.1%)\n",
      "TE: 19.593 -> 26.426 (+34.9%)\n",
      "FLIR: 31.608 -> 27.959 (-11.5%)\n",
      "DISCK: 33.44 -> 25.22 (-24.6%)\n",
      "MYL: 56.35 -> 54.07 (-4.0%)\n",
      "TGT: 72.623 -> 72.012 (-0.8%)\n",
      "CMG: 678.4 -> 479.85 (-29.3%)\n",
      "RTN: 105.378 -> 123.86 (+17.5%)\n",
      "PG: 86.817 -> 78.724 (-9.3%)\n",
      "AEE: 44.127 -> 43.23 (-2.0%)\n",
      "EFX: 80.399 -> 111.37 (+38.5%)\n",
      "MKC: 72.48 -> 85.56 (+18.0%)\n",
      "AIV: 36.4 -> 39.669 (+9.0%)\n",
      "WFC: 52.851 -> 53.943 (+2.1%)\n",
      "\n",
      "Portfolio return: -4.9%\n"
     ]
    }
   ],
   "source": [
    "c = portfolio(p.get_conservative()[0], '2015-01-01', '2016-01-01', None, p.get_conservative()[1])"
   ]
  },
  {
   "cell_type": "code",
   "execution_count": 36,
   "metadata": {
    "collapsed": false
   },
   "outputs": [
    {
     "name": "stdout",
     "output_type": "stream",
     "text": [
      "Date\n",
      "2016-01-26    1903.630005\n",
      "2016-01-27    1882.949951\n",
      "2016-01-28    1893.359985\n",
      "2016-01-29    1940.239990\n",
      "2016-02-01    1939.380005\n",
      "2016-02-02    1903.030029\n",
      "2016-02-03    1912.530029\n",
      "2016-02-04    1915.449951\n",
      "2016-02-05    1880.050049\n",
      "2016-02-08    1853.439941\n",
      "2016-02-09    1852.209961\n",
      "2016-02-10    1851.859985\n",
      "2016-02-11    1829.079956\n",
      "2016-02-12    1864.780029\n",
      "2016-02-16    1895.579956\n",
      "2016-02-17    1926.819946\n",
      "2016-02-18    1917.829956\n",
      "2016-02-19    1917.780029\n",
      "2016-02-22    1945.500000\n",
      "Name: Adj Close, dtype: float64\n"
     ]
    }
   ],
   "source": [
    "data = web.DataReader('^GSPC', data_source='yahoo', start='2016-01-26', end='2016-02-22')['Adj Close']\n",
    "print data"
   ]
  },
  {
   "cell_type": "markdown",
   "metadata": {},
   "source": []
  }
 ],
 "metadata": {
  "kernelspec": {
   "display_name": "Python 2",
   "language": "python",
   "name": "python2"
  },
  "language_info": {
   "codemirror_mode": {
    "name": "ipython",
    "version": 2
   },
   "file_extension": ".py",
   "mimetype": "text/x-python",
   "name": "python",
   "nbconvert_exporter": "python",
   "pygments_lexer": "ipython2",
   "version": "2.7.10"
  }
 },
 "nbformat": 4,
 "nbformat_minor": 0
}
