{
 "cells": [
  {
   "cell_type": "markdown",
   "metadata": {},
   "source": [
    "Анализ ПИФа \"Сбербанк Америка\" и его сравнение c benchmark portfolio "
   ]
  },
  {
   "cell_type": "code",
   "execution_count": 2,
   "metadata": {
    "collapsed": false
   },
   "outputs": [
    {
     "name": "stderr",
     "output_type": "stream",
     "text": [
      "/usr/lib64/python2.7/site-packages/pandas/io/data.py:33: FutureWarning: \n",
      "The pandas.io.data module is moved to a separate package (pandas-datareader) and will be removed from pandas in a future version.\n",
      "After installing the pandas-datareader package (https://github.com/pydata/pandas-datareader), you can change the import ``from pandas.io import data, wb`` to ``from pandas_datareader import data, wb``.\n",
      "  FutureWarning)\n"
     ]
    }
   ],
   "source": [
    "import csv\n",
    "import datetime\n",
    "import matplotlib.pyplot as plt\n",
    "import numpy as np\n",
    "import pandas as pd\n",
    "import pandas.io.data as web\n",
    "from dbfpy import dbf\n",
    "import xlrd"
   ]
  },
  {
   "cell_type": "code",
   "execution_count": 3,
   "metadata": {
    "collapsed": false
   },
   "outputs": [],
   "source": [
    "%matplotlib inline\n",
    "plt.style.use('bmh') # The most fanciest styles are 'ggplot' and 'fivethirtyeight'\n",
    "# All available styles may be checked by\n",
    "#print plt.style.available"
   ]
  },
  {
   "cell_type": "code",
   "execution_count": 4,
   "metadata": {
    "collapsed": true
   },
   "outputs": [],
   "source": [
    "usdratefilename = 'R01235.dbf'"
   ]
  },
  {
   "cell_type": "code",
   "execution_count": 5,
   "metadata": {
    "collapsed": true
   },
   "outputs": [],
   "source": [
    "def get_rate(date):\n",
    "    try:\n",
    "        return usdrates[date]\n",
    "    except KeyError:\n",
    "        return get_rate(date-datetime.timedelta(1))"
   ]
  },
  {
   "cell_type": "markdown",
   "metadata": {},
   "source": [
    "Парсинг исторических значений курса доллара к рублю"
   ]
  },
  {
   "cell_type": "code",
   "execution_count": 6,
   "metadata": {
    "collapsed": false
   },
   "outputs": [],
   "source": [
    "usdrates = {}\n",
    "db = dbf.Dbf(usdratefilename)\n",
    "for rec in db:\n",
    "    date = rec[0]\n",
    "    rate = float(rec[2])\n",
    "    usdrates[date]=rate"
   ]
  },
  {
   "cell_type": "markdown",
   "metadata": {},
   "source": [
    "Парсинг исторических данных ПИФа Райффайзена:"
   ]
  },
  {
   "cell_type": "code",
   "execution_count": 7,
   "metadata": {
    "collapsed": true
   },
   "outputs": [],
   "source": [
    "raiffdatafilename = \"01.01.2007-03.03.2016.xls\""
   ]
  },
  {
   "cell_type": "code",
   "execution_count": 8,
   "metadata": {
    "collapsed": false
   },
   "outputs": [
    {
     "name": "stdout",
     "output_type": "stream",
     "text": [
      "WARNING *** OLE2 inconsistency: SSCS size is 0 but SSAT size is non-zero\n",
      "2007-01-09\n",
      "2006-12-29\n"
     ]
    }
   ],
   "source": [
    "raiff_dates = []\n",
    "raiff_prices = []\n",
    "rb = xlrd.open_workbook(raiffdatafilename,formatting_info=True)\n",
    "sheet = rb.sheet_by_index(0)\n",
    "for rownum in range(sheet.nrows):\n",
    "    try:\n",
    "        row = sheet.row_values(rownum)\n",
    "        date = datetime.datetime.strptime(row[0], \"%d.%m.%Y\").date()\n",
    "        price = float(row[2])\n",
    "        usdprice = price / get_rate(date)\n",
    "        raiff_dates.append(date)\n",
    "        raiff_prices.append(usdprice)\n",
    "    except UnicodeEncodeError: # skip headers\n",
    "        continue\n",
    "    except RuntimeError:\n",
    "        print date\n",
    "    "
   ]
  },
  {
   "cell_type": "markdown",
   "metadata": {},
   "source": [
    "Парсинг исторических данных ПИФа Сбербанка:"
   ]
  },
  {
   "cell_type": "code",
   "execution_count": 9,
   "metadata": {
    "collapsed": false
   },
   "outputs": [],
   "source": [
    "csvfilename = 'Sberbank  America.csv'"
   ]
  },
  {
   "cell_type": "markdown",
   "metadata": {},
   "source": [
    "Данные фонда в формате csv могут быть взяты из \n",
    "http://www.sberbank-am.ru/rus/Individuals/Mutual_Funds/Federal/index.wbp"
   ]
  },
  {
   "cell_type": "code",
   "execution_count": 16,
   "metadata": {
    "collapsed": false
   },
   "outputs": [],
   "source": [
    "sber_dates = []\n",
    "sber_prices = []\n",
    "with open(csvfilename, 'rb') as csvfile:\n",
    "    datareader = csv.reader(csvfile, delimiter=';', quotechar='|')\n",
    "    for row, r in zip(datareader, usdrates) :\n",
    "        date = datetime.datetime.strptime(row[0], \"%d-%m-%y\").date()\n",
    "        price = float(row[1].replace(',','.'))\n",
    "        usdprice = price / get_rate(date)\n",
    "        sber_dates.append(date)\n",
    "        sber_prices.append(usdprice)\n",
    "        \n",
    "end_date = sber_dates[0]\n",
    "start_date = sber_dates[-1]"
   ]
  },
  {
   "cell_type": "code",
   "execution_count": 19,
   "metadata": {
    "collapsed": true
   },
   "outputs": [],
   "source": [
    "spy = pd.DataFrame()\n",
    "spy = web.DataReader('SPY', data_source='yahoo', start=start_date, end=end_date)['Adj Close']  "
   ]
  },
  {
   "cell_type": "code",
   "execution_count": 20,
   "metadata": {
    "collapsed": false
   },
   "outputs": [
    {
     "name": "stdout",
     "output_type": "stream",
     "text": [
      "Raiff price at 2007-01-10: 384.915584293 USD\n",
      "Sber price at 2007-01-10: 37.8080275273 USD\n",
      "SPDR ETF price at 2007-01-10: 117.415864 USD\n"
     ]
    }
   ],
   "source": [
    "print 'Raiff price at ' + str(raiff_dates[-1]) + ': ' + str(raiff_prices[-1]) + ' USD'\n",
    "print 'Sber price at ' + str(sber_dates[-1]) + ': ' + str(sber_prices[-1]) + ' USD'\n",
    "print 'SPDR ETF price at ' + str(start_date) + ': ' + str(spy[0]) + ' USD'"
   ]
  },
  {
   "cell_type": "markdown",
   "metadata": {},
   "source": [
    "Т.к. цена за пай сбера и райффа отличаются, нормализуем их друг относительно друга:"
   ]
  },
  {
   "cell_type": "code",
   "execution_count": 21,
   "metadata": {
    "collapsed": false
   },
   "outputs": [
    {
     "name": "stdout",
     "output_type": "stream",
     "text": [
      "10.1807898869\n"
     ]
    }
   ],
   "source": [
    "sber_raiff_rate = raiff_prices[-1]/sber_prices[-1]\n",
    "print sber_raiff_rate"
   ]
  },
  {
   "cell_type": "markdown",
   "metadata": {},
   "source": [
    "sber_raiff_rate показывает, за сколько паев Сбера можно купить 1 пай Райффа"
   ]
  },
  {
   "cell_type": "code",
   "execution_count": 22,
   "metadata": {
    "collapsed": true
   },
   "outputs": [],
   "source": [
    "sber_prices_adj = [] \n",
    "for p in sber_prices: \n",
    "    sber_prices_adj.append(p * sber_raiff_rate)"
   ]
  },
  {
   "cell_type": "markdown",
   "metadata": {},
   "source": [
    "Нормализуем долларовые цены SPDR SP500 ETF относительно райффа"
   ]
  },
  {
   "cell_type": "code",
   "execution_count": 23,
   "metadata": {
    "collapsed": false
   },
   "outputs": [
    {
     "name": "stdout",
     "output_type": "stream",
     "text": [
      "3.27822468941\n"
     ]
    }
   ],
   "source": [
    "spdr_raiff_rate = raiff_prices[-1]/spy[0]\n",
    "print spdr_raiff_rate"
   ]
  },
  {
   "cell_type": "code",
   "execution_count": 24,
   "metadata": {
    "collapsed": false
   },
   "outputs": [
    {
     "data": {
      "text/plain": [
       "<matplotlib.axes._subplots.AxesSubplot at 0x7f2a2b592310>"
      ]
     },
     "execution_count": 24,
     "metadata": {},
     "output_type": "execute_result"
    },
    {
     "data": {
      "image/png": "[encoded data removed]",
      "text/plain": [
       "<matplotlib.figure.Figure at 0x7f2a2b592a90>"
      ]
     },
     "metadata": {},
     "output_type": "display_data"
    }
   ],
   "source": [
    "plt.figure(figsize=(12, 6))\n",
    "plt.plot(sber_dates, sber_prices_adj, color='green')\n",
    "plt.plot(raiff_dates, raiff_prices, color='yellow')\n",
    "(spy * spdr_raiff_rate).plot(color='red')"
   ]
  },
  {
   "cell_type": "code",
   "execution_count": 25,
   "metadata": {
    "collapsed": false
   },
   "outputs": [
    {
     "data": {
      "text/plain": [
       "654.92372517144304"
      ]
     },
     "execution_count": 25,
     "metadata": {},
     "output_type": "execute_result"
    }
   ],
   "source": [
    "spy[-1]*spdr_raiff_rate"
   ]
  },
  {
   "cell_type": "code",
   "execution_count": 26,
   "metadata": {
    "collapsed": false
   },
   "outputs": [
    {
     "data": {
      "text/plain": [
       "471.0026132214881"
      ]
     },
     "execution_count": 26,
     "metadata": {},
     "output_type": "execute_result"
    }
   ],
   "source": [
    "raiff_prices[0]"
   ]
  },
  {
   "cell_type": "code",
   "execution_count": 27,
   "metadata": {
    "collapsed": false
   },
   "outputs": [
    {
     "data": {
      "text/plain": [
       "195.4446828538526"
      ]
     },
     "execution_count": 27,
     "metadata": {},
     "output_type": "execute_result"
    }
   ],
   "source": [
    "sber_prices[0] * sber_raiff_rate"
   ]
  },
  {
   "cell_type": "code",
   "execution_count": 28,
   "metadata": {
    "collapsed": false
   },
   "outputs": [
    {
     "data": {
      "text/plain": [
       "datetime.date(2016, 3, 3)"
      ]
     },
     "execution_count": 28,
     "metadata": {},
     "output_type": "execute_result"
    }
   ],
   "source": [
    "sber_dates[0]"
   ]
  },
  {
   "cell_type": "code",
   "execution_count": 29,
   "metadata": {
    "collapsed": false
   },
   "outputs": [
    {
     "data": {
      "text/plain": [
       "datetime.date(2016, 3, 3)"
      ]
     },
     "execution_count": 29,
     "metadata": {},
     "output_type": "execute_result"
    }
   ],
   "source": [
    "raiff_dates[0]"
   ]
  },
  {
   "cell_type": "code",
   "execution_count": null,
   "metadata": {
    "collapsed": true
   },
   "outputs": [],
   "source": []
  }
 ],
 "metadata": {
  "kernelspec": {
   "display_name": "Python 2",
   "language": "python",
   "name": "python2"
  },
  "language_info": {
   "codemirror_mode": {
    "name": "ipython",
    "version": 2
   },
   "file_extension": ".py",
   "mimetype": "text/x-python",
   "name": "python",
   "nbconvert_exporter": "python",
   "pygments_lexer": "ipython2",
   "version": "2.7.10"
  }
 },
 "nbformat": 4,
 "nbformat_minor": 0
}
